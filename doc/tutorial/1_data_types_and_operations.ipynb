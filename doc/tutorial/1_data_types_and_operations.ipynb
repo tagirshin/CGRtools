{
 "cells": [
  {
   "cell_type": "markdown",
   "metadata": {},
   "source": [
    "# 1. Data types and operations with them\n",
    "\n",
    "- (c) 2019, 2020 Dr. Ramil Nugmanov;\n",
    "- (c) 2019 Dr. Timur Madzhidov; Ravil Mukhametgaleev\n",
    "- (c) 2022 Valentina Afonina\n",
    "\n",
    "Installation instructions of CGRtools package information and tutorial's files see on `https://github.com/cimm-kzn/CGRtools` \n",
    "\n",
    "NOTE: Tutorial should be performed sequentially from the start. Random cell running will lead to unexpected results. "
   ]
  },
  {
   "cell_type": "code",
   "execution_count": 1,
   "metadata": {},
   "outputs": [
    {
     "name": "stdout",
     "output_type": "stream",
     "text": [
      "Welcome!\n"
     ]
    }
   ],
   "source": [
    "import pkg_resources\n",
    "if pkg_resources.get_distribution('CGRtools').version.split('.')[:2] != ['4', '1']:\n",
    "    print('WARNING. Tutorial was tested on 4.1 version of CGRtools')\n",
    "else:\n",
    "    print('Welcome!')"
   ]
  },
  {
   "cell_type": "code",
   "execution_count": 2,
   "metadata": {},
   "outputs": [],
   "source": [
    "# load data for tutorial\n",
    "from pickle import load\n",
    "from traceback import format_exc\n",
    "\n",
    "with open('molecules.dat', 'rb') as f:\n",
    "    molecules = load(f) # list of MoleculeContainer objects\n",
    "with open('reactions.dat', 'rb') as f:\n",
    "    reactions = load(f) # list of ReactionContainer objects\n",
    "\n",
    "m1, m2, m3, m4 = molecules # molecule\n",
    "m7 = m3.copy()\n",
    "m11 = m3.copy()\n",
    "m11.standardize()\n",
    "m7.standardize()\n",
    "r1 = reactions[0] # reaction\n",
    "m5 = r1.reactants[0]\n",
    "m8 = m7.substructure([4, 5, 6, 7, 8, 9])\n",
    "m10 =  r1.products[0].copy()"
   ]
  },
  {
   "cell_type": "markdown",
   "metadata": {},
   "source": [
    "CGRtools has subpackage *containers* with data structures classes:\n",
    "\n",
    "* *MoleculeContainer* - for molecular structure\n",
    "* *ReactionContainer* - for chemical reaction \n",
    "* *CGRContainer* - for Condensed Graph of Reaction\n",
    "* *QueryContainer* - queries for substructure search in molecules\n",
    "* *QueryCGRContainer* - queries for substructure search in CGRs"
   ]
  },
  {
   "cell_type": "code",
   "execution_count": 3,
   "metadata": {},
   "outputs": [],
   "source": [
    "from CGRtools.containers import * # import all containers"
   ]
  },
  {
   "cell_type": "markdown",
   "metadata": {},
   "source": [
    "## 1.1. MoleculeContainer\n",
    "Molecules are represented as undirected graphs. Molecules contain *Atom* objects and *Bond* objects.\n",
    "\n",
    "*Atom* objects are represented as dictionary with unique number for each atom as key.  \n",
    "\n",
    "*Bond* objects are stored as sparse matrix with adjacent atoms pair as keys for rows and columns.\n",
    "\n",
    "Hereafter, *atom number* is unique integer used to enumerate atoms in molecule. Please, don't confuse it with element number in Periodic Table, hereafter called *element number*.\n",
    "\n",
    "Methods for molecule handling and the arguments of *MoleculeContainer* are described below."
   ]
  },
  {
   "cell_type": "code",
   "execution_count": 4,
   "metadata": {},
   "outputs": [
    {
     "data": {
      "text/plain": [
       "{'cdid': '001'}"
      ]
     },
     "execution_count": 4,
     "metadata": {},
     "output_type": "execute_result"
    }
   ],
   "source": [
    "m1.meta # dictionary for molecule properties storage. For example, DTYPE/DATUM fields of SDF file are read into this dictionary"
   ]
  },
  {
   "cell_type": "code",
   "execution_count": 5,
   "metadata": {},
   "outputs": [
    {
     "data": {
      "image/svg+xml": [
       "<svg width=\"2.93cm\" height=\"1.66cm\" viewBox=\"-11.44 -0.76 2.93 1.66\" xmlns=\"http://www.w3.org/2000/svg\" version=\"1.1\">\n",
       "  <g>\n",
       "    <defs>\n",
       "      <mask id=\"mask-a9104e86-9f07-4613-bf1b-a08a1a3137c5\">\n",
       "        <rect x=\"-11.44\" y=\"-0.76\" width=\"2.93\" height=\"1.66\" fill=\"white\"/>\n",
       "        <g fill=\"black\">\n",
       "          <circle cx=\"-9.38\" cy=\"-0.14\" r=\"0.20\"/>\n",
       "        </g>\n",
       "        <g font-family=\"monospace\" stroke=\"black\">\n",
       "          <g font-family=\"sans-serif\" font-size=\"0.50\" stroke-width=\"0.05\">\n",
       "            <text x=\"-9.38\" y=\"-0.14\" dx=\"-0.20\" dy=\"0.20\">OH</text>\n",
       "          </g>\n",
       "          <g font-size=\"0.25\" stroke-width=\"0.03\">\n",
       "            <text x=\"-10.81\" y=\"-0.14\" dx=\"-0.05\" dy=\"0.20\" text-anchor=\"end\">3</text>\n",
       "            <text x=\"-10.10\" y=\"0.28\" dx=\"-0.05\" dy=\"0.20\" text-anchor=\"end\">4</text>\n",
       "            <text x=\"-9.38\" y=\"-0.14\" dx=\"-0.15\" dy=\"0.35\" text-anchor=\"end\">1</text>\n",
       "          </g>\n",
       "          <g font-family=\"monospace\" font-size=\"0.3\" stroke-width=\"0.03\">\n",
       "            <text x=\"-9.38\" y=\"-0.14\" dx=\"-0.05\" dy=\"-0.20\" text-anchor=\"end\">15</text>\n",
       "          </g>\n",
       "        </g>\n",
       "      </mask>\n",
       "    </defs>\n",
       "    <g fill=\"none\" stroke=\"black\" stroke-width=\"0.04\"  mask=\"url(#mask-a9104e86-9f07-4613-bf1b-a08a1a3137c5)\">\n",
       "      <line x1=\"-10.78\" y1=\"-0.19\" x2=\"-10.07\" y2=\"0.22\"/>\n",
       "      <line x1=\"-10.84\" y1=\"-0.09\" x2=\"-10.13\" y2=\"0.33\"/>\n",
       "      <line x1=\"-10.10\" y1=\"0.28\" x2=\"-9.38\" y2=\"-0.14\"/>\n",
       "    </g>\n",
       "    <g font-family=\"monospace\">\n",
       "      <g fill=\"#FF0D0D\" font-family=\"sans-serif\">\n",
       "        <text x=\"-9.38\" y=\"-0.14\" dx=\"-0.20\" dy=\"0.20\" font-size=\"0.50\">OH</text>\n",
       "      </g>\n",
       "      <g font-family=\"monospace\" fill=\"black\" font-size=\"0.30\">\n",
       "        <text x=\"-9.38\" y=\"-0.14\" dx=\"-0.05\" dy=\"-0.20\" text-anchor=\"end\">15</text>\n",
       "      </g>\n",
       "      <g fill=\"#0305A7\" font-size=\"0.25\">\n",
       "        <text x=\"-10.81\" y=\"-0.14\" dx=\"-0.05\" dy=\"0.20\" text-anchor=\"end\">3</text>\n",
       "        <text x=\"-10.10\" y=\"0.28\" dx=\"-0.05\" dy=\"0.20\" text-anchor=\"end\">4</text>\n",
       "        <text x=\"-9.38\" y=\"-0.14\" dx=\"-0.15\" dy=\"0.35\" text-anchor=\"end\">1</text>\n",
       "      </g>\n",
       "    </g>\n",
       "  </g>\n",
       "</svg>"
      ],
      "text/plain": [
       "<CGRtools.containers.molecule.MoleculeContainer at 0x7fb0bb3c6700>"
      ]
     },
     "execution_count": 5,
     "metadata": {},
     "output_type": "execute_result"
    }
   ],
   "source": [
    "m1 # MoleculeContainer supports depiction and graphic representation in Jupyter notebooks."
   ]
  },
  {
   "cell_type": "code",
   "execution_count": 6,
   "metadata": {},
   "outputs": [
    {
     "data": {
      "text/plain": [
       "'<svg width=\"2.93cm\" height=\"1.66cm\" viewBox=\"-11.44 -0.76 2.93 1.66\" xmlns=\"http://www.w3.org/2000/svg\" version=\"1.1\">\\n  <g>\\n    <defs>\\n      <mask id=\"mask-e3d2afc7-d422-420a-8063-9735fbb3c771\">\\n        <rect x=\"-11.44\" y=\"-0.76\" width=\"2.93\" height=\"1.66\" fill=\"white\"/>\\n        <g fill=\"black\">\\n          <circle cx=\"-9.38\" cy=\"-0.14\" r=\"0.20\"/>\\n        </g>\\n        <g font-family=\"monospace\" stroke=\"black\">\\n          <g font-family=\"sans-serif\" font-size=\"0.50\" stroke-width=\"0.05\">\\n            <text x=\"-9.38\" y=\"-0.14\" dx=\"-0.20\" dy=\"0.20\">OH</text>\\n          </g>\\n          <g font-size=\"0.25\" stroke-width=\"0.03\">\\n            <text x=\"-10.81\" y=\"-0.14\" dx=\"-0.05\" dy=\"0.20\" text-anchor=\"end\">3</text>\\n            <text x=\"-10.10\" y=\"0.28\" dx=\"-0.05\" dy=\"0.20\" text-anchor=\"end\">4</text>\\n            <text x=\"-9.38\" y=\"-0.14\" dx=\"-0.15\" dy=\"0.35\" text-anchor=\"end\">1</text>\\n          </g>\\n          <g font-family=\"monospace\" font-size=\"0.3\" stroke-width=\"0.03\">\\n            <text x=\"-9.38\" y=\"-0.14\" dx=\"-0.05\" dy=\"-0.20\" text-anchor=\"end\">15</text>\\n          </g>\\n        </g>\\n      </mask>\\n    </defs>\\n    <g fill=\"none\" stroke=\"black\" stroke-width=\"0.04\"  mask=\"url(#mask-e3d2afc7-d422-420a-8063-9735fbb3c771)\">\\n      <line x1=\"-10.78\" y1=\"-0.19\" x2=\"-10.07\" y2=\"0.22\"/>\\n      <line x1=\"-10.84\" y1=\"-0.09\" x2=\"-10.13\" y2=\"0.33\"/>\\n      <line x1=\"-10.10\" y1=\"0.28\" x2=\"-9.38\" y2=\"-0.14\"/>\\n    </g>\\n    <g font-family=\"monospace\">\\n      <g fill=\"#FF0D0D\" font-family=\"sans-serif\">\\n        <text x=\"-9.38\" y=\"-0.14\" dx=\"-0.20\" dy=\"0.20\" font-size=\"0.50\">OH</text>\\n      </g>\\n      <g font-family=\"monospace\" fill=\"black\" font-size=\"0.30\">\\n        <text x=\"-9.38\" y=\"-0.14\" dx=\"-0.05\" dy=\"-0.20\" text-anchor=\"end\">15</text>\\n      </g>\\n      <g fill=\"#0305A7\" font-size=\"0.25\">\\n        <text x=\"-10.81\" y=\"-0.14\" dx=\"-0.05\" dy=\"0.20\" text-anchor=\"end\">3</text>\\n        <text x=\"-10.10\" y=\"0.28\" dx=\"-0.05\" dy=\"0.20\" text-anchor=\"end\">4</text>\\n        <text x=\"-9.38\" y=\"-0.14\" dx=\"-0.15\" dy=\"0.35\" text-anchor=\"end\">1</text>\\n      </g>\\n    </g>\\n  </g>\\n</svg>'"
      ]
     },
     "execution_count": 6,
     "metadata": {},
     "output_type": "execute_result"
    }
   ],
   "source": [
    "m1.depict() # depiction returns SVG image in format string"
   ]
  },
  {
   "cell_type": "code",
   "execution_count": 7,
   "metadata": {},
   "outputs": [],
   "source": [
    "with open('molecule.svg', 'w') as f: # saving image to SVG file\n",
    "    f.write(m1.depict())"
   ]
  },
  {
   "cell_type": "code",
   "execution_count": 8,
   "metadata": {},
   "outputs": [
    {
     "data": {
      "image/svg+xml": [
       "<svg width=\"2.93cm\" height=\"1.66cm\" viewBox=\"-11.44 -0.76 2.93 1.66\" xmlns=\"http://www.w3.org/2000/svg\" version=\"1.1\">\n",
       "  <g>\n",
       "    <defs>\n",
       "      <mask id=\"mask-d93b92a1-fb7f-4161-9864-28123dfdb895\">\n",
       "        <rect x=\"-11.44\" y=\"-0.76\" width=\"2.93\" height=\"1.66\" fill=\"white\"/>\n",
       "        <g fill=\"black\">\n",
       "          <circle cx=\"-9.38\" cy=\"-0.14\" r=\"0.20\"/>\n",
       "        </g>\n",
       "        <g font-family=\"monospace\" stroke=\"black\">\n",
       "          <g font-family=\"sans-serif\" font-size=\"0.50\" stroke-width=\"0.05\">\n",
       "            <text x=\"-9.38\" y=\"-0.14\" dx=\"-0.20\" dy=\"0.20\">OH</text>\n",
       "          </g>\n",
       "          <g font-size=\"0.25\" stroke-width=\"0.03\">\n",
       "            <text x=\"-10.81\" y=\"-0.14\" dx=\"-0.05\" dy=\"0.20\" text-anchor=\"end\">3</text>\n",
       "            <text x=\"-10.10\" y=\"0.28\" dx=\"-0.05\" dy=\"0.20\" text-anchor=\"end\">4</text>\n",
       "            <text x=\"-9.38\" y=\"-0.14\" dx=\"-0.15\" dy=\"0.35\" text-anchor=\"end\">1</text>\n",
       "          </g>\n",
       "          <g font-family=\"monospace\" font-size=\"0.3\" stroke-width=\"0.03\">\n",
       "            <text x=\"-9.38\" y=\"-0.14\" dx=\"-0.05\" dy=\"-0.20\" text-anchor=\"end\">15</text>\n",
       "          </g>\n",
       "        </g>\n",
       "      </mask>\n",
       "    </defs>\n",
       "    <g fill=\"none\" stroke=\"black\" stroke-width=\"0.04\"  mask=\"url(#mask-d93b92a1-fb7f-4161-9864-28123dfdb895)\">\n",
       "      <line x1=\"-10.78\" y1=\"-0.19\" x2=\"-10.07\" y2=\"0.22\"/>\n",
       "      <line x1=\"-10.84\" y1=\"-0.09\" x2=\"-10.13\" y2=\"0.33\"/>\n",
       "      <line x1=\"-10.10\" y1=\"0.28\" x2=\"-9.38\" y2=\"-0.14\"/>\n",
       "    </g>\n",
       "    <g font-family=\"monospace\">\n",
       "      <g fill=\"#FF0D0D\" font-family=\"sans-serif\">\n",
       "        <text x=\"-9.38\" y=\"-0.14\" dx=\"-0.20\" dy=\"0.20\" font-size=\"0.50\">OH</text>\n",
       "      </g>\n",
       "      <g font-family=\"monospace\" fill=\"black\" font-size=\"0.30\">\n",
       "        <text x=\"-9.38\" y=\"-0.14\" dx=\"-0.05\" dy=\"-0.20\" text-anchor=\"end\">15</text>\n",
       "      </g>\n",
       "      <g fill=\"#0305A7\" font-size=\"0.25\">\n",
       "        <text x=\"-10.81\" y=\"-0.14\" dx=\"-0.05\" dy=\"0.20\" text-anchor=\"end\">3</text>\n",
       "        <text x=\"-10.10\" y=\"0.28\" dx=\"-0.05\" dy=\"0.20\" text-anchor=\"end\">4</text>\n",
       "        <text x=\"-9.38\" y=\"-0.14\" dx=\"-0.15\" dy=\"0.35\" text-anchor=\"end\">1</text>\n",
       "      </g>\n",
       "    </g>\n",
       "  </g>\n",
       "</svg>"
      ],
      "text/plain": [
       "<CGRtools.containers.molecule.MoleculeContainer at 0x7fb0b93faf20>"
      ]
     },
     "execution_count": 8,
     "metadata": {},
     "output_type": "execute_result"
    }
   ],
   "source": [
    "m_copy = m1.copy() # copy of molecule\n",
    "m_copy"
   ]
  },
  {
   "cell_type": "code",
   "execution_count": 9,
   "metadata": {},
   "outputs": [
    {
     "data": {
      "text/plain": [
       "3"
      ]
     },
     "execution_count": 9,
     "metadata": {},
     "output_type": "execute_result"
    }
   ],
   "source": [
    "len(m1) # get number of atoms in molecule\n",
    "# or \n",
    "m1.atoms_count"
   ]
  },
  {
   "cell_type": "code",
   "execution_count": 10,
   "metadata": {},
   "outputs": [
    {
     "data": {
      "text/plain": [
       "2"
      ]
     },
     "execution_count": 10,
     "metadata": {},
     "output_type": "execute_result"
    }
   ],
   "source": [
    "m1.bonds_count # number of bonds"
   ]
  },
  {
   "cell_type": "code",
   "execution_count": 11,
   "metadata": {},
   "outputs": [
    {
     "data": {
      "text/plain": [
       "(3, 4, 1)"
      ]
     },
     "execution_count": 11,
     "metadata": {},
     "output_type": "execute_result"
    }
   ],
   "source": [
    "m1.atoms_numbers # list of atoms numbers"
   ]
  },
  {
   "cell_type": "markdown",
   "metadata": {},
   "source": [
    "Each structure has additional atoms attributes: number of neighbors and hybridization.\n",
    "The following notations are used for hybridization of atoms. Values are given as numbers below (in parenthesis symbols that are used in SMILES-like signatures are shown):\n",
    "\n",
    "* 1 (s) - all bonds of atom are single, i.e. sp3 hybridization\n",
    "* 2 (d) - atom has one double bond and others are single, i.e. sp2 hybridization\n",
    "* 3 (t) - atom has one triple or two double bonds and other are single, i.e. sp hybridization\n",
    "* 4 (a) - atom is in aromatic ring\n",
    "\n",
    "Neighbors and hybridizations atom attributes are required for **substructure operations** and structure standardization. See below"
   ]
  },
  {
   "cell_type": "code",
   "execution_count": 12,
   "metadata": {},
   "outputs": [
    {
     "data": {
      "text/plain": [
       "[(3, C()), (4, C()), (1, O(15))]"
      ]
     },
     "execution_count": 12,
     "metadata": {},
     "output_type": "execute_result"
    }
   ],
   "source": [
    "# iterate over atoms using its numbers\n",
    "list(m1.atoms())  # works the same as dict.items()"
   ]
  },
  {
   "cell_type": "code",
   "execution_count": 13,
   "metadata": {},
   "outputs": [
    {
     "data": {
      "text/plain": [
       "[(3, 4, Bond(2)), (4, 1, Bond(1))]"
      ]
     },
     "execution_count": 13,
     "metadata": {},
     "output_type": "execute_result"
    }
   ],
   "source": [
    "# iterate over bonds using adjacent atoms numbers\n",
    "list(m1.bonds())"
   ]
  },
  {
   "cell_type": "code",
   "execution_count": 14,
   "metadata": {},
   "outputs": [
    {
     "data": {
      "text/plain": [
       "O(15)"
      ]
     },
     "execution_count": 14,
     "metadata": {},
     "output_type": "execute_result"
    }
   ],
   "source": [
    "# access to atom by number\n",
    "m1.atom(1)"
   ]
  },
  {
   "cell_type": "code",
   "execution_count": 15,
   "metadata": {},
   "outputs": [
    {
     "name": "stdout",
     "output_type": "stream",
     "text": [
      "Traceback (most recent call last):\n",
      "  File \"/tmp/ipykernel_2099034/3657801809.py\", line 2, in <module>\n",
      "    m1.atom(10) # raise error for absent atom numbers\n",
      "  File \"/home/valia/miniconda3/envs/cgrtools-master/lib/python3.10/site-packages/CGRtools/containers/common.py\", line 89, in atom\n",
      "    return self._atoms[n]\n",
      "KeyError: 10\n",
      "\n"
     ]
    }
   ],
   "source": [
    "try:\n",
    "    m1.atom(10) # raise error for absent atom numbers\n",
    "except KeyError:\n",
    "    print(format_exc())"
   ]
  },
  {
   "cell_type": "code",
   "execution_count": 16,
   "metadata": {},
   "outputs": [
    {
     "data": {
      "text/plain": [
       "Bond(1)"
      ]
     },
     "execution_count": 16,
     "metadata": {},
     "output_type": "execute_result"
    }
   ],
   "source": [
    "# access to bond using adjacent atoms numbers\n",
    "m1.bond(1, 4)"
   ]
  },
  {
   "cell_type": "code",
   "execution_count": 17,
   "metadata": {},
   "outputs": [
    {
     "name": "stdout",
     "output_type": "stream",
     "text": [
      "Traceback (most recent call last):\n",
      "  File \"/tmp/ipykernel_2099034/2926617244.py\", line 2, in <module>\n",
      "    m1.bond(1, 3) # raise error for absent bond\n",
      "  File \"/home/valia/miniconda3/envs/cgrtools-master/lib/python3.10/site-packages/CGRtools/containers/common.py\", line 134, in bond\n",
      "    return self._bonds[n][m]\n",
      "KeyError: 3\n",
      "\n"
     ]
    }
   ],
   "source": [
    "try:\n",
    "    m1.bond(1, 3) # raise error for absent bond\n",
    "except KeyError:\n",
    "    print(format_exc())"
   ]
  },
  {
   "cell_type": "markdown",
   "metadata": {},
   "source": [
    "#### Atom objects are dataclasses which store information about:\n",
    "* element (symbol and number)\n",
    "* atomic mass and atomic radius\n",
    "* isotope\n",
    "* charge\n",
    "* radical state\n",
    "* xy coordinates\n",
    "\n",
    "Also atoms has methods for data integrity checks and include some internally used data."
   ]
  },
  {
   "cell_type": "code",
   "execution_count": 18,
   "metadata": {},
   "outputs": [
    {
     "data": {
      "text/plain": [
       "'O'"
      ]
     },
     "execution_count": 18,
     "metadata": {},
     "output_type": "execute_result"
    }
   ],
   "source": [
    "a = m1.atom(1)\n",
    "\n",
    "# access to information\n",
    "a.atomic_symbol # element symbol"
   ]
  },
  {
   "cell_type": "code",
   "execution_count": 19,
   "metadata": {},
   "outputs": [
    {
     "data": {
      "text/plain": [
       "8"
      ]
     },
     "execution_count": 19,
     "metadata": {},
     "output_type": "execute_result"
    }
   ],
   "source": [
    "a.atomic_number  # atomic number in periodic table"
   ]
  },
  {
   "cell_type": "code",
   "execution_count": 20,
   "metadata": {},
   "outputs": [
    {
     "data": {
      "text/plain": [
       "15.003065"
      ]
     },
     "execution_count": 20,
     "metadata": {},
     "output_type": "execute_result"
    }
   ],
   "source": [
    "a.atomic_mass  # atomic mass "
   ]
  },
  {
   "cell_type": "code",
   "execution_count": 21,
   "metadata": {},
   "outputs": [
    {
     "data": {
      "text/plain": [
       "0.48"
      ]
     },
     "execution_count": 21,
     "metadata": {},
     "output_type": "execute_result"
    }
   ],
   "source": [
    "a.atomic_radius  # atomic radius in periodic table"
   ]
  },
  {
   "cell_type": "code",
   "execution_count": 22,
   "metadata": {},
   "outputs": [
    {
     "data": {
      "text/plain": [
       "0"
      ]
     },
     "execution_count": 22,
     "metadata": {},
     "output_type": "execute_result"
    }
   ],
   "source": [
    "a.charge # formal charge"
   ]
  },
  {
   "cell_type": "code",
   "execution_count": 23,
   "metadata": {},
   "outputs": [
    {
     "data": {
      "text/plain": [
       "False"
      ]
     },
     "execution_count": 23,
     "metadata": {},
     "output_type": "execute_result"
    }
   ],
   "source": [
    "a.is_radical # atom radical state"
   ]
  },
  {
   "cell_type": "code",
   "execution_count": 24,
   "metadata": {},
   "outputs": [
    {
     "data": {
      "text/plain": [
       "15"
      ]
     },
     "execution_count": 24,
     "metadata": {},
     "output_type": "execute_result"
    }
   ],
   "source": [
    "a.isotope # atom isotope. Default isotope if not set. Default isotopes are the same as used in InChI notation"
   ]
  },
  {
   "cell_type": "code",
   "execution_count": 25,
   "metadata": {},
   "outputs": [
    {
     "data": {
      "text/plain": [
       "(-9.3843, 0.1375)"
      ]
     },
     "execution_count": 25,
     "metadata": {},
     "output_type": "execute_result"
    }
   ],
   "source": [
    "a.x # coordinates\n",
    "a.y\n",
    "#or \n",
    "a.xy"
   ]
  },
  {
   "cell_type": "code",
   "execution_count": 26,
   "metadata": {},
   "outputs": [
    {
     "data": {
      "text/plain": [
       "1"
      ]
     },
     "execution_count": 26,
     "metadata": {},
     "output_type": "execute_result"
    }
   ],
   "source": [
    "a.neighbors # Number of neighboring atoms. It is read-only."
   ]
  },
  {
   "cell_type": "code",
   "execution_count": 27,
   "metadata": {},
   "outputs": [
    {
     "data": {
      "text/plain": [
       "1"
      ]
     },
     "execution_count": 27,
     "metadata": {},
     "output_type": "execute_result"
    }
   ],
   "source": [
    "a.hybridization # Atoms hybridization. It is read-only."
   ]
  },
  {
   "cell_type": "code",
   "execution_count": 28,
   "metadata": {},
   "outputs": [
    {
     "name": "stdout",
     "output_type": "stream",
     "text": [
      "Traceback (most recent call last):\n",
      "  File \"/tmp/ipykernel_2099034/1699116341.py\", line 2, in <module>\n",
      "    a.hybridization = 2 # Not assignable. Read-only! Thus error is raised.\n",
      "AttributeError: can't set attribute 'hybridization'\n",
      "\n"
     ]
    }
   ],
   "source": [
    "try:\n",
    "    a.hybridization = 2 # Not assignable. Read-only! Thus error is raised.\n",
    "except AttributeError:\n",
    "    print(format_exc())"
   ]
  },
  {
   "cell_type": "markdown",
   "metadata": {},
   "source": [
    "#### Atomic attributes are assignable.\n",
    "\n",
    "CGRtools has integrity checks for verification of changes induced by user"
   ]
  },
  {
   "cell_type": "code",
   "execution_count": 29,
   "metadata": {},
   "outputs": [
    {
     "data": {
      "image/svg+xml": [
       "<svg width=\"2.93cm\" height=\"1.66cm\" viewBox=\"-11.44 -0.76 2.93 1.66\" xmlns=\"http://www.w3.org/2000/svg\" version=\"1.1\">\n",
       "  <g>\n",
       "    <defs>\n",
       "      <mask id=\"mask-3b99aea2-fc3b-4f87-aec5-b14e1caba79b\">\n",
       "        <rect x=\"-11.44\" y=\"-0.76\" width=\"2.93\" height=\"1.66\" fill=\"white\"/>\n",
       "        <g fill=\"black\">\n",
       "          <circle cx=\"-9.38\" cy=\"-0.14\" r=\"0.20\"/>\n",
       "        </g>\n",
       "        <g font-family=\"monospace\" stroke=\"black\">\n",
       "          <g font-family=\"sans-serif\" font-size=\"0.50\" stroke-width=\"0.05\">\n",
       "            <text x=\"-9.38\" y=\"-0.14\" dx=\"-0.20\" dy=\"0.20\">OH</text>\n",
       "          </g>\n",
       "          <g font-size=\"0.25\" stroke-width=\"0.03\">\n",
       "            <text x=\"-10.81\" y=\"-0.14\" dx=\"-0.05\" dy=\"0.20\" text-anchor=\"end\">3</text>\n",
       "            <text x=\"-10.10\" y=\"0.28\" dx=\"-0.05\" dy=\"0.20\" text-anchor=\"end\">4</text>\n",
       "            <text x=\"-9.38\" y=\"-0.14\" dx=\"-0.15\" dy=\"0.35\" text-anchor=\"end\">1</text>\n",
       "          </g>\n",
       "          <g font-family=\"monospace\" font-size=\"0.3\" stroke-width=\"0.03\">\n",
       "           <text x=\"-9.38\" y=\"-0.14\" dx=\"0.05\" dy=\"-0.20\">+</text>\n",
       "            <text x=\"-9.38\" y=\"-0.14\" dx=\"-0.05\" dy=\"-0.20\" text-anchor=\"end\">15</text>\n",
       "          </g>\n",
       "          <g font-family=\"sans-serif\" font-size=\"0.50\" stroke-width=\"0.03\">\n",
       "            <text x=\"-9.38\" y=\"-0.14\" dx=\"-0.20\" dy=\"0.20\">OH<tspan  dy=\"0.15\" font-size=\"0.35\">2</tspan></text>\n",
       "          </g>\n",
       "        </g>\n",
       "      </mask>\n",
       "    </defs>\n",
       "    <g fill=\"none\" stroke=\"black\" stroke-width=\"0.04\"  mask=\"url(#mask-3b99aea2-fc3b-4f87-aec5-b14e1caba79b)\">\n",
       "      <line x1=\"-10.78\" y1=\"-0.19\" x2=\"-10.07\" y2=\"0.22\"/>\n",
       "      <line x1=\"-10.84\" y1=\"-0.09\" x2=\"-10.13\" y2=\"0.33\"/>\n",
       "      <line x1=\"-10.10\" y1=\"0.28\" x2=\"-9.38\" y2=\"-0.14\"/>\n",
       "    </g>\n",
       "    <g font-family=\"monospace\">\n",
       "      <g fill=\"#FF0D0D\" font-family=\"sans-serif\">\n",
       "        <text x=\"-9.38\" y=\"-0.14\" dx=\"-0.20\" dy=\"0.20\" font-size=\"0.50\">OH<tspan  dy=\"0.15\" font-size=\"0.35\">2</tspan></text>\n",
       "      </g>\n",
       "      <g font-family=\"monospace\" fill=\"black\" font-size=\"0.30\">\n",
       "        <text x=\"-9.38\" y=\"-0.14\" dx=\"0.05\" dy=\"-0.20\">+</text>\n",
       "        <text x=\"-9.38\" y=\"-0.14\" dx=\"-0.05\" dy=\"-0.20\" text-anchor=\"end\">15</text>\n",
       "      </g>\n",
       "      <g fill=\"#0305A7\" font-size=\"0.25\">\n",
       "        <text x=\"-10.81\" y=\"-0.14\" dx=\"-0.05\" dy=\"0.20\" text-anchor=\"end\">3</text>\n",
       "        <text x=\"-10.10\" y=\"0.28\" dx=\"-0.05\" dy=\"0.20\" text-anchor=\"end\">4</text>\n",
       "        <text x=\"-9.38\" y=\"-0.14\" dx=\"-0.15\" dy=\"0.35\" text-anchor=\"end\">1</text>\n",
       "      </g>\n",
       "    </g>\n",
       "  </g>\n",
       "</svg>"
      ],
      "text/plain": [
       "<CGRtools.containers.molecule.MoleculeContainer at 0x7fb0bb3c6700>"
      ]
     },
     "execution_count": 29,
     "metadata": {},
     "output_type": "execute_result"
    }
   ],
   "source": [
    "a.charge = 1\n",
    "m1"
   ]
  },
  {
   "cell_type": "code",
   "execution_count": 30,
   "metadata": {},
   "outputs": [
    {
     "data": {
      "image/svg+xml": [
       "<svg width=\"2.93cm\" height=\"1.66cm\" viewBox=\"-11.44 -0.76 2.93 1.66\" xmlns=\"http://www.w3.org/2000/svg\" version=\"1.1\">\n",
       "  <g>\n",
       "    <defs>\n",
       "      <mask id=\"mask-30829c33-ce59-4af1-be55-2eb716cc63ac\">\n",
       "        <rect x=\"-11.44\" y=\"-0.76\" width=\"2.93\" height=\"1.66\" fill=\"white\"/>\n",
       "        <g fill=\"black\">\n",
       "          <circle cx=\"-9.38\" cy=\"-0.14\" r=\"0.20\"/>\n",
       "        </g>\n",
       "        <g font-family=\"monospace\" stroke=\"black\">\n",
       "          <g font-family=\"sans-serif\" font-size=\"0.50\" stroke-width=\"0.05\">\n",
       "            <text x=\"-9.38\" y=\"-0.14\" dx=\"-0.20\" dy=\"0.20\">O</text>\n",
       "          </g>\n",
       "          <g font-size=\"0.25\" stroke-width=\"0.03\">\n",
       "            <text x=\"-10.81\" y=\"-0.14\" dx=\"-0.05\" dy=\"0.20\" text-anchor=\"end\">3</text>\n",
       "            <text x=\"-10.10\" y=\"0.28\" dx=\"-0.05\" dy=\"0.20\" text-anchor=\"end\">4</text>\n",
       "            <text x=\"-9.38\" y=\"-0.14\" dx=\"-0.15\" dy=\"0.35\" text-anchor=\"end\">1</text>\n",
       "          </g>\n",
       "          <g font-family=\"monospace\" font-size=\"0.3\" stroke-width=\"0.03\">\n",
       "            <text x=\"-9.38\" y=\"-0.14\" dx=\"0.05\" dy=\"-0.20\">↑</text>\n",
       "            <text x=\"-9.38\" y=\"-0.14\" dx=\"-0.05\" dy=\"-0.20\" text-anchor=\"end\">15</text>\n",
       "          </g>\n",
       "        </g>\n",
       "      </mask>\n",
       "    </defs>\n",
       "    <g fill=\"none\" stroke=\"black\" stroke-width=\"0.04\"  mask=\"url(#mask-30829c33-ce59-4af1-be55-2eb716cc63ac)\">\n",
       "      <line x1=\"-10.78\" y1=\"-0.19\" x2=\"-10.07\" y2=\"0.22\"/>\n",
       "      <line x1=\"-10.84\" y1=\"-0.09\" x2=\"-10.13\" y2=\"0.33\"/>\n",
       "      <line x1=\"-10.10\" y1=\"0.28\" x2=\"-9.38\" y2=\"-0.14\"/>\n",
       "    </g>\n",
       "    <g font-family=\"monospace\">\n",
       "      <g fill=\"#FF0D0D\" font-family=\"sans-serif\">\n",
       "        <text x=\"-9.38\" y=\"-0.14\" dx=\"-0.20\" dy=\"0.20\" font-size=\"0.50\">O</text>\n",
       "      </g>\n",
       "      <g font-family=\"monospace\" fill=\"black\" font-size=\"0.30\">\n",
       "        <text x=\"-9.38\" y=\"-0.14\" dx=\"0.05\" dy=\"-0.20\">↑</text>\n",
       "        <text x=\"-9.38\" y=\"-0.14\" dx=\"-0.05\" dy=\"-0.20\" text-anchor=\"end\">15</text>\n",
       "      </g>\n",
       "      <g fill=\"#0305A7\" font-size=\"0.25\">\n",
       "        <text x=\"-10.81\" y=\"-0.14\" dx=\"-0.05\" dy=\"0.20\" text-anchor=\"end\">3</text>\n",
       "        <text x=\"-10.10\" y=\"0.28\" dx=\"-0.05\" dy=\"0.20\" text-anchor=\"end\">4</text>\n",
       "        <text x=\"-9.38\" y=\"-0.14\" dx=\"-0.15\" dy=\"0.35\" text-anchor=\"end\">1</text>\n",
       "      </g>\n",
       "    </g>\n",
       "  </g>\n",
       "</svg>"
      ],
      "text/plain": [
       "<CGRtools.containers.molecule.MoleculeContainer at 0x7fb0bb3c6700>"
      ]
     },
     "execution_count": 30,
     "metadata": {},
     "output_type": "execute_result"
    }
   ],
   "source": [
    "a.charge = 0\n",
    "a.is_radical = True\n",
    "m1"
   ]
  },
  {
   "cell_type": "code",
   "execution_count": 31,
   "metadata": {},
   "outputs": [
    {
     "data": {
      "text/plain": [
       "2"
      ]
     },
     "execution_count": 31,
     "metadata": {},
     "output_type": "execute_result"
    }
   ],
   "source": [
    "# bond objects also are data-like classes which store information about bond order\n",
    "b = m1.bond(3, 4)\n",
    "b.order"
   ]
  },
  {
   "cell_type": "code",
   "execution_count": 32,
   "metadata": {},
   "outputs": [
    {
     "name": "stdout",
     "output_type": "stream",
     "text": [
      "Traceback (most recent call last):\n",
      "  File \"/tmp/ipykernel_2099034/1138391940.py\", line 2, in <module>\n",
      "    b.order = 1 # order change not possible\n",
      "AttributeError: can't set attribute 'order'\n",
      "\n"
     ]
    }
   ],
   "source": [
    "try:\n",
    "    b.order = 1 # order change not possible\n",
    "except AttributeError:\n",
    "    print(format_exc())"
   ]
  },
  {
   "cell_type": "markdown",
   "metadata": {},
   "source": [
    "#### Bonds are Read-only\n",
    "For bond modification one should to use `delete_bond` method to break bond and `add_bond` for creating new."
   ]
  },
  {
   "cell_type": "code",
   "execution_count": 33,
   "metadata": {},
   "outputs": [
    {
     "data": {
      "image/svg+xml": [
       "<svg width=\"2.93cm\" height=\"1.66cm\" viewBox=\"-11.44 -0.76 2.93 1.66\" xmlns=\"http://www.w3.org/2000/svg\" version=\"1.1\">\n",
       "  <g>\n",
       "    <defs>\n",
       "      <mask id=\"mask-46f1f5bc-b8ce-443b-b721-843a07aaa6dd\">\n",
       "        <rect x=\"-11.44\" y=\"-0.76\" width=\"2.93\" height=\"1.66\" fill=\"white\"/>\n",
       "        <g fill=\"black\">\n",
       "          <circle cx=\"-10.81\" cy=\"-0.14\" r=\"0.20\"/>\n",
       "          <circle cx=\"-9.38\" cy=\"-0.14\" r=\"0.20\"/>\n",
       "        </g>\n",
       "        <g font-family=\"monospace\" stroke=\"black\">\n",
       "          <g font-family=\"sans-serif\" font-size=\"0.50\" stroke-width=\"0.05\">\n",
       "            <text x=\"-10.81\" y=\"-0.14\" dx=\"-0.20\" dy=\"0.20\">CH</text>\n",
       "            <text x=\"-9.38\" y=\"-0.14\" dx=\"-0.20\" dy=\"0.20\">O</text>\n",
       "          </g>\n",
       "          <g font-size=\"0.25\" stroke-width=\"0.03\">\n",
       "            <text x=\"-10.81\" y=\"-0.14\" dx=\"-0.15\" dy=\"0.35\" text-anchor=\"end\">3</text>\n",
       "            <text x=\"-10.10\" y=\"0.28\" dx=\"-0.05\" dy=\"0.20\" text-anchor=\"end\">4</text>\n",
       "            <text x=\"-9.38\" y=\"-0.14\" dx=\"-0.15\" dy=\"0.35\" text-anchor=\"end\">1</text>\n",
       "          </g>\n",
       "          <g font-family=\"monospace\" font-size=\"0.3\" stroke-width=\"0.03\">\n",
       "            <text x=\"-9.38\" y=\"-0.14\" dx=\"0.05\" dy=\"-0.20\">↑</text>\n",
       "            <text x=\"-9.38\" y=\"-0.14\" dx=\"-0.05\" dy=\"-0.20\" text-anchor=\"end\">15</text>\n",
       "          </g>\n",
       "          <g font-family=\"sans-serif\" font-size=\"0.50\" stroke-width=\"0.03\">\n",
       "            <text x=\"-10.81\" y=\"-0.14\" dx=\"-0.20\" dy=\"0.20\">CH<tspan  dy=\"0.15\" font-size=\"0.35\">4</tspan></text>\n",
       "          </g>\n",
       "        </g>\n",
       "      </mask>\n",
       "    </defs>\n",
       "    <g fill=\"none\" stroke=\"black\" stroke-width=\"0.04\"  mask=\"url(#mask-46f1f5bc-b8ce-443b-b721-843a07aaa6dd)\">\n",
       "      <line x1=\"-11.44\" y1=\"-0.76\" x2=\"-8.51\" y2=\"-0.76\" stroke=\"none\"/>\n",
       "      <line x1=\"-10.10\" y1=\"0.28\" x2=\"-9.38\" y2=\"-0.14\"/>\n",
       "    </g>\n",
       "    <g font-family=\"monospace\">\n",
       "      <g fill=\"#101010\" font-family=\"sans-serif\">\n",
       "        <text x=\"-10.81\" y=\"-0.14\" dx=\"-0.20\" dy=\"0.20\" font-size=\"0.50\">CH<tspan  dy=\"0.15\" font-size=\"0.35\">4</tspan></text>\n",
       "      </g>\n",
       "      <g fill=\"#FF0D0D\" font-family=\"sans-serif\">\n",
       "        <text x=\"-9.38\" y=\"-0.14\" dx=\"-0.20\" dy=\"0.20\" font-size=\"0.50\">O</text>\n",
       "      </g>\n",
       "      <g font-family=\"monospace\" fill=\"black\" font-size=\"0.30\">\n",
       "        <text x=\"-9.38\" y=\"-0.14\" dx=\"0.05\" dy=\"-0.20\">↑</text>\n",
       "        <text x=\"-9.38\" y=\"-0.14\" dx=\"-0.05\" dy=\"-0.20\" text-anchor=\"end\">15</text>\n",
       "      </g>\n",
       "      <g fill=\"#0305A7\" font-size=\"0.25\">\n",
       "        <text x=\"-10.81\" y=\"-0.14\" dx=\"-0.15\" dy=\"0.35\" text-anchor=\"end\">3</text>\n",
       "        <text x=\"-10.10\" y=\"0.28\" dx=\"-0.05\" dy=\"0.20\" text-anchor=\"end\">4</text>\n",
       "        <text x=\"-9.38\" y=\"-0.14\" dx=\"-0.15\" dy=\"0.35\" text-anchor=\"end\">1</text>\n",
       "      </g>\n",
       "    </g>\n",
       "  </g>\n",
       "</svg>"
      ],
      "text/plain": [
       "<CGRtools.containers.molecule.MoleculeContainer at 0x7fb0bb3c6700>"
      ]
     },
     "execution_count": 33,
     "metadata": {},
     "output_type": "execute_result"
    }
   ],
   "source": [
    "m1.delete_bond(3, 4)\n",
    "m1"
   ]
  },
  {
   "cell_type": "markdown",
   "metadata": {},
   "source": [
    "Method `delete_atom` removes atom from the molecule"
   ]
  },
  {
   "cell_type": "code",
   "execution_count": 34,
   "metadata": {},
   "outputs": [
    {
     "data": {
      "image/svg+xml": [
       "<svg width=\"2.21cm\" height=\"1.66cm\" viewBox=\"-10.72 -0.76 2.21 1.66\" xmlns=\"http://www.w3.org/2000/svg\" version=\"1.1\">\n",
       "  <g>\n",
       "    <defs>\n",
       "      <mask id=\"mask-099d32fc-40d2-413f-a8e3-3856c48280bd\">\n",
       "        <rect x=\"-10.72\" y=\"-0.76\" width=\"2.21\" height=\"1.66\" fill=\"white\"/>\n",
       "        <g fill=\"black\">\n",
       "          <circle cx=\"-9.38\" cy=\"-0.14\" r=\"0.20\"/>\n",
       "        </g>\n",
       "        <g font-family=\"monospace\" stroke=\"black\">\n",
       "          <g font-family=\"sans-serif\" font-size=\"0.50\" stroke-width=\"0.05\">\n",
       "            <text x=\"-9.38\" y=\"-0.14\" dx=\"-0.20\" dy=\"0.20\">O</text>\n",
       "          </g>\n",
       "          <g font-size=\"0.25\" stroke-width=\"0.03\">\n",
       "            <text x=\"-10.10\" y=\"0.28\" dx=\"-0.05\" dy=\"0.20\" text-anchor=\"end\">4</text>\n",
       "            <text x=\"-9.38\" y=\"-0.14\" dx=\"-0.15\" dy=\"0.35\" text-anchor=\"end\">1</text>\n",
       "          </g>\n",
       "          <g font-family=\"monospace\" font-size=\"0.3\" stroke-width=\"0.03\">\n",
       "            <text x=\"-9.38\" y=\"-0.14\" dx=\"0.05\" dy=\"-0.20\">↑</text>\n",
       "            <text x=\"-9.38\" y=\"-0.14\" dx=\"-0.05\" dy=\"-0.20\" text-anchor=\"end\">15</text>\n",
       "          </g>\n",
       "        </g>\n",
       "      </mask>\n",
       "    </defs>\n",
       "    <g fill=\"none\" stroke=\"black\" stroke-width=\"0.04\"  mask=\"url(#mask-099d32fc-40d2-413f-a8e3-3856c48280bd)\">\n",
       "      <line x1=\"-10.72\" y1=\"-0.76\" x2=\"-8.51\" y2=\"-0.76\" stroke=\"none\"/>\n",
       "      <line x1=\"-10.10\" y1=\"0.28\" x2=\"-9.38\" y2=\"-0.14\"/>\n",
       "    </g>\n",
       "    <g font-family=\"monospace\">\n",
       "      <g fill=\"#FF0D0D\" font-family=\"sans-serif\">\n",
       "        <text x=\"-9.38\" y=\"-0.14\" dx=\"-0.20\" dy=\"0.20\" font-size=\"0.50\">O</text>\n",
       "      </g>\n",
       "      <g font-family=\"monospace\" fill=\"black\" font-size=\"0.30\">\n",
       "        <text x=\"-9.38\" y=\"-0.14\" dx=\"0.05\" dy=\"-0.20\">↑</text>\n",
       "        <text x=\"-9.38\" y=\"-0.14\" dx=\"-0.05\" dy=\"-0.20\" text-anchor=\"end\">15</text>\n",
       "      </g>\n",
       "      <g fill=\"#0305A7\" font-size=\"0.25\">\n",
       "        <text x=\"-10.10\" y=\"0.28\" dx=\"-0.05\" dy=\"0.20\" text-anchor=\"end\">4</text>\n",
       "        <text x=\"-9.38\" y=\"-0.14\" dx=\"-0.15\" dy=\"0.35\" text-anchor=\"end\">1</text>\n",
       "      </g>\n",
       "    </g>\n",
       "  </g>\n",
       "</svg>"
      ],
      "text/plain": [
       "<CGRtools.containers.molecule.MoleculeContainer at 0x7fb0bb3c6700>"
      ]
     },
     "execution_count": 34,
     "metadata": {},
     "output_type": "execute_result"
    }
   ],
   "source": [
    "m1.delete_atom(3)\n",
    "m1"
   ]
  },
  {
   "cell_type": "code",
   "execution_count": 35,
   "metadata": {},
   "outputs": [
    {
     "data": {
      "image/svg+xml": [
       "<svg width=\"2.93cm\" height=\"1.66cm\" viewBox=\"-11.44 -0.76 2.93 1.66\" xmlns=\"http://www.w3.org/2000/svg\" version=\"1.1\">\n",
       "  <g>\n",
       "    <defs>\n",
       "      <mask id=\"mask-d93b92a1-fb7f-4161-9864-28123dfdb895\">\n",
       "        <rect x=\"-11.44\" y=\"-0.76\" width=\"2.93\" height=\"1.66\" fill=\"white\"/>\n",
       "        <g fill=\"black\">\n",
       "          <circle cx=\"-9.38\" cy=\"-0.14\" r=\"0.20\"/>\n",
       "        </g>\n",
       "        <g font-family=\"monospace\" stroke=\"black\">\n",
       "          <g font-family=\"sans-serif\" font-size=\"0.50\" stroke-width=\"0.05\">\n",
       "            <text x=\"-9.38\" y=\"-0.14\" dx=\"-0.20\" dy=\"0.20\">OH</text>\n",
       "          </g>\n",
       "          <g font-size=\"0.25\" stroke-width=\"0.03\">\n",
       "            <text x=\"-10.81\" y=\"-0.14\" dx=\"-0.05\" dy=\"0.20\" text-anchor=\"end\">3</text>\n",
       "            <text x=\"-10.10\" y=\"0.28\" dx=\"-0.05\" dy=\"0.20\" text-anchor=\"end\">4</text>\n",
       "            <text x=\"-9.38\" y=\"-0.14\" dx=\"-0.15\" dy=\"0.35\" text-anchor=\"end\">1</text>\n",
       "          </g>\n",
       "          <g font-family=\"monospace\" font-size=\"0.3\" stroke-width=\"0.03\">\n",
       "            <text x=\"-9.38\" y=\"-0.14\" dx=\"-0.05\" dy=\"-0.20\" text-anchor=\"end\">15</text>\n",
       "          </g>\n",
       "        </g>\n",
       "      </mask>\n",
       "    </defs>\n",
       "    <g fill=\"none\" stroke=\"black\" stroke-width=\"0.04\"  mask=\"url(#mask-d93b92a1-fb7f-4161-9864-28123dfdb895)\">\n",
       "      <line x1=\"-10.78\" y1=\"-0.19\" x2=\"-10.07\" y2=\"0.22\"/>\n",
       "      <line x1=\"-10.84\" y1=\"-0.09\" x2=\"-10.13\" y2=\"0.33\"/>\n",
       "      <line x1=\"-10.10\" y1=\"0.28\" x2=\"-9.38\" y2=\"-0.14\"/>\n",
       "    </g>\n",
       "    <g font-family=\"monospace\">\n",
       "      <g fill=\"#FF0D0D\" font-family=\"sans-serif\">\n",
       "        <text x=\"-9.38\" y=\"-0.14\" dx=\"-0.20\" dy=\"0.20\" font-size=\"0.50\">OH</text>\n",
       "      </g>\n",
       "      <g font-family=\"monospace\" fill=\"black\" font-size=\"0.30\">\n",
       "        <text x=\"-9.38\" y=\"-0.14\" dx=\"-0.05\" dy=\"-0.20\" text-anchor=\"end\">15</text>\n",
       "      </g>\n",
       "      <g fill=\"#0305A7\" font-size=\"0.25\">\n",
       "        <text x=\"-10.81\" y=\"-0.14\" dx=\"-0.05\" dy=\"0.20\" text-anchor=\"end\">3</text>\n",
       "        <text x=\"-10.10\" y=\"0.28\" dx=\"-0.05\" dy=\"0.20\" text-anchor=\"end\">4</text>\n",
       "        <text x=\"-9.38\" y=\"-0.14\" dx=\"-0.15\" dy=\"0.35\" text-anchor=\"end\">1</text>\n",
       "      </g>\n",
       "    </g>\n",
       "  </g>\n",
       "</svg>"
      ],
      "text/plain": [
       "<CGRtools.containers.molecule.MoleculeContainer at 0x7fb0b93faf20>"
      ]
     },
     "execution_count": 35,
     "metadata": {},
     "output_type": "execute_result"
    }
   ],
   "source": [
    "m_copy # copy unchanged!"
   ]
  },
  {
   "cell_type": "markdown",
   "metadata": {},
   "source": [
    "*Atoms* and *bonds* objects can be converted into integer representation that could be used to classify their types.\n",
    "\n",
    "*Atom* type is represented by python 3.8 hash of tuple formed from isotope (or 0), atom number, formal charge, and radical state. "
   ]
  },
  {
   "cell_type": "code",
   "execution_count": 36,
   "metadata": {},
   "outputs": [
    {
     "data": {
      "text/plain": [
       "831621142045386143"
      ]
     },
     "execution_count": 36,
     "metadata": {},
     "output_type": "execute_result"
    }
   ],
   "source": [
    "# 15 isotope\n",
    "# 8 Oxygen\n",
    "# 0 uncharged\n",
    "# 1 is radical\n",
    "# hash((15, 8, 0, 1)) == 831621142045386143\n",
    "# If python 3.7 will use for CGRtools running, in-house hash implementation \n",
    "# the same as in python 3.8 will use for hash generation, so, the result of \n",
    "# hash function will be different from int(a)\n",
    "int(a)"
   ]
  },
  {
   "cell_type": "code",
   "execution_count": 37,
   "metadata": {},
   "outputs": [
    {
     "data": {
      "text/plain": [
       "2"
      ]
     },
     "execution_count": 37,
     "metadata": {},
     "output_type": "execute_result"
    }
   ],
   "source": [
    "int(b)  # bonds are encoded by their order"
   ]
  },
  {
   "cell_type": "code",
   "execution_count": 38,
   "metadata": {},
   "outputs": [
    {
     "name": "stdout",
     "output_type": "stream",
     "text": [
      "1\n",
      "0\n",
      "1\n"
     ]
    }
   ],
   "source": [
    "a = m_copy.atom(1)\n",
    "print(a.implicit_hydrogens) # get number of implicit hydrogens on atom 1\n",
    "print(a.explicit_hydrogens) # get number of explicit hydrogens on atom 1\n",
    "print(a.total_hydrogens) # get total number of hydrogens on atom 1"
   ]
  },
  {
   "cell_type": "code",
   "execution_count": 39,
   "metadata": {},
   "outputs": [
    {
     "data": {
      "image/svg+xml": [
       "<svg width=\"2.21cm\" height=\"1.66cm\" viewBox=\"-10.72 -0.76 2.21 1.66\" xmlns=\"http://www.w3.org/2000/svg\" version=\"1.1\">\n",
       "  <g>\n",
       "    <defs>\n",
       "      <mask id=\"mask-099d32fc-40d2-413f-a8e3-3856c48280bd\">\n",
       "        <rect x=\"-10.72\" y=\"-0.76\" width=\"2.21\" height=\"1.66\" fill=\"white\"/>\n",
       "        <g fill=\"black\">\n",
       "          <circle cx=\"-9.38\" cy=\"-0.14\" r=\"0.20\"/>\n",
       "        </g>\n",
       "        <g font-family=\"monospace\" stroke=\"black\">\n",
       "          <g font-family=\"sans-serif\" font-size=\"0.50\" stroke-width=\"0.05\">\n",
       "            <text x=\"-9.38\" y=\"-0.14\" dx=\"-0.20\" dy=\"0.20\">O</text>\n",
       "          </g>\n",
       "          <g font-size=\"0.25\" stroke-width=\"0.03\">\n",
       "            <text x=\"-10.10\" y=\"0.28\" dx=\"-0.05\" dy=\"0.20\" text-anchor=\"end\">4</text>\n",
       "            <text x=\"-9.38\" y=\"-0.14\" dx=\"-0.15\" dy=\"0.35\" text-anchor=\"end\">1</text>\n",
       "          </g>\n",
       "          <g font-family=\"monospace\" font-size=\"0.3\" stroke-width=\"0.03\">\n",
       "            <text x=\"-9.38\" y=\"-0.14\" dx=\"0.05\" dy=\"-0.20\">↑</text>\n",
       "            <text x=\"-9.38\" y=\"-0.14\" dx=\"-0.05\" dy=\"-0.20\" text-anchor=\"end\">15</text>\n",
       "          </g>\n",
       "        </g>\n",
       "      </mask>\n",
       "    </defs>\n",
       "    <g fill=\"none\" stroke=\"black\" stroke-width=\"0.04\"  mask=\"url(#mask-099d32fc-40d2-413f-a8e3-3856c48280bd)\">\n",
       "      <line x1=\"-10.72\" y1=\"-0.76\" x2=\"-8.51\" y2=\"-0.76\" stroke=\"none\"/>\n",
       "      <line x1=\"-10.10\" y1=\"0.28\" x2=\"-9.38\" y2=\"-0.14\"/>\n",
       "    </g>\n",
       "    <g font-family=\"monospace\">\n",
       "      <g fill=\"#FF0D0D\" font-family=\"sans-serif\">\n",
       "        <text x=\"-9.38\" y=\"-0.14\" dx=\"-0.20\" dy=\"0.20\" font-size=\"0.50\">O</text>\n",
       "      </g>\n",
       "      <g font-family=\"monospace\" fill=\"black\" font-size=\"0.30\">\n",
       "        <text x=\"-9.38\" y=\"-0.14\" dx=\"0.05\" dy=\"-0.20\">↑</text>\n",
       "        <text x=\"-9.38\" y=\"-0.14\" dx=\"-0.05\" dy=\"-0.20\" text-anchor=\"end\">15</text>\n",
       "      </g>\n",
       "      <g fill=\"#0305A7\" font-size=\"0.25\">\n",
       "        <text x=\"-10.10\" y=\"0.28\" dx=\"-0.05\" dy=\"0.20\" text-anchor=\"end\">4</text>\n",
       "        <text x=\"-9.38\" y=\"-0.14\" dx=\"-0.15\" dy=\"0.35\" text-anchor=\"end\">1</text>\n",
       "      </g>\n",
       "    </g>\n",
       "  </g>\n",
       "</svg>"
      ],
      "text/plain": [
       "<CGRtools.containers.molecule.MoleculeContainer at 0x7fb0bb3c6700>"
      ]
     },
     "execution_count": 39,
     "metadata": {},
     "output_type": "execute_result"
    }
   ],
   "source": [
    "m1"
   ]
  },
  {
   "cell_type": "code",
   "execution_count": 40,
   "metadata": {},
   "outputs": [
    {
     "data": {
      "text/plain": [
       "[]"
      ]
     },
     "execution_count": 40,
     "metadata": {},
     "output_type": "execute_result"
    }
   ],
   "source": [
    "m1.check_valence() # return list of numbers of atoms with invalid valences"
   ]
  },
  {
   "cell_type": "code",
   "execution_count": 41,
   "metadata": {},
   "outputs": [
    {
     "data": {
      "image/svg+xml": [
       "<svg width=\"2.21cm\" height=\"1.66cm\" viewBox=\"-10.72 -0.76 2.21 1.66\" xmlns=\"http://www.w3.org/2000/svg\" version=\"1.1\">\n",
       "  <g>\n",
       "    <defs>\n",
       "      <mask id=\"mask-fc782aa5-7246-42ec-9a44-5cef576baf13\">\n",
       "        <rect x=\"-10.72\" y=\"-0.76\" width=\"2.21\" height=\"1.66\" fill=\"white\"/>\n",
       "        <g fill=\"black\">\n",
       "          <circle cx=\"-9.38\" cy=\"-0.14\" r=\"0.20\"/>\n",
       "        </g>\n",
       "        <g font-family=\"monospace\" stroke=\"black\">\n",
       "          <g font-family=\"sans-serif\" font-size=\"0.50\" stroke-width=\"0.05\">\n",
       "            <text x=\"-9.38\" y=\"-0.14\" dx=\"-0.20\" dy=\"0.20\">O</text>\n",
       "          </g>\n",
       "          <g font-size=\"0.25\" stroke-width=\"0.03\">\n",
       "            <text x=\"-10.10\" y=\"0.28\" dx=\"-0.05\" dy=\"0.20\" text-anchor=\"end\">4</text>\n",
       "            <text x=\"-9.38\" y=\"-0.14\" dx=\"-0.15\" dy=\"0.35\" text-anchor=\"end\">1</text>\n",
       "          </g>\n",
       "        </g>\n",
       "      </mask>\n",
       "    </defs>\n",
       "    <g fill=\"none\" stroke=\"black\" stroke-width=\"0.04\"  mask=\"url(#mask-fc782aa5-7246-42ec-9a44-5cef576baf13)\">\n",
       "      <line x1=\"-10.16\" y1=\"0.16\" x2=\"-9.45\" y2=\"-0.25\"/>\n",
       "      <line x1=\"-10.10\" y1=\"0.28\" x2=\"-9.38\" y2=\"-0.14\"/>\n",
       "      <line x1=\"-10.03\" y1=\"0.39\" x2=\"-9.32\" y2=\"-0.02\"/>\n",
       "    </g>\n",
       "    <g font-family=\"monospace\">\n",
       "      <g fill=\"#FF0D0D\" font-family=\"sans-serif\">\n",
       "        <text x=\"-9.38\" y=\"-0.14\" dx=\"-0.20\" dy=\"0.20\" font-size=\"0.50\">O</text>\n",
       "      </g>\n",
       "      <g fill=\"#0305A7\" font-size=\"0.25\">\n",
       "        <text x=\"-10.10\" y=\"0.28\" dx=\"-0.05\" dy=\"0.20\" text-anchor=\"end\">4</text>\n",
       "        <text x=\"-9.38\" y=\"-0.14\" dx=\"-0.15\" dy=\"0.35\" text-anchor=\"end\">1</text>\n",
       "      </g>\n",
       "    </g>\n",
       "  </g>\n",
       "</svg>"
      ],
      "text/plain": [
       "<CGRtools.containers.molecule.MoleculeContainer at 0x7fb0b93fa5c0>"
      ]
     },
     "execution_count": 41,
     "metadata": {},
     "output_type": "execute_result"
    }
   ],
   "source": [
    "m4 # molecule with valence errors"
   ]
  },
  {
   "cell_type": "code",
   "execution_count": 42,
   "metadata": {},
   "outputs": [
    {
     "data": {
      "text/plain": [
       "[1]"
      ]
     },
     "execution_count": 42,
     "metadata": {},
     "output_type": "execute_result"
    }
   ],
   "source": [
    "m4.check_valence()"
   ]
  },
  {
   "cell_type": "code",
   "execution_count": 43,
   "metadata": {},
   "outputs": [
    {
     "data": {
      "image/svg+xml": [
       "<svg width=\"2.93cm\" height=\"4.96cm\" viewBox=\"1.80 -4.34 2.93 4.96\" xmlns=\"http://www.w3.org/2000/svg\" version=\"1.1\">\n",
       "  <g>\n",
       "    <defs>\n",
       "      <mask id=\"mask-3f7a0608-a1f3-4b71-922e-2f0d1bb89a19\">\n",
       "        <rect x=\"1.80\" y=\"-4.34\" width=\"2.93\" height=\"4.96\" fill=\"white\"/>\n",
       "        <g fill=\"black\">\n",
       "          <circle cx=\"3.14\" cy=\"-3.30\" r=\"0.20\"/>\n",
       "          <circle cx=\"2.43\" cy=\"-3.71\" r=\"0.20\"/>\n",
       "          <circle cx=\"3.86\" cy=\"-3.71\" r=\"0.20\"/>\n",
       "          <circle cx=\"3.14\" cy=\"-0.00\" r=\"0.20\"/>\n",
       "        </g>\n",
       "        <g font-family=\"monospace\" stroke=\"black\">\n",
       "          <g font-family=\"sans-serif\" font-size=\"0.50\" stroke-width=\"0.05\">\n",
       "            <text x=\"3.14\" y=\"-3.30\" dx=\"-0.20\" dy=\"0.20\">N</text>\n",
       "            <text x=\"2.43\" y=\"-3.71\" dx=\"-0.20\" dy=\"0.20\">O</text>\n",
       "            <text x=\"3.86\" y=\"-3.71\" dx=\"-0.20\" dy=\"0.20\">O</text>\n",
       "            <text x=\"3.14\" y=\"-0.00\" dx=\"-0.20\" dy=\"0.20\">OH</text>\n",
       "          </g>\n",
       "          <g font-size=\"0.25\" stroke-width=\"0.03\">\n",
       "            <text x=\"3.14\" y=\"-2.48\" dx=\"-0.05\" dy=\"0.20\" text-anchor=\"end\">4</text>\n",
       "            <text x=\"3.86\" y=\"-2.06\" dx=\"-0.05\" dy=\"0.20\" text-anchor=\"end\">5</text>\n",
       "            <text x=\"3.86\" y=\"-1.24\" dx=\"-0.05\" dy=\"0.20\" text-anchor=\"end\">6</text>\n",
       "            <text x=\"3.14\" y=\"-0.82\" dx=\"-0.05\" dy=\"0.20\" text-anchor=\"end\">7</text>\n",
       "            <text x=\"2.43\" y=\"-1.24\" dx=\"-0.05\" dy=\"0.20\" text-anchor=\"end\">8</text>\n",
       "            <text x=\"2.43\" y=\"-2.06\" dx=\"-0.05\" dy=\"0.20\" text-anchor=\"end\">9</text>\n",
       "            <text x=\"3.14\" y=\"-3.30\" dx=\"-0.15\" dy=\"0.35\" text-anchor=\"end\">10</text>\n",
       "            <text x=\"2.43\" y=\"-3.71\" dx=\"-0.15\" dy=\"0.35\" text-anchor=\"end\">11</text>\n",
       "            <text x=\"3.86\" y=\"-3.71\" dx=\"-0.15\" dy=\"0.35\" text-anchor=\"end\">12</text>\n",
       "            <text x=\"3.14\" y=\"-0.00\" dx=\"-0.15\" dy=\"0.35\" text-anchor=\"end\">13</text>\n",
       "          </g>\n",
       "        </g>\n",
       "      </mask>\n",
       "    </defs>\n",
       "    <g fill=\"none\" stroke=\"black\" stroke-width=\"0.04\"  mask=\"url(#mask-3f7a0608-a1f3-4b71-922e-2f0d1bb89a19)\">\n",
       "      <line x1=\"3.14\" y1=\"-2.48\" x2=\"3.86\" y2=\"-2.06\"/>\n",
       "      <line x1=\"3.17\" y1=\"-2.42\" x2=\"2.46\" y2=\"-2.01\"/>\n",
       "      <line x1=\"3.11\" y1=\"-2.53\" x2=\"2.40\" y2=\"-2.11\"/>\n",
       "      <line x1=\"3.14\" y1=\"-2.48\" x2=\"3.14\" y2=\"-3.30\"/>\n",
       "      <line x1=\"3.92\" y1=\"-2.06\" x2=\"3.92\" y2=\"-1.24\"/>\n",
       "      <line x1=\"3.80\" y1=\"-2.06\" x2=\"3.80\" y2=\"-1.24\"/>\n",
       "      <line x1=\"3.86\" y1=\"-1.24\" x2=\"3.14\" y2=\"-0.82\"/>\n",
       "      <line x1=\"3.11\" y1=\"-0.77\" x2=\"2.40\" y2=\"-1.19\"/>\n",
       "      <line x1=\"3.17\" y1=\"-0.88\" x2=\"2.46\" y2=\"-1.29\"/>\n",
       "      <line x1=\"3.14\" y1=\"-0.82\" x2=\"3.14\" y2=\"-0.00\"/>\n",
       "      <line x1=\"2.43\" y1=\"-1.24\" x2=\"2.43\" y2=\"-2.06\"/>\n",
       "      <line x1=\"3.11\" y1=\"-3.25\" x2=\"2.40\" y2=\"-3.66\"/>\n",
       "      <line x1=\"3.17\" y1=\"-3.35\" x2=\"2.46\" y2=\"-3.76\"/>\n",
       "      <line x1=\"3.11\" y1=\"-3.35\" x2=\"3.83\" y2=\"-3.76\"/>\n",
       "      <line x1=\"3.17\" y1=\"-3.25\" x2=\"3.89\" y2=\"-3.66\"/>\n",
       "    </g>\n",
       "    <g font-family=\"monospace\">\n",
       "      <g fill=\"#3050F8\" font-family=\"sans-serif\">\n",
       "        <text x=\"3.14\" y=\"-3.30\" dx=\"-0.20\" dy=\"0.20\" font-size=\"0.50\">N</text>\n",
       "      </g>\n",
       "      <g fill=\"#FF0D0D\" font-family=\"sans-serif\">\n",
       "        <text x=\"2.43\" y=\"-3.71\" dx=\"-0.20\" dy=\"0.20\" font-size=\"0.50\">O</text>\n",
       "      </g>\n",
       "      <g fill=\"#FF0D0D\" font-family=\"sans-serif\">\n",
       "        <text x=\"3.86\" y=\"-3.71\" dx=\"-0.20\" dy=\"0.20\" font-size=\"0.50\">O</text>\n",
       "      </g>\n",
       "      <g fill=\"#FF0D0D\" font-family=\"sans-serif\">\n",
       "        <text x=\"3.14\" y=\"-0.00\" dx=\"-0.20\" dy=\"0.20\" font-size=\"0.50\">OH</text>\n",
       "      </g>\n",
       "      <g fill=\"#0305A7\" font-size=\"0.25\">\n",
       "        <text x=\"3.14\" y=\"-2.48\" dx=\"-0.05\" dy=\"0.20\" text-anchor=\"end\">4</text>\n",
       "        <text x=\"3.86\" y=\"-2.06\" dx=\"-0.05\" dy=\"0.20\" text-anchor=\"end\">5</text>\n",
       "        <text x=\"3.86\" y=\"-1.24\" dx=\"-0.05\" dy=\"0.20\" text-anchor=\"end\">6</text>\n",
       "        <text x=\"3.14\" y=\"-0.82\" dx=\"-0.05\" dy=\"0.20\" text-anchor=\"end\">7</text>\n",
       "        <text x=\"2.43\" y=\"-1.24\" dx=\"-0.05\" dy=\"0.20\" text-anchor=\"end\">8</text>\n",
       "        <text x=\"2.43\" y=\"-2.06\" dx=\"-0.05\" dy=\"0.20\" text-anchor=\"end\">9</text>\n",
       "        <text x=\"3.14\" y=\"-3.30\" dx=\"-0.15\" dy=\"0.35\" text-anchor=\"end\">10</text>\n",
       "        <text x=\"2.43\" y=\"-3.71\" dx=\"-0.15\" dy=\"0.35\" text-anchor=\"end\">11</text>\n",
       "        <text x=\"3.86\" y=\"-3.71\" dx=\"-0.15\" dy=\"0.35\" text-anchor=\"end\">12</text>\n",
       "        <text x=\"3.14\" y=\"-0.00\" dx=\"-0.15\" dy=\"0.35\" text-anchor=\"end\">13</text>\n",
       "      </g>\n",
       "    </g>\n",
       "  </g>\n",
       "</svg>"
      ],
      "text/plain": [
       "<CGRtools.containers.molecule.MoleculeContainer at 0x7fb0b93fa520>"
      ]
     },
     "execution_count": 43,
     "metadata": {},
     "output_type": "execute_result"
    }
   ],
   "source": [
    "m3"
   ]
  },
  {
   "cell_type": "code",
   "execution_count": 44,
   "metadata": {},
   "outputs": [
    {
     "data": {
      "text/plain": [
       "((4, 5, 6, 7, 8, 9),)"
      ]
     },
     "execution_count": 44,
     "metadata": {},
     "output_type": "execute_result"
    }
   ],
   "source": [
    "m3.sssr # Method for application of Smallest Set of Smallest Rings algorithm for rings \n",
    "        # identification. Returns tuple of tuples of atoms forming smallest rings"
   ]
  },
  {
   "cell_type": "markdown",
   "metadata": {},
   "source": [
    "#### Connected components.\n",
    "Sometimes molecules has disconnected components (salts etc).\n",
    "\n",
    "One can find them and split molecule to separate components."
   ]
  },
  {
   "cell_type": "code",
   "execution_count": 45,
   "metadata": {
    "scrolled": true
   },
   "outputs": [
    {
     "data": {
      "image/svg+xml": [
       "<svg width=\"9.00cm\" height=\"3.39cm\" viewBox=\"-8.12 -1.70 9.00 3.39\" xmlns=\"http://www.w3.org/2000/svg\" version=\"1.1\">\n",
       "  <g>\n",
       "    <defs>\n",
       "      <mask id=\"mask-80b6c3df-a025-4ec5-b660-8fd681947d42\">\n",
       "        <rect x=\"-8.12\" y=\"-1.70\" width=\"9.00\" height=\"3.39\" fill=\"white\"/>\n",
       "        <g fill=\"black\">\n",
       "          <circle cx=\"-6.67\" cy=\"-1.07\" r=\"0.20\"/>\n",
       "          <circle cx=\"-5.44\" cy=\"-0.36\" r=\"0.20\"/>\n",
       "          <circle cx=\"-6.26\" cy=\"1.07\" r=\"0.20\"/>\n",
       "          <circle cx=\"-7.50\" cy=\"0.36\" r=\"0.20\"/>\n",
       "          <ellipse cx=\"-0.07\" cy=\"-0.00\" rx=\"0.35\" ry=\"0.2\"/>\n",
       "        </g>\n",
       "        <g font-family=\"monospace\" stroke=\"black\">\n",
       "          <g font-family=\"sans-serif\" font-size=\"0.50\" stroke-width=\"0.05\">\n",
       "            <text x=\"-6.67\" y=\"-1.07\" dx=\"-0.20\" dy=\"0.20\">O</text>\n",
       "            <text x=\"-5.44\" y=\"-0.36\" dx=\"-0.20\" dy=\"0.20\">O</text>\n",
       "            <text x=\"-6.26\" y=\"1.07\" dx=\"-0.20\" dy=\"0.20\">O</text>\n",
       "            <text x=\"-7.50\" y=\"0.36\" dx=\"-0.20\" dy=\"0.20\">OH</text>\n",
       "            <text x=\"0.00\" y=\"-0.00\" dx=\"-0.35\" dy=\"0.20\">Na</text>\n",
       "          </g>\n",
       "          <g font-size=\"0.25\" stroke-width=\"0.03\">\n",
       "            <text x=\"-6.26\" y=\"-0.36\" dx=\"-0.05\" dy=\"0.20\" text-anchor=\"end\">5</text>\n",
       "            <text x=\"-6.67\" y=\"0.36\" dx=\"-0.05\" dy=\"0.20\" text-anchor=\"end\">6</text>\n",
       "            <text x=\"-6.67\" y=\"-1.07\" dx=\"-0.15\" dy=\"0.35\" text-anchor=\"end\">7</text>\n",
       "            <text x=\"-5.44\" y=\"-0.36\" dx=\"-0.15\" dy=\"0.35\" text-anchor=\"end\">8</text>\n",
       "            <text x=\"-6.26\" y=\"1.07\" dx=\"-0.15\" dy=\"0.35\" text-anchor=\"end\">9</text>\n",
       "            <text x=\"-7.50\" y=\"0.36\" dx=\"-0.15\" dy=\"0.35\" text-anchor=\"end\">10</text>\n",
       "            <text x=\"0.00\" y=\"-0.00\" dx=\"-0.30\" dy=\"0.35\" text-anchor=\"end\">11</text>\n",
       "          </g>\n",
       "          <g font-family=\"monospace\" font-size=\"0.3\" stroke-width=\"0.03\">\n",
       "           <text x=\"-5.44\" y=\"-0.36\" dx=\"0.05\" dy=\"-0.20\">-</text>\n",
       "           <text x=\"0.00\" y=\"-0.00\" dx=\"0.05\" dy=\"-0.20\">+</text>\n",
       "          </g>\n",
       "        </g>\n",
       "      </mask>\n",
       "    </defs>\n",
       "    <g fill=\"none\" stroke=\"black\" stroke-width=\"0.04\"  mask=\"url(#mask-80b6c3df-a025-4ec5-b660-8fd681947d42)\">\n",
       "      <line x1=\"-6.26\" y1=\"-0.36\" x2=\"-6.67\" y2=\"0.36\"/>\n",
       "      <line x1=\"-6.31\" y1=\"-0.33\" x2=\"-6.73\" y2=\"-1.04\"/>\n",
       "      <line x1=\"-6.21\" y1=\"-0.39\" x2=\"-6.62\" y2=\"-1.10\"/>\n",
       "      <line x1=\"-6.26\" y1=\"-0.36\" x2=\"-5.44\" y2=\"-0.36\"/>\n",
       "      <line x1=\"-6.62\" y1=\"0.33\" x2=\"-6.21\" y2=\"1.04\"/>\n",
       "      <line x1=\"-6.73\" y1=\"0.39\" x2=\"-6.31\" y2=\"1.10\"/>\n",
       "      <line x1=\"-6.67\" y1=\"0.36\" x2=\"-7.50\" y2=\"0.36\"/>\n",
       "    </g>\n",
       "    <g font-family=\"monospace\">\n",
       "      <g fill=\"#FF0D0D\" font-family=\"sans-serif\">\n",
       "        <text x=\"-6.67\" y=\"-1.07\" dx=\"-0.20\" dy=\"0.20\" font-size=\"0.50\">O</text>\n",
       "      </g>\n",
       "      <g fill=\"#FF0D0D\" font-family=\"sans-serif\">\n",
       "        <text x=\"-5.44\" y=\"-0.36\" dx=\"-0.20\" dy=\"0.20\" font-size=\"0.50\">O</text>\n",
       "      </g>\n",
       "      <g fill=\"#FF0D0D\" font-family=\"sans-serif\">\n",
       "        <text x=\"-6.26\" y=\"1.07\" dx=\"-0.20\" dy=\"0.20\" font-size=\"0.50\">O</text>\n",
       "      </g>\n",
       "      <g fill=\"#FF0D0D\" font-family=\"sans-serif\">\n",
       "        <text x=\"-7.50\" y=\"0.36\" dx=\"-0.20\" dy=\"0.20\" font-size=\"0.50\">OH</text>\n",
       "      </g>\n",
       "      <g fill=\"#AB5CF2\" font-family=\"sans-serif\">\n",
       "        <text x=\"0.00\" y=\"-0.00\" dx=\"-0.35\" dy=\"0.20\" font-size=\"0.50\">Na</text>\n",
       "      </g>\n",
       "      <g font-family=\"monospace\" fill=\"black\" font-size=\"0.30\">\n",
       "        <text x=\"-5.44\" y=\"-0.36\" dx=\"0.05\" dy=\"-0.20\">-</text>\n",
       "        <text x=\"0.00\" y=\"-0.00\" dx=\"0.05\" dy=\"-0.20\">+</text>\n",
       "      </g>\n",
       "      <g fill=\"#0305A7\" font-size=\"0.25\">\n",
       "        <text x=\"-6.26\" y=\"-0.36\" dx=\"-0.05\" dy=\"0.20\" text-anchor=\"end\">5</text>\n",
       "        <text x=\"-6.67\" y=\"0.36\" dx=\"-0.05\" dy=\"0.20\" text-anchor=\"end\">6</text>\n",
       "        <text x=\"-6.67\" y=\"-1.07\" dx=\"-0.15\" dy=\"0.35\" text-anchor=\"end\">7</text>\n",
       "        <text x=\"-5.44\" y=\"-0.36\" dx=\"-0.15\" dy=\"0.35\" text-anchor=\"end\">8</text>\n",
       "        <text x=\"-6.26\" y=\"1.07\" dx=\"-0.15\" dy=\"0.35\" text-anchor=\"end\">9</text>\n",
       "        <text x=\"-7.50\" y=\"0.36\" dx=\"-0.15\" dy=\"0.35\" text-anchor=\"end\">10</text>\n",
       "        <text x=\"0.00\" y=\"-0.00\" dx=\"-0.30\" dy=\"0.35\" text-anchor=\"end\">11</text>\n",
       "      </g>\n",
       "    </g>\n",
       "  </g>\n",
       "</svg>"
      ],
      "text/plain": [
       "<CGRtools.containers.molecule.MoleculeContainer at 0x7fb0b93fa160>"
      ]
     },
     "execution_count": 45,
     "metadata": {},
     "output_type": "execute_result"
    }
   ],
   "source": [
    "m2 # it's a salt represented as one graph"
   ]
  },
  {
   "cell_type": "code",
   "execution_count": 46,
   "metadata": {},
   "outputs": [
    {
     "data": {
      "text/plain": [
       "((5, 6, 7, 8, 9, 10), (11,))"
      ]
     },
     "execution_count": 46,
     "metadata": {},
     "output_type": "execute_result"
    }
   ],
   "source": [
    "m2.connected_components # tuple of tuples of atoms belonging to graph components"
   ]
  },
  {
   "cell_type": "code",
   "execution_count": 47,
   "metadata": {},
   "outputs": [],
   "source": [
    "anion, cation = m2.split() # split molecule to components"
   ]
  },
  {
   "cell_type": "code",
   "execution_count": 48,
   "metadata": {},
   "outputs": [
    {
     "data": {
      "image/svg+xml": [
       "<svg width=\"3.56cm\" height=\"3.39cm\" viewBox=\"-8.12 -1.70 3.56 3.39\" xmlns=\"http://www.w3.org/2000/svg\" version=\"1.1\">\n",
       "  <g>\n",
       "    <defs>\n",
       "      <mask id=\"mask-717f0d92-b20f-42c3-9e78-d3b49feaa932\">\n",
       "        <rect x=\"-8.12\" y=\"-1.70\" width=\"3.56\" height=\"3.39\" fill=\"white\"/>\n",
       "        <g fill=\"black\">\n",
       "          <circle cx=\"-6.67\" cy=\"-1.07\" r=\"0.20\"/>\n",
       "          <circle cx=\"-5.44\" cy=\"-0.36\" r=\"0.20\"/>\n",
       "          <circle cx=\"-6.26\" cy=\"1.07\" r=\"0.20\"/>\n",
       "          <circle cx=\"-7.50\" cy=\"0.36\" r=\"0.20\"/>\n",
       "        </g>\n",
       "        <g font-family=\"monospace\" stroke=\"black\">\n",
       "          <g font-family=\"sans-serif\" font-size=\"0.50\" stroke-width=\"0.05\">\n",
       "            <text x=\"-6.67\" y=\"-1.07\" dx=\"-0.20\" dy=\"0.20\">O</text>\n",
       "            <text x=\"-5.44\" y=\"-0.36\" dx=\"-0.20\" dy=\"0.20\">O</text>\n",
       "            <text x=\"-6.26\" y=\"1.07\" dx=\"-0.20\" dy=\"0.20\">O</text>\n",
       "            <text x=\"-7.50\" y=\"0.36\" dx=\"-0.20\" dy=\"0.20\">OH</text>\n",
       "          </g>\n",
       "          <g font-size=\"0.25\" stroke-width=\"0.03\">\n",
       "            <text x=\"-6.26\" y=\"-0.36\" dx=\"-0.05\" dy=\"0.20\" text-anchor=\"end\">5</text>\n",
       "            <text x=\"-6.67\" y=\"0.36\" dx=\"-0.05\" dy=\"0.20\" text-anchor=\"end\">6</text>\n",
       "            <text x=\"-6.67\" y=\"-1.07\" dx=\"-0.15\" dy=\"0.35\" text-anchor=\"end\">7</text>\n",
       "            <text x=\"-5.44\" y=\"-0.36\" dx=\"-0.15\" dy=\"0.35\" text-anchor=\"end\">8</text>\n",
       "            <text x=\"-6.26\" y=\"1.07\" dx=\"-0.15\" dy=\"0.35\" text-anchor=\"end\">9</text>\n",
       "            <text x=\"-7.50\" y=\"0.36\" dx=\"-0.15\" dy=\"0.35\" text-anchor=\"end\">10</text>\n",
       "          </g>\n",
       "          <g font-family=\"monospace\" font-size=\"0.3\" stroke-width=\"0.03\">\n",
       "           <text x=\"-5.44\" y=\"-0.36\" dx=\"0.05\" dy=\"-0.20\">-</text>\n",
       "          </g>\n",
       "        </g>\n",
       "      </mask>\n",
       "    </defs>\n",
       "    <g fill=\"none\" stroke=\"black\" stroke-width=\"0.04\"  mask=\"url(#mask-717f0d92-b20f-42c3-9e78-d3b49feaa932)\">\n",
       "      <line x1=\"-6.26\" y1=\"-0.36\" x2=\"-6.67\" y2=\"0.36\"/>\n",
       "      <line x1=\"-6.31\" y1=\"-0.33\" x2=\"-6.73\" y2=\"-1.04\"/>\n",
       "      <line x1=\"-6.21\" y1=\"-0.39\" x2=\"-6.62\" y2=\"-1.10\"/>\n",
       "      <line x1=\"-6.26\" y1=\"-0.36\" x2=\"-5.44\" y2=\"-0.36\"/>\n",
       "      <line x1=\"-6.62\" y1=\"0.33\" x2=\"-6.21\" y2=\"1.04\"/>\n",
       "      <line x1=\"-6.73\" y1=\"0.39\" x2=\"-6.31\" y2=\"1.10\"/>\n",
       "      <line x1=\"-6.67\" y1=\"0.36\" x2=\"-7.50\" y2=\"0.36\"/>\n",
       "    </g>\n",
       "    <g font-family=\"monospace\">\n",
       "      <g fill=\"#FF0D0D\" font-family=\"sans-serif\">\n",
       "        <text x=\"-6.67\" y=\"-1.07\" dx=\"-0.20\" dy=\"0.20\" font-size=\"0.50\">O</text>\n",
       "      </g>\n",
       "      <g fill=\"#FF0D0D\" font-family=\"sans-serif\">\n",
       "        <text x=\"-5.44\" y=\"-0.36\" dx=\"-0.20\" dy=\"0.20\" font-size=\"0.50\">O</text>\n",
       "      </g>\n",
       "      <g fill=\"#FF0D0D\" font-family=\"sans-serif\">\n",
       "        <text x=\"-6.26\" y=\"1.07\" dx=\"-0.20\" dy=\"0.20\" font-size=\"0.50\">O</text>\n",
       "      </g>\n",
       "      <g fill=\"#FF0D0D\" font-family=\"sans-serif\">\n",
       "        <text x=\"-7.50\" y=\"0.36\" dx=\"-0.20\" dy=\"0.20\" font-size=\"0.50\">OH</text>\n",
       "      </g>\n",
       "      <g font-family=\"monospace\" fill=\"black\" font-size=\"0.30\">\n",
       "        <text x=\"-5.44\" y=\"-0.36\" dx=\"0.05\" dy=\"-0.20\">-</text>\n",
       "      </g>\n",
       "      <g fill=\"#0305A7\" font-size=\"0.25\">\n",
       "        <text x=\"-6.26\" y=\"-0.36\" dx=\"-0.05\" dy=\"0.20\" text-anchor=\"end\">5</text>\n",
       "        <text x=\"-6.67\" y=\"0.36\" dx=\"-0.05\" dy=\"0.20\" text-anchor=\"end\">6</text>\n",
       "        <text x=\"-6.67\" y=\"-1.07\" dx=\"-0.15\" dy=\"0.35\" text-anchor=\"end\">7</text>\n",
       "        <text x=\"-5.44\" y=\"-0.36\" dx=\"-0.15\" dy=\"0.35\" text-anchor=\"end\">8</text>\n",
       "        <text x=\"-6.26\" y=\"1.07\" dx=\"-0.15\" dy=\"0.35\" text-anchor=\"end\">9</text>\n",
       "        <text x=\"-7.50\" y=\"0.36\" dx=\"-0.15\" dy=\"0.35\" text-anchor=\"end\">10</text>\n",
       "      </g>\n",
       "    </g>\n",
       "  </g>\n",
       "</svg>"
      ],
      "text/plain": [
       "<CGRtools.containers.molecule.MoleculeContainer at 0x7fb0b93fbc40>"
      ]
     },
     "execution_count": 48,
     "metadata": {},
     "output_type": "execute_result"
    }
   ],
   "source": [
    "anion # graph of only one salt component"
   ]
  },
  {
   "cell_type": "code",
   "execution_count": 49,
   "metadata": {},
   "outputs": [
    {
     "data": {
      "image/svg+xml": [
       "<svg width=\"1.50cm\" height=\"1.25cm\" viewBox=\"-0.62 -0.62 1.50 1.25\" xmlns=\"http://www.w3.org/2000/svg\" version=\"1.1\">\n",
       "  <g>\n",
       "    <g font-family=\"monospace\">\n",
       "      <g fill=\"#AB5CF2\" font-family=\"sans-serif\">\n",
       "        <text x=\"0.00\" y=\"-0.00\" dx=\"-0.35\" dy=\"0.20\" font-size=\"0.50\">Na</text>\n",
       "      </g>\n",
       "      <g font-family=\"monospace\" fill=\"black\" font-size=\"0.30\">\n",
       "        <text x=\"0.00\" y=\"-0.00\" dx=\"0.05\" dy=\"-0.20\">+</text>\n",
       "      </g>\n",
       "      <g fill=\"#0305A7\" font-size=\"0.25\">\n",
       "        <text x=\"0.00\" y=\"-0.00\" dx=\"-0.30\" dy=\"0.35\" text-anchor=\"end\">11</text>\n",
       "      </g>\n",
       "    </g>\n",
       "  </g>\n",
       "</svg>"
      ],
      "text/plain": [
       "<CGRtools.containers.molecule.MoleculeContainer at 0x7fb0b93fbd80>"
      ]
     },
     "execution_count": 49,
     "metadata": {},
     "output_type": "execute_result"
    }
   ],
   "source": [
    "cation # graph of only one salt component"
   ]
  },
  {
   "cell_type": "markdown",
   "metadata": {},
   "source": [
    "#### Union of molecules\n",
    "Sometimes it is more convenient to represent salts as ion pair. Otherwise ambiguity could be introduced, for example in reaction of salt exchange:\n",
    "\n",
    "**Ag+** + **NO3-** + **Na+** + **Br-** = **Ag+** + **Br-** + **Na+** + **NO3-**. Reactants and products sets are the same. \n",
    "\n",
    "In this case one can combine anion-cation pair into single graph. It could be convenient way to represent other molecule mixtures."
   ]
  },
  {
   "cell_type": "code",
   "execution_count": 50,
   "metadata": {},
   "outputs": [
    {
     "data": {
      "image/svg+xml": [
       "<svg width=\"9.00cm\" height=\"3.39cm\" viewBox=\"-8.12 -1.70 9.00 3.39\" xmlns=\"http://www.w3.org/2000/svg\" version=\"1.1\">\n",
       "  <g>\n",
       "    <defs>\n",
       "      <mask id=\"mask-b8af6b13-5faa-4c1d-a7cc-ad71b9a64fd4\">\n",
       "        <rect x=\"-8.12\" y=\"-1.70\" width=\"9.00\" height=\"3.39\" fill=\"white\"/>\n",
       "        <g fill=\"black\">\n",
       "          <circle cx=\"-6.67\" cy=\"-1.07\" r=\"0.20\"/>\n",
       "          <circle cx=\"-5.44\" cy=\"-0.36\" r=\"0.20\"/>\n",
       "          <circle cx=\"-6.26\" cy=\"1.07\" r=\"0.20\"/>\n",
       "          <circle cx=\"-7.50\" cy=\"0.36\" r=\"0.20\"/>\n",
       "          <ellipse cx=\"-0.07\" cy=\"-0.00\" rx=\"0.35\" ry=\"0.2\"/>\n",
       "        </g>\n",
       "        <g font-family=\"monospace\" stroke=\"black\">\n",
       "          <g font-family=\"sans-serif\" font-size=\"0.50\" stroke-width=\"0.05\">\n",
       "            <text x=\"-6.67\" y=\"-1.07\" dx=\"-0.20\" dy=\"0.20\">O</text>\n",
       "            <text x=\"-5.44\" y=\"-0.36\" dx=\"-0.20\" dy=\"0.20\">O</text>\n",
       "            <text x=\"-6.26\" y=\"1.07\" dx=\"-0.20\" dy=\"0.20\">O</text>\n",
       "            <text x=\"-7.50\" y=\"0.36\" dx=\"-0.20\" dy=\"0.20\">OH</text>\n",
       "            <text x=\"0.00\" y=\"-0.00\" dx=\"-0.35\" dy=\"0.20\">Na</text>\n",
       "          </g>\n",
       "          <g font-size=\"0.25\" stroke-width=\"0.03\">\n",
       "            <text x=\"-6.26\" y=\"-0.36\" dx=\"-0.05\" dy=\"0.20\" text-anchor=\"end\">5</text>\n",
       "            <text x=\"-6.67\" y=\"0.36\" dx=\"-0.05\" dy=\"0.20\" text-anchor=\"end\">6</text>\n",
       "            <text x=\"-6.67\" y=\"-1.07\" dx=\"-0.15\" dy=\"0.35\" text-anchor=\"end\">7</text>\n",
       "            <text x=\"-5.44\" y=\"-0.36\" dx=\"-0.15\" dy=\"0.35\" text-anchor=\"end\">8</text>\n",
       "            <text x=\"-6.26\" y=\"1.07\" dx=\"-0.15\" dy=\"0.35\" text-anchor=\"end\">9</text>\n",
       "            <text x=\"-7.50\" y=\"0.36\" dx=\"-0.15\" dy=\"0.35\" text-anchor=\"end\">10</text>\n",
       "            <text x=\"0.00\" y=\"-0.00\" dx=\"-0.30\" dy=\"0.35\" text-anchor=\"end\">11</text>\n",
       "          </g>\n",
       "          <g font-family=\"monospace\" font-size=\"0.3\" stroke-width=\"0.03\">\n",
       "           <text x=\"-5.44\" y=\"-0.36\" dx=\"0.05\" dy=\"-0.20\">-</text>\n",
       "           <text x=\"0.00\" y=\"-0.00\" dx=\"0.05\" dy=\"-0.20\">+</text>\n",
       "          </g>\n",
       "        </g>\n",
       "      </mask>\n",
       "    </defs>\n",
       "    <g fill=\"none\" stroke=\"black\" stroke-width=\"0.04\"  mask=\"url(#mask-b8af6b13-5faa-4c1d-a7cc-ad71b9a64fd4)\">\n",
       "      <line x1=\"-6.26\" y1=\"-0.36\" x2=\"-6.67\" y2=\"0.36\"/>\n",
       "      <line x1=\"-6.31\" y1=\"-0.33\" x2=\"-6.73\" y2=\"-1.04\"/>\n",
       "      <line x1=\"-6.21\" y1=\"-0.39\" x2=\"-6.62\" y2=\"-1.10\"/>\n",
       "      <line x1=\"-6.26\" y1=\"-0.36\" x2=\"-5.44\" y2=\"-0.36\"/>\n",
       "      <line x1=\"-6.62\" y1=\"0.33\" x2=\"-6.21\" y2=\"1.04\"/>\n",
       "      <line x1=\"-6.73\" y1=\"0.39\" x2=\"-6.31\" y2=\"1.10\"/>\n",
       "      <line x1=\"-6.67\" y1=\"0.36\" x2=\"-7.50\" y2=\"0.36\"/>\n",
       "    </g>\n",
       "    <g font-family=\"monospace\">\n",
       "      <g fill=\"#FF0D0D\" font-family=\"sans-serif\">\n",
       "        <text x=\"-6.67\" y=\"-1.07\" dx=\"-0.20\" dy=\"0.20\" font-size=\"0.50\">O</text>\n",
       "      </g>\n",
       "      <g fill=\"#FF0D0D\" font-family=\"sans-serif\">\n",
       "        <text x=\"-5.44\" y=\"-0.36\" dx=\"-0.20\" dy=\"0.20\" font-size=\"0.50\">O</text>\n",
       "      </g>\n",
       "      <g fill=\"#FF0D0D\" font-family=\"sans-serif\">\n",
       "        <text x=\"-6.26\" y=\"1.07\" dx=\"-0.20\" dy=\"0.20\" font-size=\"0.50\">O</text>\n",
       "      </g>\n",
       "      <g fill=\"#FF0D0D\" font-family=\"sans-serif\">\n",
       "        <text x=\"-7.50\" y=\"0.36\" dx=\"-0.20\" dy=\"0.20\" font-size=\"0.50\">OH</text>\n",
       "      </g>\n",
       "      <g fill=\"#AB5CF2\" font-family=\"sans-serif\">\n",
       "        <text x=\"0.00\" y=\"-0.00\" dx=\"-0.35\" dy=\"0.20\" font-size=\"0.50\">Na</text>\n",
       "      </g>\n",
       "      <g font-family=\"monospace\" fill=\"black\" font-size=\"0.30\">\n",
       "        <text x=\"-5.44\" y=\"-0.36\" dx=\"0.05\" dy=\"-0.20\">-</text>\n",
       "        <text x=\"0.00\" y=\"-0.00\" dx=\"0.05\" dy=\"-0.20\">+</text>\n",
       "      </g>\n",
       "      <g fill=\"#0305A7\" font-size=\"0.25\">\n",
       "        <text x=\"-6.26\" y=\"-0.36\" dx=\"-0.05\" dy=\"0.20\" text-anchor=\"end\">5</text>\n",
       "        <text x=\"-6.67\" y=\"0.36\" dx=\"-0.05\" dy=\"0.20\" text-anchor=\"end\">6</text>\n",
       "        <text x=\"-6.67\" y=\"-1.07\" dx=\"-0.15\" dy=\"0.35\" text-anchor=\"end\">7</text>\n",
       "        <text x=\"-5.44\" y=\"-0.36\" dx=\"-0.15\" dy=\"0.35\" text-anchor=\"end\">8</text>\n",
       "        <text x=\"-6.26\" y=\"1.07\" dx=\"-0.15\" dy=\"0.35\" text-anchor=\"end\">9</text>\n",
       "        <text x=\"-7.50\" y=\"0.36\" dx=\"-0.15\" dy=\"0.35\" text-anchor=\"end\">10</text>\n",
       "        <text x=\"0.00\" y=\"-0.00\" dx=\"-0.30\" dy=\"0.35\" text-anchor=\"end\">11</text>\n",
       "      </g>\n",
       "    </g>\n",
       "  </g>\n",
       "</svg>"
      ],
      "text/plain": [
       "<CGRtools.containers.molecule.MoleculeContainer at 0x7fb0b93fbf60>"
      ]
     },
     "execution_count": 50,
     "metadata": {},
     "output_type": "execute_result"
    }
   ],
   "source": [
    "salt = anion | cation \n",
    "# or \n",
    "salt = anion.union(cation)\n",
    "salt # this graph has disconnected components, it is considered single compound now"
   ]
  },
  {
   "cell_type": "markdown",
   "metadata": {},
   "source": [
    "#### Substructures could be extracted from molecules.\n"
   ]
  },
  {
   "cell_type": "code",
   "execution_count": 51,
   "metadata": {},
   "outputs": [
    {
     "data": {
      "image/svg+xml": [
       "<svg width=\"2.93cm\" height=\"2.90cm\" viewBox=\"1.80 -3.10 2.93 2.90\" xmlns=\"http://www.w3.org/2000/svg\" version=\"1.1\">\n",
       "  <g>\n",
       "    <defs>\n",
       "      <mask id=\"mask-b70c4ac5-0177-4316-8223-41730fe86e2b\">\n",
       "        <rect x=\"1.80\" y=\"-3.10\" width=\"2.93\" height=\"2.90\" fill=\"white\"/>\n",
       "        <g font-family=\"monospace\" stroke=\"black\">\n",
       "          <g font-size=\"0.25\" stroke-width=\"0.03\">\n",
       "            <text x=\"3.14\" y=\"-2.48\" dx=\"-0.05\" dy=\"0.20\" text-anchor=\"end\">4</text>\n",
       "            <text x=\"3.86\" y=\"-2.06\" dx=\"-0.05\" dy=\"0.20\" text-anchor=\"end\">5</text>\n",
       "            <text x=\"3.86\" y=\"-1.24\" dx=\"-0.05\" dy=\"0.20\" text-anchor=\"end\">6</text>\n",
       "            <text x=\"3.14\" y=\"-0.82\" dx=\"-0.05\" dy=\"0.20\" text-anchor=\"end\">7</text>\n",
       "            <text x=\"2.43\" y=\"-1.24\" dx=\"-0.05\" dy=\"0.20\" text-anchor=\"end\">8</text>\n",
       "            <text x=\"2.43\" y=\"-2.06\" dx=\"-0.05\" dy=\"0.20\" text-anchor=\"end\">9</text>\n",
       "          </g>\n",
       "        </g>\n",
       "      </mask>\n",
       "    </defs>\n",
       "    <g fill=\"none\" stroke=\"black\" stroke-width=\"0.04\"  mask=\"url(#mask-b70c4ac5-0177-4316-8223-41730fe86e2b)\">\n",
       "      <line x1=\"3.14\" y1=\"-2.48\" x2=\"3.86\" y2=\"-2.06\"/>\n",
       "      <line x1=\"3.17\" y1=\"-2.42\" x2=\"2.46\" y2=\"-2.01\"/>\n",
       "      <line x1=\"3.11\" y1=\"-2.53\" x2=\"2.40\" y2=\"-2.11\"/>\n",
       "      <line x1=\"3.92\" y1=\"-2.06\" x2=\"3.92\" y2=\"-1.24\"/>\n",
       "      <line x1=\"3.80\" y1=\"-2.06\" x2=\"3.80\" y2=\"-1.24\"/>\n",
       "      <line x1=\"3.86\" y1=\"-1.24\" x2=\"3.14\" y2=\"-0.82\"/>\n",
       "      <line x1=\"3.11\" y1=\"-0.77\" x2=\"2.40\" y2=\"-1.19\"/>\n",
       "      <line x1=\"3.17\" y1=\"-0.88\" x2=\"2.46\" y2=\"-1.29\"/>\n",
       "      <line x1=\"2.43\" y1=\"-1.24\" x2=\"2.43\" y2=\"-2.06\"/>\n",
       "    </g>\n",
       "    <g font-family=\"monospace\">\n",
       "      <g fill=\"#0305A7\" font-size=\"0.25\">\n",
       "        <text x=\"3.14\" y=\"-2.48\" dx=\"-0.05\" dy=\"0.20\" text-anchor=\"end\">4</text>\n",
       "        <text x=\"3.86\" y=\"-2.06\" dx=\"-0.05\" dy=\"0.20\" text-anchor=\"end\">5</text>\n",
       "        <text x=\"3.86\" y=\"-1.24\" dx=\"-0.05\" dy=\"0.20\" text-anchor=\"end\">6</text>\n",
       "        <text x=\"3.14\" y=\"-0.82\" dx=\"-0.05\" dy=\"0.20\" text-anchor=\"end\">7</text>\n",
       "        <text x=\"2.43\" y=\"-1.24\" dx=\"-0.05\" dy=\"0.20\" text-anchor=\"end\">8</text>\n",
       "        <text x=\"2.43\" y=\"-2.06\" dx=\"-0.05\" dy=\"0.20\" text-anchor=\"end\">9</text>\n",
       "      </g>\n",
       "    </g>\n",
       "  </g>\n",
       "</svg>"
      ],
      "text/plain": [
       "<CGRtools.containers.molecule.MoleculeContainer at 0x7fb0b93fbec0>"
      ]
     },
     "execution_count": 51,
     "metadata": {},
     "output_type": "execute_result"
    }
   ],
   "source": [
    "sub = m3.substructure([4,5,6,7,8,9])  # substructure with passed atoms\n",
    "sub"
   ]
  },
  {
   "cell_type": "markdown",
   "metadata": {},
   "source": [
    "`augmented_substructure` is a substructure consisting from atoms and a given number of shells of neighboring atoms around it.\n",
    "**deep** argument is a number of considered shells. \n",
    "\n",
    "It also returns projection by default."
   ]
  },
  {
   "cell_type": "code",
   "execution_count": 52,
   "metadata": {},
   "outputs": [
    {
     "data": {
      "image/svg+xml": [
       "<svg width=\"2.93cm\" height=\"2.90cm\" viewBox=\"1.80 -4.34 2.93 2.90\" xmlns=\"http://www.w3.org/2000/svg\" version=\"1.1\">\n",
       "  <g>\n",
       "    <defs>\n",
       "      <mask id=\"mask-c62298fb-5a8a-4e59-9bb4-107db5a878c8\">\n",
       "        <rect x=\"1.80\" y=\"-4.34\" width=\"2.93\" height=\"2.90\" fill=\"white\"/>\n",
       "        <g fill=\"black\">\n",
       "          <circle cx=\"3.14\" cy=\"-3.30\" r=\"0.20\"/>\n",
       "          <circle cx=\"2.43\" cy=\"-3.71\" r=\"0.20\"/>\n",
       "          <circle cx=\"3.86\" cy=\"-3.71\" r=\"0.20\"/>\n",
       "        </g>\n",
       "        <g font-family=\"monospace\" stroke=\"black\">\n",
       "          <g font-family=\"sans-serif\" font-size=\"0.50\" stroke-width=\"0.05\">\n",
       "            <text x=\"3.14\" y=\"-3.30\" dx=\"-0.20\" dy=\"0.20\">N</text>\n",
       "            <text x=\"2.43\" y=\"-3.71\" dx=\"-0.20\" dy=\"0.20\">O</text>\n",
       "            <text x=\"3.86\" y=\"-3.71\" dx=\"-0.20\" dy=\"0.20\">O</text>\n",
       "          </g>\n",
       "          <g font-size=\"0.25\" stroke-width=\"0.03\">\n",
       "            <text x=\"3.14\" y=\"-2.48\" dx=\"-0.05\" dy=\"0.20\" text-anchor=\"end\">4</text>\n",
       "            <text x=\"3.86\" y=\"-2.06\" dx=\"-0.05\" dy=\"0.20\" text-anchor=\"end\">5</text>\n",
       "            <text x=\"2.43\" y=\"-2.06\" dx=\"-0.05\" dy=\"0.20\" text-anchor=\"end\">9</text>\n",
       "            <text x=\"3.14\" y=\"-3.30\" dx=\"-0.15\" dy=\"0.35\" text-anchor=\"end\">10</text>\n",
       "            <text x=\"2.43\" y=\"-3.71\" dx=\"-0.15\" dy=\"0.35\" text-anchor=\"end\">11</text>\n",
       "            <text x=\"3.86\" y=\"-3.71\" dx=\"-0.15\" dy=\"0.35\" text-anchor=\"end\">12</text>\n",
       "          </g>\n",
       "        </g>\n",
       "      </mask>\n",
       "    </defs>\n",
       "    <g fill=\"none\" stroke=\"black\" stroke-width=\"0.04\"  mask=\"url(#mask-c62298fb-5a8a-4e59-9bb4-107db5a878c8)\">\n",
       "      <line x1=\"3.14\" y1=\"-2.48\" x2=\"3.86\" y2=\"-2.06\"/>\n",
       "      <line x1=\"3.17\" y1=\"-2.42\" x2=\"2.46\" y2=\"-2.01\"/>\n",
       "      <line x1=\"3.11\" y1=\"-2.53\" x2=\"2.40\" y2=\"-2.11\"/>\n",
       "      <line x1=\"3.14\" y1=\"-2.48\" x2=\"3.14\" y2=\"-3.30\"/>\n",
       "      <line x1=\"3.11\" y1=\"-3.25\" x2=\"2.40\" y2=\"-3.66\"/>\n",
       "      <line x1=\"3.17\" y1=\"-3.35\" x2=\"2.46\" y2=\"-3.76\"/>\n",
       "      <line x1=\"3.11\" y1=\"-3.35\" x2=\"3.83\" y2=\"-3.76\"/>\n",
       "      <line x1=\"3.17\" y1=\"-3.25\" x2=\"3.89\" y2=\"-3.66\"/>\n",
       "    </g>\n",
       "    <g font-family=\"monospace\">\n",
       "      <g fill=\"#3050F8\" font-family=\"sans-serif\">\n",
       "        <text x=\"3.14\" y=\"-3.30\" dx=\"-0.20\" dy=\"0.20\" font-size=\"0.50\">N</text>\n",
       "      </g>\n",
       "      <g fill=\"#FF0D0D\" font-family=\"sans-serif\">\n",
       "        <text x=\"2.43\" y=\"-3.71\" dx=\"-0.20\" dy=\"0.20\" font-size=\"0.50\">O</text>\n",
       "      </g>\n",
       "      <g fill=\"#FF0D0D\" font-family=\"sans-serif\">\n",
       "        <text x=\"3.86\" y=\"-3.71\" dx=\"-0.20\" dy=\"0.20\" font-size=\"0.50\">O</text>\n",
       "      </g>\n",
       "      <g fill=\"#0305A7\" font-size=\"0.25\">\n",
       "        <text x=\"3.14\" y=\"-2.48\" dx=\"-0.05\" dy=\"0.20\" text-anchor=\"end\">4</text>\n",
       "        <text x=\"3.86\" y=\"-2.06\" dx=\"-0.05\" dy=\"0.20\" text-anchor=\"end\">5</text>\n",
       "        <text x=\"2.43\" y=\"-2.06\" dx=\"-0.05\" dy=\"0.20\" text-anchor=\"end\">9</text>\n",
       "        <text x=\"3.14\" y=\"-3.30\" dx=\"-0.15\" dy=\"0.35\" text-anchor=\"end\">10</text>\n",
       "        <text x=\"2.43\" y=\"-3.71\" dx=\"-0.15\" dy=\"0.35\" text-anchor=\"end\">11</text>\n",
       "        <text x=\"3.86\" y=\"-3.71\" dx=\"-0.15\" dy=\"0.35\" text-anchor=\"end\">12</text>\n",
       "      </g>\n",
       "    </g>\n",
       "  </g>\n",
       "</svg>"
      ],
      "text/plain": [
       "<CGRtools.containers.molecule.MoleculeContainer at 0x7fb0b9084040>"
      ]
     },
     "execution_count": 52,
     "metadata": {},
     "output_type": "execute_result"
    }
   ],
   "source": [
    "aug = m3.augmented_substructure([10], deep=2) #  atom 10 is Nitrogen\n",
    "aug"
   ]
  },
  {
   "cell_type": "markdown",
   "metadata": {},
   "source": [
    "#### Atoms Ordering.\n",
    "This functionality is used for canonic numbering of atoms in molecules. Morgan algorithm is used for atom ranking. Property `atoms_order` returns dictionary of atom numbers as keys and their ranks according to canonicalization as values. Equal rank mean that atoms are symmetric (are mapped to each other in automorhisms)."
   ]
  },
  {
   "cell_type": "code",
   "execution_count": 53,
   "metadata": {},
   "outputs": [
    {
     "data": {
      "text/plain": [
       "{4: 1, 1: 2, 3: 3}"
      ]
     },
     "execution_count": 53,
     "metadata": {},
     "output_type": "execute_result"
    }
   ],
   "source": [
    "m5.atoms_order"
   ]
  },
  {
   "cell_type": "markdown",
   "metadata": {},
   "source": [
    "#### Atom number can be changed by `remap` method.\n",
    "\n",
    "This method is useful when it is needed to change order of atoms in molecules. First argument to `remap` method is dictionary with existing atom numbers as keys and desired atom number as values. It is possible to change atom numbers for only part of atoms. Atom numbers could be non-sequencial but need to be unique. \n",
    "\n",
    "If argument *copy* is set ***True*** new object will be created, else existing molecule will be changed. Default is ***False***. "
   ]
  },
  {
   "cell_type": "code",
   "execution_count": 54,
   "metadata": {},
   "outputs": [
    {
     "data": {
      "image/svg+xml": [
       "<svg width=\"2.93cm\" height=\"1.66cm\" viewBox=\"-0.62 -1.04 2.93 1.66\" xmlns=\"http://www.w3.org/2000/svg\" version=\"1.1\">\n",
       "  <g>\n",
       "    <defs>\n",
       "      <mask id=\"mask-4b750a76-20c9-4777-a1a4-96bd12292b75\">\n",
       "        <rect x=\"-0.62\" y=\"-1.04\" width=\"2.93\" height=\"1.66\" fill=\"white\"/>\n",
       "        <g fill=\"black\">\n",
       "          <circle cx=\"1.43\" cy=\"-0.41\" r=\"0.20\"/>\n",
       "        </g>\n",
       "        <g font-family=\"monospace\" stroke=\"black\">\n",
       "          <g font-family=\"sans-serif\" font-size=\"0.50\" stroke-width=\"0.05\">\n",
       "            <text x=\"1.43\" y=\"-0.41\" dx=\"-0.20\" dy=\"0.20\">OH</text>\n",
       "          </g>\n",
       "          <g font-size=\"0.25\" stroke-width=\"0.03\">\n",
       "            <text x=\"0.00\" y=\"-0.41\" dx=\"-0.05\" dy=\"0.20\" text-anchor=\"end\">3</text>\n",
       "            <text x=\"0.71\" y=\"-0.00\" dx=\"-0.05\" dy=\"0.20\" text-anchor=\"end\">4</text>\n",
       "            <text x=\"1.43\" y=\"-0.41\" dx=\"-0.15\" dy=\"0.35\" text-anchor=\"end\">1</text>\n",
       "          </g>\n",
       "        </g>\n",
       "      </mask>\n",
       "    </defs>\n",
       "    <g fill=\"none\" stroke=\"black\" stroke-width=\"0.04\"  mask=\"url(#mask-4b750a76-20c9-4777-a1a4-96bd12292b75)\">\n",
       "      <line x1=\"0.00\" y1=\"-0.41\" x2=\"0.71\" y2=\"-0.00\"/>\n",
       "      <line x1=\"0.71\" y1=\"-0.00\" x2=\"1.43\" y2=\"-0.41\"/>\n",
       "    </g>\n",
       "    <g font-family=\"monospace\">\n",
       "      <g fill=\"#FF0D0D\" font-family=\"sans-serif\">\n",
       "        <text x=\"1.43\" y=\"-0.41\" dx=\"-0.20\" dy=\"0.20\" font-size=\"0.50\">OH</text>\n",
       "      </g>\n",
       "      <g fill=\"#0305A7\" font-size=\"0.25\">\n",
       "        <text x=\"0.00\" y=\"-0.41\" dx=\"-0.05\" dy=\"0.20\" text-anchor=\"end\">3</text>\n",
       "        <text x=\"0.71\" y=\"-0.00\" dx=\"-0.05\" dy=\"0.20\" text-anchor=\"end\">4</text>\n",
       "        <text x=\"1.43\" y=\"-0.41\" dx=\"-0.15\" dy=\"0.35\" text-anchor=\"end\">1</text>\n",
       "      </g>\n",
       "    </g>\n",
       "  </g>\n",
       "</svg>"
      ],
      "text/plain": [
       "<CGRtools.containers.molecule.MoleculeContainer at 0x7fb0b93fa660>"
      ]
     },
     "execution_count": 54,
     "metadata": {},
     "output_type": "execute_result"
    }
   ],
   "source": [
    "m5"
   ]
  },
  {
   "cell_type": "code",
   "execution_count": 55,
   "metadata": {},
   "outputs": [
    {
     "data": {
      "image/svg+xml": [
       "<svg width=\"2.93cm\" height=\"1.66cm\" viewBox=\"-0.62 -1.04 2.93 1.66\" xmlns=\"http://www.w3.org/2000/svg\" version=\"1.1\">\n",
       "  <g>\n",
       "    <defs>\n",
       "      <mask id=\"mask-9b88b0f0-c662-4be2-b1d6-390db2df6360\">\n",
       "        <rect x=\"-0.62\" y=\"-1.04\" width=\"2.93\" height=\"1.66\" fill=\"white\"/>\n",
       "        <g fill=\"black\">\n",
       "          <circle cx=\"1.43\" cy=\"-0.41\" r=\"0.20\"/>\n",
       "        </g>\n",
       "        <g font-family=\"monospace\" stroke=\"black\">\n",
       "          <g font-family=\"sans-serif\" font-size=\"0.50\" stroke-width=\"0.05\">\n",
       "            <text x=\"1.43\" y=\"-0.41\" dx=\"-0.20\" dy=\"0.20\">OH</text>\n",
       "          </g>\n",
       "          <g font-size=\"0.25\" stroke-width=\"0.03\">\n",
       "            <text x=\"0.00\" y=\"-0.41\" dx=\"-0.05\" dy=\"0.20\" text-anchor=\"end\">3</text>\n",
       "            <text x=\"0.71\" y=\"-0.00\" dx=\"-0.05\" dy=\"0.20\" text-anchor=\"end\">2</text>\n",
       "            <text x=\"1.43\" y=\"-0.41\" dx=\"-0.15\" dy=\"0.35\" text-anchor=\"end\">1</text>\n",
       "          </g>\n",
       "        </g>\n",
       "      </mask>\n",
       "    </defs>\n",
       "    <g fill=\"none\" stroke=\"black\" stroke-width=\"0.04\"  mask=\"url(#mask-9b88b0f0-c662-4be2-b1d6-390db2df6360)\">\n",
       "      <line x1=\"0.00\" y1=\"-0.41\" x2=\"0.71\" y2=\"-0.00\"/>\n",
       "      <line x1=\"0.71\" y1=\"-0.00\" x2=\"1.43\" y2=\"-0.41\"/>\n",
       "    </g>\n",
       "    <g font-family=\"monospace\">\n",
       "      <g fill=\"#FF0D0D\" font-family=\"sans-serif\">\n",
       "        <text x=\"1.43\" y=\"-0.41\" dx=\"-0.20\" dy=\"0.20\" font-size=\"0.50\">OH</text>\n",
       "      </g>\n",
       "      <g fill=\"#0305A7\" font-size=\"0.25\">\n",
       "        <text x=\"0.00\" y=\"-0.41\" dx=\"-0.05\" dy=\"0.20\" text-anchor=\"end\">3</text>\n",
       "        <text x=\"0.71\" y=\"-0.00\" dx=\"-0.05\" dy=\"0.20\" text-anchor=\"end\">2</text>\n",
       "        <text x=\"1.43\" y=\"-0.41\" dx=\"-0.15\" dy=\"0.35\" text-anchor=\"end\">1</text>\n",
       "      </g>\n",
       "    </g>\n",
       "  </g>\n",
       "</svg>"
      ],
      "text/plain": [
       "<CGRtools.containers.molecule.MoleculeContainer at 0x7fb0b90840e0>"
      ]
     },
     "execution_count": 55,
     "metadata": {},
     "output_type": "execute_result"
    }
   ],
   "source": [
    "remapped = m5.remap({4:2}, copy=True)\n",
    "remapped"
   ]
  },
  {
   "cell_type": "markdown",
   "metadata": {},
   "source": [
    "## 1.2. ReactionContainer\n",
    "\n",
    "*ReactionContainer* objects has the following properties:\n",
    "\n",
    "* **reactants** - list of reactants molecules\n",
    "* **reagents** - list of reagents molecules\n",
    "* **products** - list of products molecules\n",
    "* **meta** - dictinary of reaction metadata (DTYPE/DATUM block in RDF)"
   ]
  },
  {
   "cell_type": "code",
   "execution_count": 56,
   "metadata": {},
   "outputs": [
    {
     "data": {
      "image/svg+xml": [
       "<svg width=\"17.82cm\" height=\"3.39cm\" viewBox=\"-0.62 -1.70 17.82 3.39\" xmlns=\"http://www.w3.org/2000/svg\" version=\"1.1\">\n",
       "  <defs>\n",
       "    <marker id=\"arrow\" markerWidth=\"10\" markerHeight=\"10\" refX=\"0\" refY=\"3\" orient=\"auto\">\n",
       "      <path d=\"M0,0 L0,6 L9,3\"/>\n",
       "    </marker>\n",
       "  </defs>\n",
       "  <line x1=\"8.32\" y1=\"0\" x2=\"10.32\" y2=\"0\" fill=\"none\" stroke=\"black\" stroke-width=\".04\" marker-end=\"url(#arrow)\"/>\n",
       "  <g fill=\"none\" stroke=\"black\" stroke-width=\".04\">\n",
       "    <line x1=\"1.98\" y1=\"0\" x2=\"2.28\" y2=\"0\"/>\n",
       "    <line x1=\"2.13\" y1=\"0.15\" x2=\"2.13\" y2=\"-0.15\"/>\n",
       "    <line x1=\"5.24\" y1=\"0\" x2=\"5.54\" y2=\"0\"/>\n",
       "    <line x1=\"5.39\" y1=\"0.15\" x2=\"5.39\" y2=\"-0.15\"/>\n",
       "  </g>\n",
       "  <g>\n",
       "    <defs>\n",
       "      <mask id=\"mask-47269e24-6df2-4d78-b364-db51e3175a72\">\n",
       "        <rect x=\"-0.62\" y=\"-1.70\" width=\"17.82\" height=\"3.39\" fill=\"white\"/>\n",
       "        <g fill=\"black\">\n",
       "          <circle cx=\"1.43\" cy=\"-0.21\" r=\"0.20\"/>\n",
       "        </g>\n",
       "        <g font-family=\"monospace\" stroke=\"black\">\n",
       "          <g font-family=\"sans-serif\" font-size=\"0.50\" stroke-width=\"0.05\">\n",
       "            <text x=\"1.43\" y=\"-0.21\" dx=\"-0.20\" dy=\"0.20\">OH</text>\n",
       "          </g>\n",
       "          <g font-size=\"0.25\" stroke-width=\"0.03\">\n",
       "            <text x=\"0.00\" y=\"-0.21\" dx=\"-0.05\" dy=\"0.20\" text-anchor=\"end\">3</text>\n",
       "            <text x=\"0.71\" y=\"0.21\" dx=\"-0.05\" dy=\"0.20\" text-anchor=\"end\">4</text>\n",
       "            <text x=\"1.43\" y=\"-0.21\" dx=\"-0.15\" dy=\"0.35\" text-anchor=\"end\">1</text>\n",
       "          </g>\n",
       "        </g>\n",
       "      </mask>\n",
       "    </defs>\n",
       "    <g fill=\"none\" stroke=\"black\" stroke-width=\"0.04\"  mask=\"url(#mask-47269e24-6df2-4d78-b364-db51e3175a72)\">\n",
       "      <line x1=\"0.00\" y1=\"-0.21\" x2=\"0.71\" y2=\"0.21\"/>\n",
       "      <line x1=\"0.71\" y1=\"0.21\" x2=\"1.43\" y2=\"-0.21\"/>\n",
       "    </g>\n",
       "    <g font-family=\"monospace\">\n",
       "      <g fill=\"#FF0D0D\" font-family=\"sans-serif\">\n",
       "        <text x=\"1.43\" y=\"-0.21\" dx=\"-0.20\" dy=\"0.20\" font-size=\"0.50\">OH</text>\n",
       "      </g>\n",
       "      <g fill=\"#0305A7\" font-size=\"0.25\">\n",
       "        <text x=\"0.00\" y=\"-0.21\" dx=\"-0.05\" dy=\"0.20\" text-anchor=\"end\">3</text>\n",
       "        <text x=\"0.71\" y=\"0.21\" dx=\"-0.05\" dy=\"0.20\" text-anchor=\"end\">4</text>\n",
       "        <text x=\"1.43\" y=\"-0.21\" dx=\"-0.15\" dy=\"0.35\" text-anchor=\"end\">1</text>\n",
       "      </g>\n",
       "    </g>\n",
       "  </g>\n",
       "  <g>\n",
       "    <defs>\n",
       "      <mask id=\"mask-dda32e81-5f6f-45d1-890e-3b920f4c9be5\">\n",
       "        <rect x=\"-0.62\" y=\"-1.70\" width=\"17.82\" height=\"3.39\" fill=\"white\"/>\n",
       "        <g fill=\"black\">\n",
       "          <circle cx=\"3.45\" cy=\"-1.07\" r=\"0.20\"/>\n",
       "          <circle cx=\"4.69\" cy=\"-0.36\" r=\"0.20\"/>\n",
       "          <circle cx=\"3.87\" cy=\"1.07\" r=\"0.20\"/>\n",
       "          <circle cx=\"2.63\" cy=\"0.36\" r=\"0.20\"/>\n",
       "        </g>\n",
       "        <g font-family=\"monospace\" stroke=\"black\">\n",
       "          <g font-family=\"sans-serif\" font-size=\"0.50\" stroke-width=\"0.05\">\n",
       "            <text x=\"3.45\" y=\"-1.07\" dx=\"-0.20\" dy=\"0.20\">O</text>\n",
       "            <text x=\"4.69\" y=\"-0.36\" dx=\"-0.20\" dy=\"0.20\">OH</text>\n",
       "            <text x=\"3.87\" y=\"1.07\" dx=\"-0.20\" dy=\"0.20\">O</text>\n",
       "            <text x=\"2.63\" y=\"0.36\" dx=\"-0.20\" dy=\"0.20\">OH</text>\n",
       "          </g>\n",
       "          <g font-size=\"0.25\" stroke-width=\"0.03\">\n",
       "            <text x=\"3.87\" y=\"-0.36\" dx=\"-0.05\" dy=\"0.20\" text-anchor=\"end\">5</text>\n",
       "            <text x=\"3.45\" y=\"0.36\" dx=\"-0.05\" dy=\"0.20\" text-anchor=\"end\">6</text>\n",
       "            <text x=\"3.45\" y=\"-1.07\" dx=\"-0.15\" dy=\"0.35\" text-anchor=\"end\">7</text>\n",
       "            <text x=\"4.69\" y=\"-0.36\" dx=\"-0.15\" dy=\"0.35\" text-anchor=\"end\">8</text>\n",
       "            <text x=\"3.87\" y=\"1.07\" dx=\"-0.15\" dy=\"0.35\" text-anchor=\"end\">9</text>\n",
       "            <text x=\"2.63\" y=\"0.36\" dx=\"-0.15\" dy=\"0.35\" text-anchor=\"end\">10</text>\n",
       "          </g>\n",
       "        </g>\n",
       "      </mask>\n",
       "    </defs>\n",
       "    <g fill=\"none\" stroke=\"black\" stroke-width=\"0.04\"  mask=\"url(#mask-dda32e81-5f6f-45d1-890e-3b920f4c9be5)\">\n",
       "      <line x1=\"3.87\" y1=\"-0.36\" x2=\"3.45\" y2=\"0.36\"/>\n",
       "      <line x1=\"3.81\" y1=\"-0.33\" x2=\"3.40\" y2=\"-1.04\"/>\n",
       "      <line x1=\"3.92\" y1=\"-0.39\" x2=\"3.51\" y2=\"-1.10\"/>\n",
       "      <line x1=\"3.87\" y1=\"-0.36\" x2=\"4.69\" y2=\"-0.36\"/>\n",
       "      <line x1=\"3.51\" y1=\"0.33\" x2=\"3.92\" y2=\"1.04\"/>\n",
       "      <line x1=\"3.40\" y1=\"0.39\" x2=\"3.81\" y2=\"1.10\"/>\n",
       "      <line x1=\"3.45\" y1=\"0.36\" x2=\"2.63\" y2=\"0.36\"/>\n",
       "    </g>\n",
       "    <g font-family=\"monospace\">\n",
       "      <g fill=\"#FF0D0D\" font-family=\"sans-serif\">\n",
       "        <text x=\"3.45\" y=\"-1.07\" dx=\"-0.20\" dy=\"0.20\" font-size=\"0.50\">O</text>\n",
       "      </g>\n",
       "      <g fill=\"#FF0D0D\" font-family=\"sans-serif\">\n",
       "        <text x=\"4.69\" y=\"-0.36\" dx=\"-0.20\" dy=\"0.20\" font-size=\"0.50\">OH</text>\n",
       "      </g>\n",
       "      <g fill=\"#FF0D0D\" font-family=\"sans-serif\">\n",
       "        <text x=\"3.87\" y=\"1.07\" dx=\"-0.20\" dy=\"0.20\" font-size=\"0.50\">O</text>\n",
       "      </g>\n",
       "      <g fill=\"#FF0D0D\" font-family=\"sans-serif\">\n",
       "        <text x=\"2.63\" y=\"0.36\" dx=\"-0.20\" dy=\"0.20\" font-size=\"0.50\">OH</text>\n",
       "      </g>\n",
       "      <g fill=\"#0305A7\" font-size=\"0.25\">\n",
       "        <text x=\"3.87\" y=\"-0.36\" dx=\"-0.05\" dy=\"0.20\" text-anchor=\"end\">5</text>\n",
       "        <text x=\"3.45\" y=\"0.36\" dx=\"-0.05\" dy=\"0.20\" text-anchor=\"end\">6</text>\n",
       "        <text x=\"3.45\" y=\"-1.07\" dx=\"-0.15\" dy=\"0.35\" text-anchor=\"end\">7</text>\n",
       "        <text x=\"4.69\" y=\"-0.36\" dx=\"-0.15\" dy=\"0.35\" text-anchor=\"end\">8</text>\n",
       "        <text x=\"3.87\" y=\"1.07\" dx=\"-0.15\" dy=\"0.35\" text-anchor=\"end\">9</text>\n",
       "        <text x=\"2.63\" y=\"0.36\" dx=\"-0.15\" dy=\"0.35\" text-anchor=\"end\">10</text>\n",
       "      </g>\n",
       "    </g>\n",
       "  </g>\n",
       "  <g>\n",
       "    <defs>\n",
       "      <mask id=\"mask-944ce468-dc09-48e3-b981-8456ab309a61\">\n",
       "        <rect x=\"-0.62\" y=\"-1.70\" width=\"17.82\" height=\"3.39\" fill=\"white\"/>\n",
       "        <g fill=\"black\">\n",
       "          <circle cx=\"7.32\" cy=\"-0.21\" r=\"0.20\"/>\n",
       "        </g>\n",
       "        <g font-family=\"monospace\" stroke=\"black\">\n",
       "          <g font-family=\"sans-serif\" font-size=\"0.50\" stroke-width=\"0.05\">\n",
       "            <text x=\"7.32\" y=\"-0.21\" dx=\"-0.20\" dy=\"0.20\">O</text>\n",
       "          </g>\n",
       "          <g font-size=\"0.25\" stroke-width=\"0.03\">\n",
       "            <text x=\"6.61\" y=\"0.21\" dx=\"-0.05\" dy=\"0.20\" text-anchor=\"end\">11</text>\n",
       "            <text x=\"5.89\" y=\"-0.21\" dx=\"-0.05\" dy=\"0.20\" text-anchor=\"end\">12</text>\n",
       "            <text x=\"7.32\" y=\"-0.21\" dx=\"-0.15\" dy=\"0.35\" text-anchor=\"end\">2</text>\n",
       "          </g>\n",
       "          <g font-family=\"monospace\" font-size=\"0.3\" stroke-width=\"0.03\">\n",
       "           <text x=\"7.32\" y=\"-0.21\" dx=\"0.05\" dy=\"-0.20\">-</text>\n",
       "          </g>\n",
       "        </g>\n",
       "      </mask>\n",
       "    </defs>\n",
       "    <g fill=\"none\" stroke=\"black\" stroke-width=\"0.04\"  mask=\"url(#mask-944ce468-dc09-48e3-b981-8456ab309a61)\">\n",
       "      <line x1=\"6.61\" y1=\"0.21\" x2=\"5.89\" y2=\"-0.21\"/>\n",
       "      <line x1=\"6.61\" y1=\"0.21\" x2=\"7.32\" y2=\"-0.21\"/>\n",
       "    </g>\n",
       "    <g font-family=\"monospace\">\n",
       "      <g fill=\"#FF0D0D\" font-family=\"sans-serif\">\n",
       "        <text x=\"7.32\" y=\"-0.21\" dx=\"-0.20\" dy=\"0.20\" font-size=\"0.50\">O</text>\n",
       "      </g>\n",
       "      <g font-family=\"monospace\" fill=\"black\" font-size=\"0.30\">\n",
       "        <text x=\"7.32\" y=\"-0.21\" dx=\"0.05\" dy=\"-0.20\">-</text>\n",
       "      </g>\n",
       "      <g fill=\"#0305A7\" font-size=\"0.25\">\n",
       "        <text x=\"6.61\" y=\"0.21\" dx=\"-0.05\" dy=\"0.20\" text-anchor=\"end\">11</text>\n",
       "        <text x=\"5.89\" y=\"-0.21\" dx=\"-0.05\" dy=\"0.20\" text-anchor=\"end\">12</text>\n",
       "        <text x=\"7.32\" y=\"-0.21\" dx=\"-0.15\" dy=\"0.35\" text-anchor=\"end\">2</text>\n",
       "      </g>\n",
       "    </g>\n",
       "  </g>\n",
       "  <g>\n",
       "    <defs>\n",
       "      <mask id=\"mask-242d4cf3-85b1-4d6e-bf7b-a5bfee055f20\">\n",
       "        <rect x=\"-0.62\" y=\"-1.70\" width=\"17.82\" height=\"3.39\" fill=\"white\"/>\n",
       "        <g fill=\"black\">\n",
       "          <circle cx=\"14.89\" cy=\"-0.21\" r=\"0.20\"/>\n",
       "          <circle cx=\"12.75\" cy=\"0.21\" r=\"0.20\"/>\n",
       "          <circle cx=\"13.46\" cy=\"-1.03\" r=\"0.20\"/>\n",
       "          <circle cx=\"14.18\" cy=\"1.03\" r=\"0.20\"/>\n",
       "        </g>\n",
       "        <g font-family=\"monospace\" stroke=\"black\">\n",
       "          <g font-family=\"sans-serif\" font-size=\"0.50\" stroke-width=\"0.05\">\n",
       "            <text x=\"14.89\" y=\"-0.21\" dx=\"-0.20\" dy=\"0.20\">O</text>\n",
       "            <text x=\"12.75\" y=\"0.21\" dx=\"-0.20\" dy=\"0.20\">O</text>\n",
       "            <text x=\"13.46\" y=\"-1.03\" dx=\"-0.20\" dy=\"0.20\">O</text>\n",
       "            <text x=\"14.18\" y=\"1.03\" dx=\"-0.20\" dy=\"0.20\">O</text>\n",
       "          </g>\n",
       "          <g font-size=\"0.25\" stroke-width=\"0.03\">\n",
       "            <text x=\"14.18\" y=\"0.21\" dx=\"-0.05\" dy=\"0.20\" text-anchor=\"end\">5</text>\n",
       "            <text x=\"13.46\" y=\"-0.21\" dx=\"-0.05\" dy=\"0.20\" text-anchor=\"end\">6</text>\n",
       "            <text x=\"14.89\" y=\"-0.21\" dx=\"-0.15\" dy=\"0.35\" text-anchor=\"end\">2</text>\n",
       "            <text x=\"12.75\" y=\"0.21\" dx=\"-0.15\" dy=\"0.35\" text-anchor=\"end\">1</text>\n",
       "            <text x=\"13.46\" y=\"-1.03\" dx=\"-0.15\" dy=\"0.35\" text-anchor=\"end\">9</text>\n",
       "            <text x=\"14.18\" y=\"1.03\" dx=\"-0.15\" dy=\"0.35\" text-anchor=\"end\">7</text>\n",
       "            <text x=\"15.61\" y=\"0.21\" dx=\"-0.05\" dy=\"0.20\" text-anchor=\"end\">11</text>\n",
       "            <text x=\"16.32\" y=\"-0.21\" dx=\"-0.05\" dy=\"0.20\" text-anchor=\"end\">12</text>\n",
       "            <text x=\"12.03\" y=\"-0.21\" dx=\"-0.05\" dy=\"0.20\" text-anchor=\"end\">4</text>\n",
       "            <text x=\"11.32\" y=\"0.21\" dx=\"-0.05\" dy=\"0.20\" text-anchor=\"end\">3</text>\n",
       "          </g>\n",
       "        </g>\n",
       "      </mask>\n",
       "    </defs>\n",
       "    <g fill=\"none\" stroke=\"black\" stroke-width=\"0.04\"  mask=\"url(#mask-242d4cf3-85b1-4d6e-bf7b-a5bfee055f20)\">\n",
       "      <line x1=\"14.18\" y1=\"0.21\" x2=\"13.46\" y2=\"-0.21\"/>\n",
       "      <line x1=\"14.18\" y1=\"0.21\" x2=\"14.89\" y2=\"-0.21\"/>\n",
       "      <line x1=\"14.24\" y1=\"0.21\" x2=\"14.24\" y2=\"1.03\"/>\n",
       "      <line x1=\"14.12\" y1=\"0.21\" x2=\"14.12\" y2=\"1.03\"/>\n",
       "      <line x1=\"13.46\" y1=\"-0.21\" x2=\"12.75\" y2=\"0.21\"/>\n",
       "      <line x1=\"13.40\" y1=\"-0.21\" x2=\"13.40\" y2=\"-1.03\"/>\n",
       "      <line x1=\"13.52\" y1=\"-0.21\" x2=\"13.52\" y2=\"-1.03\"/>\n",
       "      <line x1=\"14.89\" y1=\"-0.21\" x2=\"15.61\" y2=\"0.21\"/>\n",
       "      <line x1=\"12.75\" y1=\"0.21\" x2=\"12.03\" y2=\"-0.21\"/>\n",
       "      <line x1=\"15.61\" y1=\"0.21\" x2=\"16.32\" y2=\"-0.21\"/>\n",
       "      <line x1=\"12.03\" y1=\"-0.21\" x2=\"11.32\" y2=\"0.21\"/>\n",
       "    </g>\n",
       "    <g font-family=\"monospace\">\n",
       "      <g fill=\"#FF0D0D\" font-family=\"sans-serif\">\n",
       "        <text x=\"14.89\" y=\"-0.21\" dx=\"-0.20\" dy=\"0.20\" font-size=\"0.50\">O</text>\n",
       "      </g>\n",
       "      <g fill=\"#FF0D0D\" font-family=\"sans-serif\">\n",
       "        <text x=\"12.75\" y=\"0.21\" dx=\"-0.20\" dy=\"0.20\" font-size=\"0.50\">O</text>\n",
       "      </g>\n",
       "      <g fill=\"#FF0D0D\" font-family=\"sans-serif\">\n",
       "        <text x=\"13.46\" y=\"-1.03\" dx=\"-0.20\" dy=\"0.20\" font-size=\"0.50\">O</text>\n",
       "      </g>\n",
       "      <g fill=\"#FF0D0D\" font-family=\"sans-serif\">\n",
       "        <text x=\"14.18\" y=\"1.03\" dx=\"-0.20\" dy=\"0.20\" font-size=\"0.50\">O</text>\n",
       "      </g>\n",
       "      <g fill=\"#0305A7\" font-size=\"0.25\">\n",
       "        <text x=\"14.18\" y=\"0.21\" dx=\"-0.05\" dy=\"0.20\" text-anchor=\"end\">5</text>\n",
       "        <text x=\"13.46\" y=\"-0.21\" dx=\"-0.05\" dy=\"0.20\" text-anchor=\"end\">6</text>\n",
       "        <text x=\"14.89\" y=\"-0.21\" dx=\"-0.15\" dy=\"0.35\" text-anchor=\"end\">2</text>\n",
       "        <text x=\"12.75\" y=\"0.21\" dx=\"-0.15\" dy=\"0.35\" text-anchor=\"end\">1</text>\n",
       "        <text x=\"13.46\" y=\"-1.03\" dx=\"-0.15\" dy=\"0.35\" text-anchor=\"end\">9</text>\n",
       "        <text x=\"14.18\" y=\"1.03\" dx=\"-0.15\" dy=\"0.35\" text-anchor=\"end\">7</text>\n",
       "        <text x=\"15.61\" y=\"0.21\" dx=\"-0.05\" dy=\"0.20\" text-anchor=\"end\">11</text>\n",
       "        <text x=\"16.32\" y=\"-0.21\" dx=\"-0.05\" dy=\"0.20\" text-anchor=\"end\">12</text>\n",
       "        <text x=\"12.03\" y=\"-0.21\" dx=\"-0.05\" dy=\"0.20\" text-anchor=\"end\">4</text>\n",
       "        <text x=\"11.32\" y=\"0.21\" dx=\"-0.05\" dy=\"0.20\" text-anchor=\"end\">3</text>\n",
       "      </g>\n",
       "    </g>\n",
       "  </g>\n",
       "</svg>"
      ],
      "text/plain": [
       "<CGRtools.containers.reaction.ReactionContainer at 0x7fb14fe46140>"
      ]
     },
     "execution_count": 56,
     "metadata": {},
     "output_type": "execute_result"
    }
   ],
   "source": [
    "r1 # depiction supported"
   ]
  },
  {
   "cell_type": "code",
   "execution_count": 57,
   "metadata": {
    "scrolled": true
   },
   "outputs": [
    {
     "data": {
      "text/plain": [
       "{'CdId': '1872',\n",
       " 'solvent': '3',\n",
       " 'temperature': '129.5',\n",
       " 'tabulated_constant': '-6.87'}"
      ]
     },
     "execution_count": 57,
     "metadata": {},
     "output_type": "execute_result"
    }
   ],
   "source": [
    "r1.meta"
   ]
  },
  {
   "cell_type": "code",
   "execution_count": 58,
   "metadata": {},
   "outputs": [
    {
     "name": "stdout",
     "output_type": "stream",
     "text": [
      "[<CGRtools.containers.molecule.MoleculeContainer object at 0x7fb0b93fa660>, <CGRtools.containers.molecule.MoleculeContainer object at 0x7fb0b93fa700>, <CGRtools.containers.molecule.MoleculeContainer object at 0x7fb0b93fa7a0>] [<CGRtools.containers.molecule.MoleculeContainer object at 0x7fb0b93fa840>]\n"
     ]
    }
   ],
   "source": [
    "print(r1.reactants, r1.products)  # Access to lists of reactant and products.\n",
    "reactant1, reactant2, reactant3 = r1.reactants\n",
    "product = r1.products[0]"
   ]
  },
  {
   "cell_type": "markdown",
   "metadata": {},
   "source": [
    "Reactions also has `standardize`, `kekule`, `thiele`, `implicify_hydrogens`, `explicify_hydrogens`, etc methods (see part 3). These methods are applied independently to every molecule in reaction."
   ]
  },
  {
   "cell_type": "markdown",
   "metadata": {},
   "source": [
    "## 1.3. CGR\n",
    "*CGRContainer* object is similar to *MoleculeConrtainer*, except some methods. The following methods are not suppoted for *CGRContainer*:\n",
    "\n",
    "* standardization methods\n",
    "* hydrogens count methods\n",
    "* check_valence\n",
    "\n",
    "*CGRContainer* also has some methods absent in *MoleculeConrtainer*:\n",
    "\n",
    "* centers_list\n",
    "* center_atoms\n",
    "* center_bonds\n",
    "\n",
    "*CGRContainer* is undirected graph. Atoms and bonds in CGR has two states: reactant and product."
   ]
  },
  {
   "cell_type": "markdown",
   "metadata": {},
   "source": [
    "#### Composing to CGR\n",
    "\n",
    "As mentioned above, atoms in *MoleculeContainer* have unique numbers. These numbers are used as atom-to-atom mapping in CGRtools upon CGR creation. Thus, atom order for molecules in reaction should correspond to atom-to-atom mapping.  \n",
    "\n",
    "Pair of molecules can be transformed into CGR. Notice that, the same atom numbers in reagents and products imply the same atoms.\n",
    "\n",
    "Reaction also can be composed into CGR. Atom numbers of molecules in reaction are used as atom-to-atom mapping of reactants to products."
   ]
  },
  {
   "cell_type": "code",
   "execution_count": 59,
   "metadata": {},
   "outputs": [
    {
     "name": "stdout",
     "output_type": "stream",
     "text": [
      "O[->.]C1=CC=C(C=C1)[->.][N+](=O)[O-]\n"
     ]
    },
    {
     "data": {
      "image/svg+xml": [
       "<svg width=\"2.93cm\" height=\"4.96cm\" viewBox=\"1.80 -4.34 2.93 4.96\" xmlns=\"http://www.w3.org/2000/svg\" version=\"1.1\">\n",
       "  <g>\n",
       "    <defs>\n",
       "      <mask id=\"mask-b491c0db-ea78-4c42-ae2c-1b69e91e649d\">\n",
       "        <rect x=\"1.80\" y=\"-4.34\" width=\"2.93\" height=\"4.96\" fill=\"white\"/>\n",
       "        <g fill=\"black\">\n",
       "          <circle cx=\"3.14\" cy=\"-3.30\" r=\"0.20\"/>\n",
       "          <circle cx=\"2.43\" cy=\"-3.71\" r=\"0.20\"/>\n",
       "          <circle cx=\"3.86\" cy=\"-3.71\" r=\"0.20\"/>\n",
       "          <circle cx=\"3.14\" cy=\"-0.00\" r=\"0.20\"/>\n",
       "        </g>\n",
       "        <g font-family=\"monospace\" stroke=\"black\">\n",
       "          <g font-family=\"sans-serif\" font-size=\"0.50\" stroke-width=\"0.05\">\n",
       "           <text x=\"3.14\" y=\"-3.30\" dx=\"-0.20\" dy=\"0.20\">N</text>\n",
       "           <text x=\"2.43\" y=\"-3.71\" dx=\"-0.20\" dy=\"0.20\">O</text>\n",
       "           <text x=\"3.86\" y=\"-3.71\" dx=\"-0.20\" dy=\"0.20\">O</text>\n",
       "           <text x=\"3.14\" y=\"-0.00\" dx=\"-0.20\" dy=\"0.20\">O</text>\n",
       "          </g>\n",
       "          <g font-family=\"monospace\" font-size=\"0.3\" stroke-width=\"0.03\">\n",
       "           <text x=\"3.14\" y=\"-3.30\" dx=\"0.05\" dy=\"-0.20\">+</text>\n",
       "           <text x=\"3.86\" y=\"-3.71\" dx=\"0.05\" dy=\"-0.20\">-</text>\n",
       "          </g>\n",
       "        </g>\n",
       "      </mask>\n",
       "    </defs>\n",
       "    <g fill=\"none\" stroke=\"black\" stroke-width=\"0.04\"  mask=\"url(#mask-b491c0db-ea78-4c42-ae2c-1b69e91e649d)\">\n",
       "      <line x1=\"3.14\" y1=\"-3.30\" x2=\"3.14\" y2=\"-2.48\" stroke=\"red\"/>\n",
       "      <line x1=\"3.11\" y1=\"-3.25\" x2=\"2.40\" y2=\"-3.66\"/>\n",
       "      <line x1=\"3.17\" y1=\"-3.35\" x2=\"2.46\" y2=\"-3.76\"/>\n",
       "      <line x1=\"3.14\" y1=\"-3.30\" x2=\"3.86\" y2=\"-3.71\"/>\n",
       "      <line x1=\"3.14\" y1=\"-0.00\" x2=\"3.14\" y2=\"-0.82\" stroke=\"red\"/>\n",
       "      <line x1=\"3.14\" y1=\"-2.48\" x2=\"3.86\" y2=\"-2.06\"/>\n",
       "      <line x1=\"3.17\" y1=\"-2.42\" x2=\"2.46\" y2=\"-2.01\"/>\n",
       "      <line x1=\"3.11\" y1=\"-2.53\" x2=\"2.40\" y2=\"-2.11\"/>\n",
       "      <line x1=\"3.92\" y1=\"-2.06\" x2=\"3.92\" y2=\"-1.24\"/>\n",
       "      <line x1=\"3.80\" y1=\"-2.06\" x2=\"3.80\" y2=\"-1.24\"/>\n",
       "      <line x1=\"3.86\" y1=\"-1.24\" x2=\"3.14\" y2=\"-0.82\"/>\n",
       "      <line x1=\"3.11\" y1=\"-0.77\" x2=\"2.40\" y2=\"-1.19\"/>\n",
       "      <line x1=\"3.17\" y1=\"-0.88\" x2=\"2.46\" y2=\"-1.29\"/>\n",
       "      <line x1=\"2.43\" y1=\"-1.24\" x2=\"2.43\" y2=\"-2.06\"/>\n",
       "    </g>\n",
       "    <g font-family=\"monospace\">\n",
       "      <g fill=\"#3050F8\" font-family=\"sans-serif\">\n",
       "        <text x=\"3.14\" y=\"-3.30\" dx=\"-0.20\" dy=\"0.20\" font-size=\"0.50\">N</text>\n",
       "      </g>\n",
       "      <g fill=\"#FF0D0D\" font-family=\"sans-serif\">\n",
       "        <text x=\"2.43\" y=\"-3.71\" dx=\"-0.20\" dy=\"0.20\" font-size=\"0.50\">O</text>\n",
       "      </g>\n",
       "      <g fill=\"#FF0D0D\" font-family=\"sans-serif\">\n",
       "        <text x=\"3.86\" y=\"-3.71\" dx=\"-0.20\" dy=\"0.20\" font-size=\"0.50\">O</text>\n",
       "      </g>\n",
       "      <g fill=\"#FF0D0D\" font-family=\"sans-serif\">\n",
       "        <text x=\"3.14\" y=\"-0.00\" dx=\"-0.20\" dy=\"0.20\" font-size=\"0.50\">O</text>\n",
       "      </g>\n",
       "      <g font-family=\"monospace\" fill=\"black\" font-size=\"0.30\">\n",
       "        <text x=\"3.14\" y=\"-3.30\" dx=\"0.05\" dy=\"-0.20\" font-size=\"0.30\">+</text>\n",
       "        <text x=\"3.86\" y=\"-3.71\" dx=\"0.05\" dy=\"-0.20\" font-size=\"0.30\">-</text>\n",
       "      </g>\n",
       "    </g>\n",
       "  </g>\n",
       "</svg>"
      ],
      "text/plain": [
       "<CGRtools.containers.cgr.CGRContainer at 0x7fb0b90842c0>"
      ]
     },
     "execution_count": 59,
     "metadata": {},
     "output_type": "execute_result"
    }
   ],
   "source": [
    "cgr1 = m7 ^ m8 # CGR from molecules\n",
    "# or \n",
    "cgr1 = m7.compose(m8)\n",
    "print(cgr1)\n",
    "cgr1"
   ]
  },
  {
   "cell_type": "code",
   "execution_count": 60,
   "metadata": {},
   "outputs": [
    {
     "data": {
      "image/svg+xml": [
       "<svg width=\"17.82cm\" height=\"3.39cm\" viewBox=\"-0.62 -1.70 17.82 3.39\" xmlns=\"http://www.w3.org/2000/svg\" version=\"1.1\">\n",
       "  <defs>\n",
       "    <marker id=\"arrow\" markerWidth=\"10\" markerHeight=\"10\" refX=\"0\" refY=\"3\" orient=\"auto\">\n",
       "      <path d=\"M0,0 L0,6 L9,3\"/>\n",
       "    </marker>\n",
       "  </defs>\n",
       "  <line x1=\"8.32\" y1=\"0\" x2=\"10.32\" y2=\"0\" fill=\"none\" stroke=\"black\" stroke-width=\".04\" marker-end=\"url(#arrow)\"/>\n",
       "  <g fill=\"none\" stroke=\"black\" stroke-width=\".04\">\n",
       "    <line x1=\"1.98\" y1=\"0\" x2=\"2.28\" y2=\"0\"/>\n",
       "    <line x1=\"2.13\" y1=\"0.15\" x2=\"2.13\" y2=\"-0.15\"/>\n",
       "    <line x1=\"5.24\" y1=\"0\" x2=\"5.54\" y2=\"0\"/>\n",
       "    <line x1=\"5.39\" y1=\"0.15\" x2=\"5.39\" y2=\"-0.15\"/>\n",
       "  </g>\n",
       "  <g>\n",
       "    <defs>\n",
       "      <mask id=\"mask-47269e24-6df2-4d78-b364-db51e3175a72\">\n",
       "        <rect x=\"-0.62\" y=\"-1.70\" width=\"17.82\" height=\"3.39\" fill=\"white\"/>\n",
       "        <g fill=\"black\">\n",
       "          <circle cx=\"1.43\" cy=\"-0.21\" r=\"0.20\"/>\n",
       "        </g>\n",
       "        <g font-family=\"monospace\" stroke=\"black\">\n",
       "          <g font-family=\"sans-serif\" font-size=\"0.50\" stroke-width=\"0.05\">\n",
       "            <text x=\"1.43\" y=\"-0.21\" dx=\"-0.20\" dy=\"0.20\">OH</text>\n",
       "          </g>\n",
       "          <g font-size=\"0.25\" stroke-width=\"0.03\">\n",
       "            <text x=\"0.00\" y=\"-0.21\" dx=\"-0.05\" dy=\"0.20\" text-anchor=\"end\">3</text>\n",
       "            <text x=\"0.71\" y=\"0.21\" dx=\"-0.05\" dy=\"0.20\" text-anchor=\"end\">4</text>\n",
       "            <text x=\"1.43\" y=\"-0.21\" dx=\"-0.15\" dy=\"0.35\" text-anchor=\"end\">1</text>\n",
       "          </g>\n",
       "        </g>\n",
       "      </mask>\n",
       "    </defs>\n",
       "    <g fill=\"none\" stroke=\"black\" stroke-width=\"0.04\"  mask=\"url(#mask-47269e24-6df2-4d78-b364-db51e3175a72)\">\n",
       "      <line x1=\"0.00\" y1=\"-0.21\" x2=\"0.71\" y2=\"0.21\"/>\n",
       "      <line x1=\"0.71\" y1=\"0.21\" x2=\"1.43\" y2=\"-0.21\"/>\n",
       "    </g>\n",
       "    <g font-family=\"monospace\">\n",
       "      <g fill=\"#FF0D0D\" font-family=\"sans-serif\">\n",
       "        <text x=\"1.43\" y=\"-0.21\" dx=\"-0.20\" dy=\"0.20\" font-size=\"0.50\">OH</text>\n",
       "      </g>\n",
       "      <g fill=\"#0305A7\" font-size=\"0.25\">\n",
       "        <text x=\"0.00\" y=\"-0.21\" dx=\"-0.05\" dy=\"0.20\" text-anchor=\"end\">3</text>\n",
       "        <text x=\"0.71\" y=\"0.21\" dx=\"-0.05\" dy=\"0.20\" text-anchor=\"end\">4</text>\n",
       "        <text x=\"1.43\" y=\"-0.21\" dx=\"-0.15\" dy=\"0.35\" text-anchor=\"end\">1</text>\n",
       "      </g>\n",
       "    </g>\n",
       "  </g>\n",
       "  <g>\n",
       "    <defs>\n",
       "      <mask id=\"mask-dda32e81-5f6f-45d1-890e-3b920f4c9be5\">\n",
       "        <rect x=\"-0.62\" y=\"-1.70\" width=\"17.82\" height=\"3.39\" fill=\"white\"/>\n",
       "        <g fill=\"black\">\n",
       "          <circle cx=\"3.45\" cy=\"-1.07\" r=\"0.20\"/>\n",
       "          <circle cx=\"4.69\" cy=\"-0.36\" r=\"0.20\"/>\n",
       "          <circle cx=\"3.87\" cy=\"1.07\" r=\"0.20\"/>\n",
       "          <circle cx=\"2.63\" cy=\"0.36\" r=\"0.20\"/>\n",
       "        </g>\n",
       "        <g font-family=\"monospace\" stroke=\"black\">\n",
       "          <g font-family=\"sans-serif\" font-size=\"0.50\" stroke-width=\"0.05\">\n",
       "            <text x=\"3.45\" y=\"-1.07\" dx=\"-0.20\" dy=\"0.20\">O</text>\n",
       "            <text x=\"4.69\" y=\"-0.36\" dx=\"-0.20\" dy=\"0.20\">OH</text>\n",
       "            <text x=\"3.87\" y=\"1.07\" dx=\"-0.20\" dy=\"0.20\">O</text>\n",
       "            <text x=\"2.63\" y=\"0.36\" dx=\"-0.20\" dy=\"0.20\">OH</text>\n",
       "          </g>\n",
       "          <g font-size=\"0.25\" stroke-width=\"0.03\">\n",
       "            <text x=\"3.87\" y=\"-0.36\" dx=\"-0.05\" dy=\"0.20\" text-anchor=\"end\">5</text>\n",
       "            <text x=\"3.45\" y=\"0.36\" dx=\"-0.05\" dy=\"0.20\" text-anchor=\"end\">6</text>\n",
       "            <text x=\"3.45\" y=\"-1.07\" dx=\"-0.15\" dy=\"0.35\" text-anchor=\"end\">7</text>\n",
       "            <text x=\"4.69\" y=\"-0.36\" dx=\"-0.15\" dy=\"0.35\" text-anchor=\"end\">8</text>\n",
       "            <text x=\"3.87\" y=\"1.07\" dx=\"-0.15\" dy=\"0.35\" text-anchor=\"end\">9</text>\n",
       "            <text x=\"2.63\" y=\"0.36\" dx=\"-0.15\" dy=\"0.35\" text-anchor=\"end\">10</text>\n",
       "          </g>\n",
       "        </g>\n",
       "      </mask>\n",
       "    </defs>\n",
       "    <g fill=\"none\" stroke=\"black\" stroke-width=\"0.04\"  mask=\"url(#mask-dda32e81-5f6f-45d1-890e-3b920f4c9be5)\">\n",
       "      <line x1=\"3.87\" y1=\"-0.36\" x2=\"3.45\" y2=\"0.36\"/>\n",
       "      <line x1=\"3.81\" y1=\"-0.33\" x2=\"3.40\" y2=\"-1.04\"/>\n",
       "      <line x1=\"3.92\" y1=\"-0.39\" x2=\"3.51\" y2=\"-1.10\"/>\n",
       "      <line x1=\"3.87\" y1=\"-0.36\" x2=\"4.69\" y2=\"-0.36\"/>\n",
       "      <line x1=\"3.51\" y1=\"0.33\" x2=\"3.92\" y2=\"1.04\"/>\n",
       "      <line x1=\"3.40\" y1=\"0.39\" x2=\"3.81\" y2=\"1.10\"/>\n",
       "      <line x1=\"3.45\" y1=\"0.36\" x2=\"2.63\" y2=\"0.36\"/>\n",
       "    </g>\n",
       "    <g font-family=\"monospace\">\n",
       "      <g fill=\"#FF0D0D\" font-family=\"sans-serif\">\n",
       "        <text x=\"3.45\" y=\"-1.07\" dx=\"-0.20\" dy=\"0.20\" font-size=\"0.50\">O</text>\n",
       "      </g>\n",
       "      <g fill=\"#FF0D0D\" font-family=\"sans-serif\">\n",
       "        <text x=\"4.69\" y=\"-0.36\" dx=\"-0.20\" dy=\"0.20\" font-size=\"0.50\">OH</text>\n",
       "      </g>\n",
       "      <g fill=\"#FF0D0D\" font-family=\"sans-serif\">\n",
       "        <text x=\"3.87\" y=\"1.07\" dx=\"-0.20\" dy=\"0.20\" font-size=\"0.50\">O</text>\n",
       "      </g>\n",
       "      <g fill=\"#FF0D0D\" font-family=\"sans-serif\">\n",
       "        <text x=\"2.63\" y=\"0.36\" dx=\"-0.20\" dy=\"0.20\" font-size=\"0.50\">OH</text>\n",
       "      </g>\n",
       "      <g fill=\"#0305A7\" font-size=\"0.25\">\n",
       "        <text x=\"3.87\" y=\"-0.36\" dx=\"-0.05\" dy=\"0.20\" text-anchor=\"end\">5</text>\n",
       "        <text x=\"3.45\" y=\"0.36\" dx=\"-0.05\" dy=\"0.20\" text-anchor=\"end\">6</text>\n",
       "        <text x=\"3.45\" y=\"-1.07\" dx=\"-0.15\" dy=\"0.35\" text-anchor=\"end\">7</text>\n",
       "        <text x=\"4.69\" y=\"-0.36\" dx=\"-0.15\" dy=\"0.35\" text-anchor=\"end\">8</text>\n",
       "        <text x=\"3.87\" y=\"1.07\" dx=\"-0.15\" dy=\"0.35\" text-anchor=\"end\">9</text>\n",
       "        <text x=\"2.63\" y=\"0.36\" dx=\"-0.15\" dy=\"0.35\" text-anchor=\"end\">10</text>\n",
       "      </g>\n",
       "    </g>\n",
       "  </g>\n",
       "  <g>\n",
       "    <defs>\n",
       "      <mask id=\"mask-944ce468-dc09-48e3-b981-8456ab309a61\">\n",
       "        <rect x=\"-0.62\" y=\"-1.70\" width=\"17.82\" height=\"3.39\" fill=\"white\"/>\n",
       "        <g fill=\"black\">\n",
       "          <circle cx=\"7.32\" cy=\"-0.21\" r=\"0.20\"/>\n",
       "        </g>\n",
       "        <g font-family=\"monospace\" stroke=\"black\">\n",
       "          <g font-family=\"sans-serif\" font-size=\"0.50\" stroke-width=\"0.05\">\n",
       "            <text x=\"7.32\" y=\"-0.21\" dx=\"-0.20\" dy=\"0.20\">O</text>\n",
       "          </g>\n",
       "          <g font-size=\"0.25\" stroke-width=\"0.03\">\n",
       "            <text x=\"6.61\" y=\"0.21\" dx=\"-0.05\" dy=\"0.20\" text-anchor=\"end\">11</text>\n",
       "            <text x=\"5.89\" y=\"-0.21\" dx=\"-0.05\" dy=\"0.20\" text-anchor=\"end\">12</text>\n",
       "            <text x=\"7.32\" y=\"-0.21\" dx=\"-0.15\" dy=\"0.35\" text-anchor=\"end\">2</text>\n",
       "          </g>\n",
       "          <g font-family=\"monospace\" font-size=\"0.3\" stroke-width=\"0.03\">\n",
       "           <text x=\"7.32\" y=\"-0.21\" dx=\"0.05\" dy=\"-0.20\">-</text>\n",
       "          </g>\n",
       "        </g>\n",
       "      </mask>\n",
       "    </defs>\n",
       "    <g fill=\"none\" stroke=\"black\" stroke-width=\"0.04\"  mask=\"url(#mask-944ce468-dc09-48e3-b981-8456ab309a61)\">\n",
       "      <line x1=\"6.61\" y1=\"0.21\" x2=\"5.89\" y2=\"-0.21\"/>\n",
       "      <line x1=\"6.61\" y1=\"0.21\" x2=\"7.32\" y2=\"-0.21\"/>\n",
       "    </g>\n",
       "    <g font-family=\"monospace\">\n",
       "      <g fill=\"#FF0D0D\" font-family=\"sans-serif\">\n",
       "        <text x=\"7.32\" y=\"-0.21\" dx=\"-0.20\" dy=\"0.20\" font-size=\"0.50\">O</text>\n",
       "      </g>\n",
       "      <g font-family=\"monospace\" fill=\"black\" font-size=\"0.30\">\n",
       "        <text x=\"7.32\" y=\"-0.21\" dx=\"0.05\" dy=\"-0.20\">-</text>\n",
       "      </g>\n",
       "      <g fill=\"#0305A7\" font-size=\"0.25\">\n",
       "        <text x=\"6.61\" y=\"0.21\" dx=\"-0.05\" dy=\"0.20\" text-anchor=\"end\">11</text>\n",
       "        <text x=\"5.89\" y=\"-0.21\" dx=\"-0.05\" dy=\"0.20\" text-anchor=\"end\">12</text>\n",
       "        <text x=\"7.32\" y=\"-0.21\" dx=\"-0.15\" dy=\"0.35\" text-anchor=\"end\">2</text>\n",
       "      </g>\n",
       "    </g>\n",
       "  </g>\n",
       "  <g>\n",
       "    <defs>\n",
       "      <mask id=\"mask-242d4cf3-85b1-4d6e-bf7b-a5bfee055f20\">\n",
       "        <rect x=\"-0.62\" y=\"-1.70\" width=\"17.82\" height=\"3.39\" fill=\"white\"/>\n",
       "        <g fill=\"black\">\n",
       "          <circle cx=\"14.89\" cy=\"-0.21\" r=\"0.20\"/>\n",
       "          <circle cx=\"12.75\" cy=\"0.21\" r=\"0.20\"/>\n",
       "          <circle cx=\"13.46\" cy=\"-1.03\" r=\"0.20\"/>\n",
       "          <circle cx=\"14.18\" cy=\"1.03\" r=\"0.20\"/>\n",
       "        </g>\n",
       "        <g font-family=\"monospace\" stroke=\"black\">\n",
       "          <g font-family=\"sans-serif\" font-size=\"0.50\" stroke-width=\"0.05\">\n",
       "            <text x=\"14.89\" y=\"-0.21\" dx=\"-0.20\" dy=\"0.20\">O</text>\n",
       "            <text x=\"12.75\" y=\"0.21\" dx=\"-0.20\" dy=\"0.20\">O</text>\n",
       "            <text x=\"13.46\" y=\"-1.03\" dx=\"-0.20\" dy=\"0.20\">O</text>\n",
       "            <text x=\"14.18\" y=\"1.03\" dx=\"-0.20\" dy=\"0.20\">O</text>\n",
       "          </g>\n",
       "          <g font-size=\"0.25\" stroke-width=\"0.03\">\n",
       "            <text x=\"14.18\" y=\"0.21\" dx=\"-0.05\" dy=\"0.20\" text-anchor=\"end\">5</text>\n",
       "            <text x=\"13.46\" y=\"-0.21\" dx=\"-0.05\" dy=\"0.20\" text-anchor=\"end\">6</text>\n",
       "            <text x=\"14.89\" y=\"-0.21\" dx=\"-0.15\" dy=\"0.35\" text-anchor=\"end\">2</text>\n",
       "            <text x=\"12.75\" y=\"0.21\" dx=\"-0.15\" dy=\"0.35\" text-anchor=\"end\">1</text>\n",
       "            <text x=\"13.46\" y=\"-1.03\" dx=\"-0.15\" dy=\"0.35\" text-anchor=\"end\">9</text>\n",
       "            <text x=\"14.18\" y=\"1.03\" dx=\"-0.15\" dy=\"0.35\" text-anchor=\"end\">7</text>\n",
       "            <text x=\"15.61\" y=\"0.21\" dx=\"-0.05\" dy=\"0.20\" text-anchor=\"end\">11</text>\n",
       "            <text x=\"16.32\" y=\"-0.21\" dx=\"-0.05\" dy=\"0.20\" text-anchor=\"end\">12</text>\n",
       "            <text x=\"12.03\" y=\"-0.21\" dx=\"-0.05\" dy=\"0.20\" text-anchor=\"end\">4</text>\n",
       "            <text x=\"11.32\" y=\"0.21\" dx=\"-0.05\" dy=\"0.20\" text-anchor=\"end\">3</text>\n",
       "          </g>\n",
       "        </g>\n",
       "      </mask>\n",
       "    </defs>\n",
       "    <g fill=\"none\" stroke=\"black\" stroke-width=\"0.04\"  mask=\"url(#mask-242d4cf3-85b1-4d6e-bf7b-a5bfee055f20)\">\n",
       "      <line x1=\"14.18\" y1=\"0.21\" x2=\"13.46\" y2=\"-0.21\"/>\n",
       "      <line x1=\"14.18\" y1=\"0.21\" x2=\"14.89\" y2=\"-0.21\"/>\n",
       "      <line x1=\"14.24\" y1=\"0.21\" x2=\"14.24\" y2=\"1.03\"/>\n",
       "      <line x1=\"14.12\" y1=\"0.21\" x2=\"14.12\" y2=\"1.03\"/>\n",
       "      <line x1=\"13.46\" y1=\"-0.21\" x2=\"12.75\" y2=\"0.21\"/>\n",
       "      <line x1=\"13.40\" y1=\"-0.21\" x2=\"13.40\" y2=\"-1.03\"/>\n",
       "      <line x1=\"13.52\" y1=\"-0.21\" x2=\"13.52\" y2=\"-1.03\"/>\n",
       "      <line x1=\"14.89\" y1=\"-0.21\" x2=\"15.61\" y2=\"0.21\"/>\n",
       "      <line x1=\"12.75\" y1=\"0.21\" x2=\"12.03\" y2=\"-0.21\"/>\n",
       "      <line x1=\"15.61\" y1=\"0.21\" x2=\"16.32\" y2=\"-0.21\"/>\n",
       "      <line x1=\"12.03\" y1=\"-0.21\" x2=\"11.32\" y2=\"0.21\"/>\n",
       "    </g>\n",
       "    <g font-family=\"monospace\">\n",
       "      <g fill=\"#FF0D0D\" font-family=\"sans-serif\">\n",
       "        <text x=\"14.89\" y=\"-0.21\" dx=\"-0.20\" dy=\"0.20\" font-size=\"0.50\">O</text>\n",
       "      </g>\n",
       "      <g fill=\"#FF0D0D\" font-family=\"sans-serif\">\n",
       "        <text x=\"12.75\" y=\"0.21\" dx=\"-0.20\" dy=\"0.20\" font-size=\"0.50\">O</text>\n",
       "      </g>\n",
       "      <g fill=\"#FF0D0D\" font-family=\"sans-serif\">\n",
       "        <text x=\"13.46\" y=\"-1.03\" dx=\"-0.20\" dy=\"0.20\" font-size=\"0.50\">O</text>\n",
       "      </g>\n",
       "      <g fill=\"#FF0D0D\" font-family=\"sans-serif\">\n",
       "        <text x=\"14.18\" y=\"1.03\" dx=\"-0.20\" dy=\"0.20\" font-size=\"0.50\">O</text>\n",
       "      </g>\n",
       "      <g fill=\"#0305A7\" font-size=\"0.25\">\n",
       "        <text x=\"14.18\" y=\"0.21\" dx=\"-0.05\" dy=\"0.20\" text-anchor=\"end\">5</text>\n",
       "        <text x=\"13.46\" y=\"-0.21\" dx=\"-0.05\" dy=\"0.20\" text-anchor=\"end\">6</text>\n",
       "        <text x=\"14.89\" y=\"-0.21\" dx=\"-0.15\" dy=\"0.35\" text-anchor=\"end\">2</text>\n",
       "        <text x=\"12.75\" y=\"0.21\" dx=\"-0.15\" dy=\"0.35\" text-anchor=\"end\">1</text>\n",
       "        <text x=\"13.46\" y=\"-1.03\" dx=\"-0.15\" dy=\"0.35\" text-anchor=\"end\">9</text>\n",
       "        <text x=\"14.18\" y=\"1.03\" dx=\"-0.15\" dy=\"0.35\" text-anchor=\"end\">7</text>\n",
       "        <text x=\"15.61\" y=\"0.21\" dx=\"-0.05\" dy=\"0.20\" text-anchor=\"end\">11</text>\n",
       "        <text x=\"16.32\" y=\"-0.21\" dx=\"-0.05\" dy=\"0.20\" text-anchor=\"end\">12</text>\n",
       "        <text x=\"12.03\" y=\"-0.21\" dx=\"-0.05\" dy=\"0.20\" text-anchor=\"end\">4</text>\n",
       "        <text x=\"11.32\" y=\"0.21\" dx=\"-0.05\" dy=\"0.20\" text-anchor=\"end\">3</text>\n",
       "      </g>\n",
       "    </g>\n",
       "  </g>\n",
       "</svg>"
      ],
      "text/plain": [
       "<CGRtools.containers.reaction.ReactionContainer at 0x7fb14fe46140>"
      ]
     },
     "execution_count": 60,
     "metadata": {},
     "output_type": "execute_result"
    }
   ],
   "source": [
    "r1"
   ]
  },
  {
   "cell_type": "code",
   "execution_count": 61,
   "metadata": {},
   "outputs": [
    {
     "name": "stdout",
     "output_type": "stream",
     "text": [
      "C(O[.>-]C(C([.>-][O->0]CC)([->.]O)=O)(=O)[->.]O)C\n"
     ]
    },
    {
     "data": {
      "image/svg+xml": [
       "<svg width=\"6.10cm\" height=\"3.27cm\" viewBox=\"-3.61 -1.41 6.10 3.27\" xmlns=\"http://www.w3.org/2000/svg\" version=\"1.1\">\n",
       "  <g>\n",
       "    <defs>\n",
       "      <mask id=\"mask-557ca8e0-6907-4b9f-8314-e9b913c9b279\">\n",
       "        <rect x=\"-3.61\" y=\"-1.41\" width=\"6.10\" height=\"3.27\" fill=\"white\"/>\n",
       "        <g fill=\"black\">\n",
       "          <circle cx=\"-0.18\" cy=\"1.15\" r=\"0.20\"/>\n",
       "          <circle cx=\"-0.67\" cy=\"-0.48\" r=\"0.20\"/>\n",
       "          <circle cx=\"0.25\" cy=\"0.78\" r=\"0.20\"/>\n",
       "          <circle cx=\"-1.49\" cy=\"0.48\" r=\"0.20\"/>\n",
       "          <circle cx=\"-1.00\" cy=\"1.24\" r=\"0.20\"/>\n",
       "          <circle cx=\"0.25\" cy=\"-0.78\" r=\"0.20\"/>\n",
       "        </g>\n",
       "        <g font-family=\"monospace\" stroke=\"black\">\n",
       "          <g font-family=\"sans-serif\" font-size=\"0.50\" stroke-width=\"0.05\">\n",
       "           <text x=\"-0.18\" y=\"1.15\" dx=\"-0.20\" dy=\"0.20\">O</text>\n",
       "           <text x=\"-0.67\" y=\"-0.48\" dx=\"-0.20\" dy=\"0.20\">O</text>\n",
       "           <text x=\"0.25\" y=\"0.78\" dx=\"-0.20\" dy=\"0.20\">O</text>\n",
       "           <text x=\"-1.49\" y=\"0.48\" dx=\"-0.20\" dy=\"0.20\">O</text>\n",
       "           <text x=\"-1.00\" y=\"1.24\" dx=\"-0.20\" dy=\"0.20\">O</text>\n",
       "           <text x=\"0.25\" y=\"-0.78\" dx=\"-0.20\" dy=\"0.20\">O</text>\n",
       "          </g>\n",
       "          <g font-family=\"monospace\" font-size=\"0.3\" stroke-width=\"0.03\">\n",
       "           <text x=\"-1.49\" y=\"0.48\" dx=\"0.05\" dy=\"-0.20\">-»0</text>\n",
       "           <text x=\"-1.49\" y=\"0.48\" dx=\"0.05\" dy=\"-0.20\">-</text>\n",
       "          </g>\n",
       "        </g>\n",
       "      </mask>\n",
       "    </defs>\n",
       "    <g fill=\"none\" stroke=\"black\" stroke-width=\"0.04\"  mask=\"url(#mask-557ca8e0-6907-4b9f-8314-e9b913c9b279)\">\n",
       "      <line x1=\"-0.18\" y1=\"1.15\" x2=\"-0.67\" y2=\"0.48\" stroke=\"red\"/>\n",
       "      <line x1=\"-0.67\" y1=\"-0.48\" x2=\"0.00\" y2=\"-0.00\" stroke=\"red\"/>\n",
       "      <line x1=\"0.25\" y1=\"0.78\" x2=\"1.06\" y2=\"0.96\"/>\n",
       "      <line x1=\"0.25\" y1=\"0.78\" x2=\"0.00\" y2=\"-0.00\" stroke=\"green\"/>\n",
       "      <line x1=\"-1.49\" y1=\"0.48\" x2=\"-2.16\" y2=\"0.97\"/>\n",
       "      <line x1=\"-1.49\" y1=\"0.48\" x2=\"-0.67\" y2=\"0.48\" stroke=\"green\"/>\n",
       "      <line x1=\"1.61\" y1=\"0.34\" x2=\"1.06\" y2=\"0.96\"/>\n",
       "      <line x1=\"-0.67\" y1=\"0.48\" x2=\"0.00\" y2=\"-0.00\"/>\n",
       "      <line x1=\"-0.61\" y1=\"0.51\" x2=\"-0.95\" y2=\"1.26\"/>\n",
       "      <line x1=\"-0.72\" y1=\"0.46\" x2=\"-1.06\" y2=\"1.21\"/>\n",
       "      <line x1=\"-0.06\" y1=\"-0.02\" x2=\"0.20\" y2=\"-0.80\"/>\n",
       "      <line x1=\"0.06\" y1=\"0.02\" x2=\"0.31\" y2=\"-0.77\"/>\n",
       "      <line x1=\"-2.16\" y1=\"0.97\" x2=\"-2.98\" y2=\"0.97\"/>\n",
       "    </g>\n",
       "    <g font-family=\"monospace\">\n",
       "      <g fill=\"#FF0D0D\" font-family=\"sans-serif\">\n",
       "        <text x=\"-0.18\" y=\"1.15\" dx=\"-0.20\" dy=\"0.20\" font-size=\"0.50\">O</text>\n",
       "      </g>\n",
       "      <g fill=\"#FF0D0D\" font-family=\"sans-serif\">\n",
       "        <text x=\"-0.67\" y=\"-0.48\" dx=\"-0.20\" dy=\"0.20\" font-size=\"0.50\">O</text>\n",
       "      </g>\n",
       "      <g fill=\"#FF0D0D\" font-family=\"sans-serif\">\n",
       "        <text x=\"0.25\" y=\"0.78\" dx=\"-0.20\" dy=\"0.20\" font-size=\"0.50\">O</text>\n",
       "      </g>\n",
       "      <g fill=\"#FF0D0D\" font-family=\"sans-serif\">\n",
       "        <text x=\"-1.49\" y=\"0.48\" dx=\"-0.20\" dy=\"0.20\" font-size=\"0.50\">O</text>\n",
       "      </g>\n",
       "      <g fill=\"#FF0D0D\" font-family=\"sans-serif\">\n",
       "        <text x=\"-1.00\" y=\"1.24\" dx=\"-0.20\" dy=\"0.20\" font-size=\"0.50\">O</text>\n",
       "      </g>\n",
       "      <g fill=\"#FF0D0D\" font-family=\"sans-serif\">\n",
       "        <text x=\"0.25\" y=\"-0.78\" dx=\"-0.20\" dy=\"0.20\" font-size=\"0.50\">O</text>\n",
       "      </g>\n",
       "      <g font-family=\"monospace\" fill=\"black\" font-size=\"0.30\">\n",
       "        <text x=\"-1.49\" y=\"0.48\" dx=\"0.05\" dy=\"-0.20\" font-size=\"0.30\">-»0</text>\n",
       "        <text x=\"-1.49\" y=\"0.48\" dx=\"0.05\" dy=\"-0.20\" font-size=\"0.30\">-</text>\n",
       "      </g>\n",
       "    </g>\n",
       "  </g>\n",
       "</svg>"
      ],
      "text/plain": [
       "<CGRtools.containers.cgr.CGRContainer at 0x7fb0b9084220>"
      ]
     },
     "execution_count": 61,
     "metadata": {},
     "output_type": "execute_result"
    }
   ],
   "source": [
    "cgr2 = ~r1 # CGR from reactions\n",
    "# or \n",
    "cgr2 = r1.compose()\n",
    "print(cgr2) # signature is printed out.\n",
    "cgr2.clean2d()\n",
    "cgr2"
   ]
  },
  {
   "cell_type": "code",
   "execution_count": 62,
   "metadata": {},
   "outputs": [],
   "source": [
    "a = cgr2.atom(2) # atom access is the same as for MoleculeContainer"
   ]
  },
  {
   "cell_type": "code",
   "execution_count": 63,
   "metadata": {},
   "outputs": [
    {
     "data": {
      "text/plain": [
       "'O'"
      ]
     },
     "execution_count": 63,
     "metadata": {},
     "output_type": "execute_result"
    }
   ],
   "source": [
    "a.atomic_symbol # element attribute"
   ]
  },
  {
   "cell_type": "code",
   "execution_count": 64,
   "metadata": {},
   "outputs": [],
   "source": [
    "a.isotope # isotope attribute"
   ]
  },
  {
   "cell_type": "markdown",
   "metadata": {},
   "source": [
    "For *CGRContainer* attributes `charge`, `is_radical`, `neighbors` and `hybridization` refer to atom state in reactant of reaction;  arguments `p_charge`, `p_is_radical`, `p_neighbors` and `p_hybridization` could be used to extract atom state in product part in reaction."
   ]
  },
  {
   "cell_type": "code",
   "execution_count": 65,
   "metadata": {},
   "outputs": [
    {
     "data": {
      "text/plain": [
       "-1"
      ]
     },
     "execution_count": 65,
     "metadata": {},
     "output_type": "execute_result"
    }
   ],
   "source": [
    "a.charge # charge of atom in reactant"
   ]
  },
  {
   "cell_type": "code",
   "execution_count": 66,
   "metadata": {},
   "outputs": [
    {
     "data": {
      "text/plain": [
       "0"
      ]
     },
     "execution_count": 66,
     "metadata": {},
     "output_type": "execute_result"
    }
   ],
   "source": [
    "a.p_charge # charge of atom in product"
   ]
  },
  {
   "cell_type": "code",
   "execution_count": 67,
   "metadata": {},
   "outputs": [
    {
     "data": {
      "text/plain": [
       "False"
      ]
     },
     "execution_count": 67,
     "metadata": {},
     "output_type": "execute_result"
    }
   ],
   "source": [
    "a.p_is_radical # radical state of atom in product."
   ]
  },
  {
   "cell_type": "code",
   "execution_count": 68,
   "metadata": {},
   "outputs": [
    {
     "data": {
      "text/plain": [
       "1"
      ]
     },
     "execution_count": 68,
     "metadata": {},
     "output_type": "execute_result"
    }
   ],
   "source": [
    "a.neighbors # number of neighbors of atom in reactant"
   ]
  },
  {
   "cell_type": "code",
   "execution_count": 69,
   "metadata": {},
   "outputs": [
    {
     "data": {
      "text/plain": [
       "2"
      ]
     },
     "execution_count": 69,
     "metadata": {},
     "output_type": "execute_result"
    }
   ],
   "source": [
    "a.p_neighbors # number of neighbors of atom in product"
   ]
  },
  {
   "cell_type": "code",
   "execution_count": 70,
   "metadata": {},
   "outputs": [
    {
     "data": {
      "text/plain": [
       "1"
      ]
     },
     "execution_count": 70,
     "metadata": {},
     "output_type": "execute_result"
    }
   ],
   "source": [
    "a.hybridization # hybridization of atom in reactant. 1 means only single bonds are incident to atom"
   ]
  },
  {
   "cell_type": "code",
   "execution_count": 71,
   "metadata": {},
   "outputs": [
    {
     "data": {
      "text/plain": [
       "1"
      ]
     },
     "execution_count": 71,
     "metadata": {},
     "output_type": "execute_result"
    }
   ],
   "source": [
    "a.p_hybridization # hybridization of atom in product. 1 means only single bonds are incident to atom"
   ]
  },
  {
   "cell_type": "code",
   "execution_count": 72,
   "metadata": {},
   "outputs": [],
   "source": [
    "b = cgr1.bond(4, 10) # take bond"
   ]
  },
  {
   "cell_type": "markdown",
   "metadata": {},
   "source": [
    "#### Bonds has `order` and `p_order` attribute\n",
    "If `order` attribute value is ***None***, it means that bond was formed  \n",
    "If `p_order` is ***None***, it means that bond was broken  \n",
    "\n",
    "Both `order` and `p_order` can't be ***None***"
   ]
  },
  {
   "cell_type": "code",
   "execution_count": 73,
   "metadata": {},
   "outputs": [
    {
     "data": {
      "text/plain": [
       "1"
      ]
     },
     "execution_count": 73,
     "metadata": {},
     "output_type": "execute_result"
    }
   ],
   "source": [
    "b.order # bond order in reactant"
   ]
  },
  {
   "cell_type": "code",
   "execution_count": 74,
   "metadata": {},
   "outputs": [
    {
     "data": {
      "text/plain": [
       "True"
      ]
     },
     "execution_count": 74,
     "metadata": {},
     "output_type": "execute_result"
    }
   ],
   "source": [
    "b.p_order is None # bond order in product in None"
   ]
  },
  {
   "cell_type": "markdown",
   "metadata": {},
   "source": [
    "**CGR can be decomposed back to reaction**, i.e. reactants and products.\n",
    "\n",
    "Notice that CGR can lose information in case of unbalanced reactions (where some atoms of reactant does not have counterpart in product, and vice versa). Decomposition of CGRs for unbalanced reactions back to reaction may lead to strange (and erroneous) structures."
   ]
  },
  {
   "cell_type": "code",
   "execution_count": 75,
   "metadata": {},
   "outputs": [],
   "source": [
    "reactant_part, product_part = ~cgr1 # CGR of unbalanced reaction is decomposed back into reaction\n",
    "# or \n",
    "reactant_part, product_part = cgr1.decompose()"
   ]
  },
  {
   "cell_type": "code",
   "execution_count": 76,
   "metadata": {},
   "outputs": [
    {
     "data": {
      "image/svg+xml": [
       "<svg width=\"2.93cm\" height=\"4.96cm\" viewBox=\"1.80 -4.34 2.93 4.96\" xmlns=\"http://www.w3.org/2000/svg\" version=\"1.1\">\n",
       "  <g>\n",
       "    <defs>\n",
       "      <mask id=\"mask-b2257615-1163-4f0d-b483-19404a84c04c\">\n",
       "        <rect x=\"1.80\" y=\"-4.34\" width=\"2.93\" height=\"4.96\" fill=\"white\"/>\n",
       "        <g fill=\"black\">\n",
       "          <circle cx=\"3.14\" cy=\"-3.30\" r=\"0.20\"/>\n",
       "          <circle cx=\"2.43\" cy=\"-3.71\" r=\"0.20\"/>\n",
       "          <circle cx=\"3.86\" cy=\"-3.71\" r=\"0.20\"/>\n",
       "          <circle cx=\"3.14\" cy=\"-0.00\" r=\"0.20\"/>\n",
       "        </g>\n",
       "        <g font-family=\"monospace\" stroke=\"black\">\n",
       "          <g font-family=\"sans-serif\" font-size=\"0.50\" stroke-width=\"0.05\">\n",
       "            <text x=\"3.14\" y=\"-3.30\" dx=\"-0.20\" dy=\"0.20\">N</text>\n",
       "            <text x=\"2.43\" y=\"-3.71\" dx=\"-0.20\" dy=\"0.20\">O</text>\n",
       "            <text x=\"3.86\" y=\"-3.71\" dx=\"-0.20\" dy=\"0.20\">O</text>\n",
       "            <text x=\"3.14\" y=\"-0.00\" dx=\"-0.20\" dy=\"0.20\">OH</text>\n",
       "          </g>\n",
       "          <g font-size=\"0.25\" stroke-width=\"0.03\">\n",
       "            <text x=\"3.14\" y=\"-3.30\" dx=\"-0.15\" dy=\"0.35\" text-anchor=\"end\">10</text>\n",
       "            <text x=\"2.43\" y=\"-3.71\" dx=\"-0.15\" dy=\"0.35\" text-anchor=\"end\">11</text>\n",
       "            <text x=\"3.86\" y=\"-3.71\" dx=\"-0.15\" dy=\"0.35\" text-anchor=\"end\">12</text>\n",
       "            <text x=\"3.14\" y=\"-0.00\" dx=\"-0.15\" dy=\"0.35\" text-anchor=\"end\">13</text>\n",
       "            <text x=\"3.14\" y=\"-2.48\" dx=\"-0.05\" dy=\"0.20\" text-anchor=\"end\">4</text>\n",
       "            <text x=\"3.86\" y=\"-2.06\" dx=\"-0.05\" dy=\"0.20\" text-anchor=\"end\">5</text>\n",
       "            <text x=\"3.86\" y=\"-1.24\" dx=\"-0.05\" dy=\"0.20\" text-anchor=\"end\">6</text>\n",
       "            <text x=\"3.14\" y=\"-0.82\" dx=\"-0.05\" dy=\"0.20\" text-anchor=\"end\">7</text>\n",
       "            <text x=\"2.43\" y=\"-1.24\" dx=\"-0.05\" dy=\"0.20\" text-anchor=\"end\">8</text>\n",
       "            <text x=\"2.43\" y=\"-2.06\" dx=\"-0.05\" dy=\"0.20\" text-anchor=\"end\">9</text>\n",
       "          </g>\n",
       "          <g font-family=\"monospace\" font-size=\"0.3\" stroke-width=\"0.03\">\n",
       "           <text x=\"3.14\" y=\"-3.30\" dx=\"0.05\" dy=\"-0.20\">+</text>\n",
       "           <text x=\"3.86\" y=\"-3.71\" dx=\"0.05\" dy=\"-0.20\">-</text>\n",
       "          </g>\n",
       "        </g>\n",
       "      </mask>\n",
       "    </defs>\n",
       "    <g fill=\"none\" stroke=\"black\" stroke-width=\"0.04\"  mask=\"url(#mask-b2257615-1163-4f0d-b483-19404a84c04c)\">\n",
       "      <line x1=\"3.14\" y1=\"-3.30\" x2=\"3.14\" y2=\"-2.48\"/>\n",
       "      <line x1=\"3.11\" y1=\"-3.25\" x2=\"2.40\" y2=\"-3.66\"/>\n",
       "      <line x1=\"3.17\" y1=\"-3.35\" x2=\"2.46\" y2=\"-3.76\"/>\n",
       "      <line x1=\"3.14\" y1=\"-3.30\" x2=\"3.86\" y2=\"-3.71\"/>\n",
       "      <line x1=\"3.14\" y1=\"-0.00\" x2=\"3.14\" y2=\"-0.82\"/>\n",
       "      <line x1=\"3.14\" y1=\"-2.48\" x2=\"3.86\" y2=\"-2.06\"/>\n",
       "      <line x1=\"3.17\" y1=\"-2.42\" x2=\"2.46\" y2=\"-2.01\"/>\n",
       "      <line x1=\"3.11\" y1=\"-2.53\" x2=\"2.40\" y2=\"-2.11\"/>\n",
       "      <line x1=\"3.92\" y1=\"-2.06\" x2=\"3.92\" y2=\"-1.24\"/>\n",
       "      <line x1=\"3.80\" y1=\"-2.06\" x2=\"3.80\" y2=\"-1.24\"/>\n",
       "      <line x1=\"3.86\" y1=\"-1.24\" x2=\"3.14\" y2=\"-0.82\"/>\n",
       "      <line x1=\"3.11\" y1=\"-0.77\" x2=\"2.40\" y2=\"-1.19\"/>\n",
       "      <line x1=\"3.17\" y1=\"-0.88\" x2=\"2.46\" y2=\"-1.29\"/>\n",
       "      <line x1=\"2.43\" y1=\"-1.24\" x2=\"2.43\" y2=\"-2.06\"/>\n",
       "    </g>\n",
       "    <g font-family=\"monospace\">\n",
       "      <g fill=\"#3050F8\" font-family=\"sans-serif\">\n",
       "        <text x=\"3.14\" y=\"-3.30\" dx=\"-0.20\" dy=\"0.20\" font-size=\"0.50\">N</text>\n",
       "      </g>\n",
       "      <g fill=\"#FF0D0D\" font-family=\"sans-serif\">\n",
       "        <text x=\"2.43\" y=\"-3.71\" dx=\"-0.20\" dy=\"0.20\" font-size=\"0.50\">O</text>\n",
       "      </g>\n",
       "      <g fill=\"#FF0D0D\" font-family=\"sans-serif\">\n",
       "        <text x=\"3.86\" y=\"-3.71\" dx=\"-0.20\" dy=\"0.20\" font-size=\"0.50\">O</text>\n",
       "      </g>\n",
       "      <g fill=\"#FF0D0D\" font-family=\"sans-serif\">\n",
       "        <text x=\"3.14\" y=\"-0.00\" dx=\"-0.20\" dy=\"0.20\" font-size=\"0.50\">OH</text>\n",
       "      </g>\n",
       "      <g font-family=\"monospace\" fill=\"black\" font-size=\"0.30\">\n",
       "        <text x=\"3.14\" y=\"-3.30\" dx=\"0.05\" dy=\"-0.20\">+</text>\n",
       "        <text x=\"3.86\" y=\"-3.71\" dx=\"0.05\" dy=\"-0.20\">-</text>\n",
       "      </g>\n",
       "      <g fill=\"#0305A7\" font-size=\"0.25\">\n",
       "        <text x=\"3.14\" y=\"-3.30\" dx=\"-0.15\" dy=\"0.35\" text-anchor=\"end\">10</text>\n",
       "        <text x=\"2.43\" y=\"-3.71\" dx=\"-0.15\" dy=\"0.35\" text-anchor=\"end\">11</text>\n",
       "        <text x=\"3.86\" y=\"-3.71\" dx=\"-0.15\" dy=\"0.35\" text-anchor=\"end\">12</text>\n",
       "        <text x=\"3.14\" y=\"-0.00\" dx=\"-0.15\" dy=\"0.35\" text-anchor=\"end\">13</text>\n",
       "        <text x=\"3.14\" y=\"-2.48\" dx=\"-0.05\" dy=\"0.20\" text-anchor=\"end\">4</text>\n",
       "        <text x=\"3.86\" y=\"-2.06\" dx=\"-0.05\" dy=\"0.20\" text-anchor=\"end\">5</text>\n",
       "        <text x=\"3.86\" y=\"-1.24\" dx=\"-0.05\" dy=\"0.20\" text-anchor=\"end\">6</text>\n",
       "        <text x=\"3.14\" y=\"-0.82\" dx=\"-0.05\" dy=\"0.20\" text-anchor=\"end\">7</text>\n",
       "        <text x=\"2.43\" y=\"-1.24\" dx=\"-0.05\" dy=\"0.20\" text-anchor=\"end\">8</text>\n",
       "        <text x=\"2.43\" y=\"-2.06\" dx=\"-0.05\" dy=\"0.20\" text-anchor=\"end\">9</text>\n",
       "      </g>\n",
       "    </g>\n",
       "  </g>\n",
       "</svg>"
      ],
      "text/plain": [
       "<CGRtools.containers.molecule.MoleculeContainer at 0x7fb0b9084860>"
      ]
     },
     "execution_count": 76,
     "metadata": {},
     "output_type": "execute_result"
    }
   ],
   "source": [
    "reactant_part # reactants extracted. One can notice it is initial molecule"
   ]
  },
  {
   "cell_type": "code",
   "execution_count": 77,
   "metadata": {},
   "outputs": [
    {
     "data": {
      "image/svg+xml": [
       "<svg width=\"2.93cm\" height=\"4.96cm\" viewBox=\"1.80 -4.34 2.93 4.96\" xmlns=\"http://www.w3.org/2000/svg\" version=\"1.1\">\n",
       "  <g>\n",
       "    <defs>\n",
       "      <mask id=\"mask-0388dc70-036a-4203-bc25-9147f8d18d5b\">\n",
       "        <rect x=\"1.80\" y=\"-4.34\" width=\"2.93\" height=\"4.96\" fill=\"white\"/>\n",
       "        <g fill=\"black\">\n",
       "          <circle cx=\"3.14\" cy=\"-3.30\" r=\"0.20\"/>\n",
       "          <circle cx=\"2.43\" cy=\"-3.71\" r=\"0.20\"/>\n",
       "          <circle cx=\"3.86\" cy=\"-3.71\" r=\"0.20\"/>\n",
       "          <circle cx=\"3.14\" cy=\"-0.00\" r=\"0.20\"/>\n",
       "        </g>\n",
       "        <g font-family=\"monospace\" stroke=\"black\">\n",
       "          <g font-family=\"sans-serif\" font-size=\"0.50\" stroke-width=\"0.05\">\n",
       "            <text x=\"3.14\" y=\"-3.30\" dx=\"-0.20\" dy=\"0.20\">NH</text>\n",
       "            <text x=\"2.43\" y=\"-3.71\" dx=\"-0.20\" dy=\"0.20\">O</text>\n",
       "            <text x=\"3.86\" y=\"-3.71\" dx=\"-0.20\" dy=\"0.20\">O</text>\n",
       "            <text x=\"3.14\" y=\"-0.00\" dx=\"-0.20\" dy=\"0.20\">OH</text>\n",
       "          </g>\n",
       "          <g font-size=\"0.25\" stroke-width=\"0.03\">\n",
       "            <text x=\"3.14\" y=\"-3.30\" dx=\"-0.15\" dy=\"0.35\" text-anchor=\"end\">10</text>\n",
       "            <text x=\"2.43\" y=\"-3.71\" dx=\"-0.15\" dy=\"0.35\" text-anchor=\"end\">11</text>\n",
       "            <text x=\"3.86\" y=\"-3.71\" dx=\"-0.15\" dy=\"0.35\" text-anchor=\"end\">12</text>\n",
       "            <text x=\"3.14\" y=\"-0.00\" dx=\"-0.15\" dy=\"0.35\" text-anchor=\"end\">13</text>\n",
       "            <text x=\"3.14\" y=\"-2.48\" dx=\"-0.05\" dy=\"0.20\" text-anchor=\"end\">4</text>\n",
       "            <text x=\"3.86\" y=\"-2.06\" dx=\"-0.05\" dy=\"0.20\" text-anchor=\"end\">5</text>\n",
       "            <text x=\"3.86\" y=\"-1.24\" dx=\"-0.05\" dy=\"0.20\" text-anchor=\"end\">6</text>\n",
       "            <text x=\"3.14\" y=\"-0.82\" dx=\"-0.05\" dy=\"0.20\" text-anchor=\"end\">7</text>\n",
       "            <text x=\"2.43\" y=\"-1.24\" dx=\"-0.05\" dy=\"0.20\" text-anchor=\"end\">8</text>\n",
       "            <text x=\"2.43\" y=\"-2.06\" dx=\"-0.05\" dy=\"0.20\" text-anchor=\"end\">9</text>\n",
       "          </g>\n",
       "          <g font-family=\"monospace\" font-size=\"0.3\" stroke-width=\"0.03\">\n",
       "           <text x=\"3.14\" y=\"-3.30\" dx=\"0.05\" dy=\"-0.20\">+</text>\n",
       "           <text x=\"3.86\" y=\"-3.71\" dx=\"0.05\" dy=\"-0.20\">-</text>\n",
       "          </g>\n",
       "          <g font-family=\"sans-serif\" font-size=\"0.50\" stroke-width=\"0.03\">\n",
       "            <text x=\"3.14\" y=\"-0.00\" dx=\"-0.20\" dy=\"0.20\">OH<tspan  dy=\"0.15\" font-size=\"0.35\">2</tspan></text>\n",
       "          </g>\n",
       "        </g>\n",
       "      </mask>\n",
       "    </defs>\n",
       "    <g fill=\"none\" stroke=\"black\" stroke-width=\"0.04\"  mask=\"url(#mask-0388dc70-036a-4203-bc25-9147f8d18d5b)\">\n",
       "      <line x1=\"3.11\" y1=\"-3.25\" x2=\"2.40\" y2=\"-3.66\"/>\n",
       "      <line x1=\"3.17\" y1=\"-3.35\" x2=\"2.46\" y2=\"-3.76\"/>\n",
       "      <line x1=\"3.14\" y1=\"-3.30\" x2=\"3.86\" y2=\"-3.71\"/>\n",
       "      <line x1=\"3.14\" y1=\"-2.48\" x2=\"3.86\" y2=\"-2.06\"/>\n",
       "      <line x1=\"3.17\" y1=\"-2.42\" x2=\"2.46\" y2=\"-2.01\"/>\n",
       "      <line x1=\"3.11\" y1=\"-2.53\" x2=\"2.40\" y2=\"-2.11\"/>\n",
       "      <line x1=\"3.92\" y1=\"-2.06\" x2=\"3.92\" y2=\"-1.24\"/>\n",
       "      <line x1=\"3.80\" y1=\"-2.06\" x2=\"3.80\" y2=\"-1.24\"/>\n",
       "      <line x1=\"3.86\" y1=\"-1.24\" x2=\"3.14\" y2=\"-0.82\"/>\n",
       "      <line x1=\"3.11\" y1=\"-0.77\" x2=\"2.40\" y2=\"-1.19\"/>\n",
       "      <line x1=\"3.17\" y1=\"-0.88\" x2=\"2.46\" y2=\"-1.29\"/>\n",
       "      <line x1=\"2.43\" y1=\"-1.24\" x2=\"2.43\" y2=\"-2.06\"/>\n",
       "    </g>\n",
       "    <g font-family=\"monospace\">\n",
       "      <g fill=\"#3050F8\" font-family=\"sans-serif\">\n",
       "        <text x=\"3.14\" y=\"-3.30\" dx=\"-0.20\" dy=\"0.20\" font-size=\"0.50\">NH</text>\n",
       "      </g>\n",
       "      <g fill=\"#FF0D0D\" font-family=\"sans-serif\">\n",
       "        <text x=\"2.43\" y=\"-3.71\" dx=\"-0.20\" dy=\"0.20\" font-size=\"0.50\">O</text>\n",
       "      </g>\n",
       "      <g fill=\"#FF0D0D\" font-family=\"sans-serif\">\n",
       "        <text x=\"3.86\" y=\"-3.71\" dx=\"-0.20\" dy=\"0.20\" font-size=\"0.50\">O</text>\n",
       "      </g>\n",
       "      <g fill=\"#FF0D0D\" font-family=\"sans-serif\">\n",
       "        <text x=\"3.14\" y=\"-0.00\" dx=\"-0.20\" dy=\"0.20\" font-size=\"0.50\">OH<tspan  dy=\"0.15\" font-size=\"0.35\">2</tspan></text>\n",
       "      </g>\n",
       "      <g font-family=\"monospace\" fill=\"black\" font-size=\"0.30\">\n",
       "        <text x=\"3.14\" y=\"-3.30\" dx=\"0.05\" dy=\"-0.20\">+</text>\n",
       "        <text x=\"3.86\" y=\"-3.71\" dx=\"0.05\" dy=\"-0.20\">-</text>\n",
       "      </g>\n",
       "      <g fill=\"#0305A7\" font-size=\"0.25\">\n",
       "        <text x=\"3.14\" y=\"-3.30\" dx=\"-0.15\" dy=\"0.35\" text-anchor=\"end\">10</text>\n",
       "        <text x=\"2.43\" y=\"-3.71\" dx=\"-0.15\" dy=\"0.35\" text-anchor=\"end\">11</text>\n",
       "        <text x=\"3.86\" y=\"-3.71\" dx=\"-0.15\" dy=\"0.35\" text-anchor=\"end\">12</text>\n",
       "        <text x=\"3.14\" y=\"-0.00\" dx=\"-0.15\" dy=\"0.35\" text-anchor=\"end\">13</text>\n",
       "        <text x=\"3.14\" y=\"-2.48\" dx=\"-0.05\" dy=\"0.20\" text-anchor=\"end\">4</text>\n",
       "        <text x=\"3.86\" y=\"-2.06\" dx=\"-0.05\" dy=\"0.20\" text-anchor=\"end\">5</text>\n",
       "        <text x=\"3.86\" y=\"-1.24\" dx=\"-0.05\" dy=\"0.20\" text-anchor=\"end\">6</text>\n",
       "        <text x=\"3.14\" y=\"-0.82\" dx=\"-0.05\" dy=\"0.20\" text-anchor=\"end\">7</text>\n",
       "        <text x=\"2.43\" y=\"-1.24\" dx=\"-0.05\" dy=\"0.20\" text-anchor=\"end\">8</text>\n",
       "        <text x=\"2.43\" y=\"-2.06\" dx=\"-0.05\" dy=\"0.20\" text-anchor=\"end\">9</text>\n",
       "      </g>\n",
       "    </g>\n",
       "  </g>\n",
       "</svg>"
      ],
      "text/plain": [
       "<CGRtools.containers.molecule.MoleculeContainer at 0x7fb0b90849a0>"
      ]
     },
     "execution_count": 77,
     "metadata": {},
     "output_type": "execute_result"
    }
   ],
   "source": [
    "product_part #extracted products. Originally benzene was the product."
   ]
  },
  {
   "cell_type": "markdown",
   "metadata": {},
   "source": [
    "For decomposition of *CGRContainer* back into *ReactionContainer* `ReactionContainer.from_cgr` constructor method can be used."
   ]
  },
  {
   "cell_type": "code",
   "execution_count": 78,
   "metadata": {},
   "outputs": [
    {
     "data": {
      "image/svg+xml": [
       "<svg width=\"18.80cm\" height=\"3.39cm\" viewBox=\"-0.62 -1.70 18.80 3.39\" xmlns=\"http://www.w3.org/2000/svg\" version=\"1.1\">\n",
       "  <defs>\n",
       "    <marker id=\"arrow\" markerWidth=\"10\" markerHeight=\"10\" refX=\"0\" refY=\"3\" orient=\"auto\">\n",
       "      <path d=\"M0,0 L0,6 L9,3\"/>\n",
       "    </marker>\n",
       "  </defs>\n",
       "  <line x1=\"7.53\" y1=\"0\" x2=\"9.53\" y2=\"0\" fill=\"none\" stroke=\"black\" stroke-width=\".04\" marker-end=\"url(#arrow)\"/>\n",
       "  <g fill=\"none\" stroke=\"black\" stroke-width=\".04\">\n",
       "    <line x1=\"1.79\" y1=\"0\" x2=\"2.09\" y2=\"0\"/>\n",
       "    <line x1=\"1.94\" y1=\"0.15\" x2=\"1.94\" y2=\"-0.15\"/>\n",
       "    <line x1=\"4.23\" y1=\"0\" x2=\"4.53\" y2=\"0\"/>\n",
       "    <line x1=\"4.38\" y1=\"0.15\" x2=\"4.38\" y2=\"-0.15\"/>\n",
       "    <line x1=\"15.20\" y1=\"0\" x2=\"15.50\" y2=\"0\"/>\n",
       "    <line x1=\"15.35\" y1=\"0.15\" x2=\"15.35\" y2=\"-0.15\"/>\n",
       "    <line x1=\"16.65\" y1=\"0\" x2=\"16.95\" y2=\"0\"/>\n",
       "    <line x1=\"16.80\" y1=\"0.15\" x2=\"16.80\" y2=\"-0.15\"/>\n",
       "  </g>\n",
       "  <g>\n",
       "    <defs>\n",
       "      <mask id=\"mask-bd485ab6-ccc3-4808-9279-5da8bf5fffee\">\n",
       "        <rect x=\"-0.62\" y=\"-1.70\" width=\"18.80\" height=\"3.39\" fill=\"white\"/>\n",
       "        <g fill=\"black\">\n",
       "          <circle cx=\"0.00\" cy=\"-0.36\" r=\"0.20\"/>\n",
       "        </g>\n",
       "        <g font-family=\"monospace\" stroke=\"black\">\n",
       "          <g font-family=\"sans-serif\" font-size=\"0.50\" stroke-width=\"0.05\">\n",
       "            <text x=\"0.00\" y=\"-0.36\" dx=\"-0.20\" dy=\"0.20\">OH</text>\n",
       "          </g>\n",
       "          <g font-size=\"0.25\" stroke-width=\"0.03\">\n",
       "            <text x=\"0.00\" y=\"-0.36\" dx=\"-0.15\" dy=\"0.35\" text-anchor=\"end\">1</text>\n",
       "            <text x=\"1.24\" y=\"0.36\" dx=\"-0.05\" dy=\"0.20\" text-anchor=\"end\">3</text>\n",
       "            <text x=\"0.41\" y=\"0.36\" dx=\"-0.05\" dy=\"0.20\" text-anchor=\"end\">4</text>\n",
       "          </g>\n",
       "        </g>\n",
       "      </mask>\n",
       "    </defs>\n",
       "    <g fill=\"none\" stroke=\"black\" stroke-width=\"0.04\"  mask=\"url(#mask-bd485ab6-ccc3-4808-9279-5da8bf5fffee)\">\n",
       "      <line x1=\"0.00\" y1=\"-0.36\" x2=\"0.41\" y2=\"0.36\"/>\n",
       "      <line x1=\"1.24\" y1=\"0.36\" x2=\"0.41\" y2=\"0.36\"/>\n",
       "    </g>\n",
       "    <g font-family=\"monospace\">\n",
       "      <g fill=\"#FF0D0D\" font-family=\"sans-serif\">\n",
       "        <text x=\"0.00\" y=\"-0.36\" dx=\"-0.20\" dy=\"0.20\" font-size=\"0.50\">OH</text>\n",
       "      </g>\n",
       "      <g fill=\"#0305A7\" font-size=\"0.25\">\n",
       "        <text x=\"0.00\" y=\"-0.36\" dx=\"-0.15\" dy=\"0.35\" text-anchor=\"end\">1</text>\n",
       "        <text x=\"1.24\" y=\"0.36\" dx=\"-0.05\" dy=\"0.20\" text-anchor=\"end\">3</text>\n",
       "        <text x=\"0.41\" y=\"0.36\" dx=\"-0.05\" dy=\"0.20\" text-anchor=\"end\">4</text>\n",
       "      </g>\n",
       "    </g>\n",
       "  </g>\n",
       "  <g>\n",
       "    <defs>\n",
       "      <mask id=\"mask-42105dfb-af9a-44e5-9fb3-50af4c4957e1\">\n",
       "        <rect x=\"-0.62\" y=\"-1.70\" width=\"18.80\" height=\"3.39\" fill=\"white\"/>\n",
       "        <g fill=\"black\">\n",
       "          <circle cx=\"2.44\" cy=\"-0.36\" r=\"0.20\"/>\n",
       "        </g>\n",
       "        <g font-family=\"monospace\" stroke=\"black\">\n",
       "          <g font-family=\"sans-serif\" font-size=\"0.50\" stroke-width=\"0.05\">\n",
       "            <text x=\"2.44\" y=\"-0.36\" dx=\"-0.20\" dy=\"0.20\">O</text>\n",
       "          </g>\n",
       "          <g font-size=\"0.25\" stroke-width=\"0.03\">\n",
       "            <text x=\"2.44\" y=\"-0.36\" dx=\"-0.15\" dy=\"0.35\" text-anchor=\"end\">2</text>\n",
       "            <text x=\"2.85\" y=\"0.36\" dx=\"-0.05\" dy=\"0.20\" text-anchor=\"end\">11</text>\n",
       "            <text x=\"3.68\" y=\"0.36\" dx=\"-0.05\" dy=\"0.20\" text-anchor=\"end\">12</text>\n",
       "          </g>\n",
       "          <g font-family=\"monospace\" font-size=\"0.3\" stroke-width=\"0.03\">\n",
       "           <text x=\"2.44\" y=\"-0.36\" dx=\"0.05\" dy=\"-0.20\">-</text>\n",
       "          </g>\n",
       "        </g>\n",
       "      </mask>\n",
       "    </defs>\n",
       "    <g fill=\"none\" stroke=\"black\" stroke-width=\"0.04\"  mask=\"url(#mask-42105dfb-af9a-44e5-9fb3-50af4c4957e1)\">\n",
       "      <line x1=\"2.44\" y1=\"-0.36\" x2=\"2.85\" y2=\"0.36\"/>\n",
       "      <line x1=\"2.85\" y1=\"0.36\" x2=\"3.68\" y2=\"0.36\"/>\n",
       "    </g>\n",
       "    <g font-family=\"monospace\">\n",
       "      <g fill=\"#FF0D0D\" font-family=\"sans-serif\">\n",
       "        <text x=\"2.44\" y=\"-0.36\" dx=\"-0.20\" dy=\"0.20\" font-size=\"0.50\">O</text>\n",
       "      </g>\n",
       "      <g font-family=\"monospace\" fill=\"black\" font-size=\"0.30\">\n",
       "        <text x=\"2.44\" y=\"-0.36\" dx=\"0.05\" dy=\"-0.20\">-</text>\n",
       "      </g>\n",
       "      <g fill=\"#0305A7\" font-size=\"0.25\">\n",
       "        <text x=\"2.44\" y=\"-0.36\" dx=\"-0.15\" dy=\"0.35\" text-anchor=\"end\">2</text>\n",
       "        <text x=\"2.85\" y=\"0.36\" dx=\"-0.05\" dy=\"0.20\" text-anchor=\"end\">11</text>\n",
       "        <text x=\"3.68\" y=\"0.36\" dx=\"-0.05\" dy=\"0.20\" text-anchor=\"end\">12</text>\n",
       "      </g>\n",
       "    </g>\n",
       "  </g>\n",
       "  <g>\n",
       "    <defs>\n",
       "      <mask id=\"mask-1bb353de-c336-400b-aac6-f7288fd799e0\">\n",
       "        <rect x=\"-0.62\" y=\"-1.70\" width=\"18.80\" height=\"3.39\" fill=\"white\"/>\n",
       "        <g fill=\"black\">\n",
       "          <circle cx=\"4.88\" cy=\"0.71\" r=\"0.20\"/>\n",
       "          <circle cx=\"6.53\" cy=\"0.71\" r=\"0.20\"/>\n",
       "          <circle cx=\"4.88\" cy=\"-0.71\" r=\"0.20\"/>\n",
       "          <circle cx=\"6.53\" cy=\"-0.71\" r=\"0.20\"/>\n",
       "        </g>\n",
       "        <g font-family=\"monospace\" stroke=\"black\">\n",
       "          <g font-family=\"sans-serif\" font-size=\"0.50\" stroke-width=\"0.05\">\n",
       "            <text x=\"4.88\" y=\"0.71\" dx=\"-0.20\" dy=\"0.20\">OH</text>\n",
       "            <text x=\"6.53\" y=\"0.71\" dx=\"-0.20\" dy=\"0.20\">OH</text>\n",
       "            <text x=\"4.88\" y=\"-0.71\" dx=\"-0.20\" dy=\"0.20\">O</text>\n",
       "            <text x=\"6.53\" y=\"-0.71\" dx=\"-0.20\" dy=\"0.20\">O</text>\n",
       "          </g>\n",
       "          <g font-size=\"0.25\" stroke-width=\"0.03\">\n",
       "            <text x=\"4.88\" y=\"0.71\" dx=\"-0.15\" dy=\"0.35\" text-anchor=\"end\">8</text>\n",
       "            <text x=\"6.53\" y=\"0.71\" dx=\"-0.15\" dy=\"0.35\" text-anchor=\"end\">10</text>\n",
       "            <text x=\"5.29\" y=\"-0.00\" dx=\"-0.05\" dy=\"0.20\" text-anchor=\"end\">5</text>\n",
       "            <text x=\"6.11\" y=\"0.00\" dx=\"-0.05\" dy=\"0.20\" text-anchor=\"end\">6</text>\n",
       "            <text x=\"4.88\" y=\"-0.71\" dx=\"-0.15\" dy=\"0.35\" text-anchor=\"end\">7</text>\n",
       "            <text x=\"6.53\" y=\"-0.71\" dx=\"-0.15\" dy=\"0.35\" text-anchor=\"end\">9</text>\n",
       "          </g>\n",
       "        </g>\n",
       "      </mask>\n",
       "    </defs>\n",
       "    <g fill=\"none\" stroke=\"black\" stroke-width=\"0.04\"  mask=\"url(#mask-1bb353de-c336-400b-aac6-f7288fd799e0)\">\n",
       "      <line x1=\"4.88\" y1=\"0.71\" x2=\"5.29\" y2=\"-0.00\"/>\n",
       "      <line x1=\"6.53\" y1=\"0.71\" x2=\"6.11\" y2=\"0.00\"/>\n",
       "      <line x1=\"5.29\" y1=\"-0.00\" x2=\"6.11\" y2=\"0.00\"/>\n",
       "      <line x1=\"5.24\" y1=\"0.03\" x2=\"4.82\" y2=\"-0.68\"/>\n",
       "      <line x1=\"5.34\" y1=\"-0.03\" x2=\"4.93\" y2=\"-0.74\"/>\n",
       "      <line x1=\"6.06\" y1=\"-0.03\" x2=\"6.47\" y2=\"-0.74\"/>\n",
       "      <line x1=\"6.16\" y1=\"0.03\" x2=\"6.58\" y2=\"-0.68\"/>\n",
       "    </g>\n",
       "    <g font-family=\"monospace\">\n",
       "      <g fill=\"#FF0D0D\" font-family=\"sans-serif\">\n",
       "        <text x=\"4.88\" y=\"0.71\" dx=\"-0.20\" dy=\"0.20\" font-size=\"0.50\">OH</text>\n",
       "      </g>\n",
       "      <g fill=\"#FF0D0D\" font-family=\"sans-serif\">\n",
       "        <text x=\"6.53\" y=\"0.71\" dx=\"-0.20\" dy=\"0.20\" font-size=\"0.50\">OH</text>\n",
       "      </g>\n",
       "      <g fill=\"#FF0D0D\" font-family=\"sans-serif\">\n",
       "        <text x=\"4.88\" y=\"-0.71\" dx=\"-0.20\" dy=\"0.20\" font-size=\"0.50\">O</text>\n",
       "      </g>\n",
       "      <g fill=\"#FF0D0D\" font-family=\"sans-serif\">\n",
       "        <text x=\"6.53\" y=\"-0.71\" dx=\"-0.20\" dy=\"0.20\" font-size=\"0.50\">O</text>\n",
       "      </g>\n",
       "      <g fill=\"#0305A7\" font-size=\"0.25\">\n",
       "        <text x=\"4.88\" y=\"0.71\" dx=\"-0.15\" dy=\"0.35\" text-anchor=\"end\">8</text>\n",
       "        <text x=\"6.53\" y=\"0.71\" dx=\"-0.15\" dy=\"0.35\" text-anchor=\"end\">10</text>\n",
       "        <text x=\"5.29\" y=\"-0.00\" dx=\"-0.05\" dy=\"0.20\" text-anchor=\"end\">5</text>\n",
       "        <text x=\"6.11\" y=\"0.00\" dx=\"-0.05\" dy=\"0.20\" text-anchor=\"end\">6</text>\n",
       "        <text x=\"4.88\" y=\"-0.71\" dx=\"-0.15\" dy=\"0.35\" text-anchor=\"end\">7</text>\n",
       "        <text x=\"6.53\" y=\"-0.71\" dx=\"-0.15\" dy=\"0.35\" text-anchor=\"end\">9</text>\n",
       "      </g>\n",
       "    </g>\n",
       "  </g>\n",
       "  <g>\n",
       "    <defs>\n",
       "      <mask id=\"mask-01162359-92f2-40fb-8cae-7974bf7a9749\">\n",
       "        <rect x=\"-0.62\" y=\"-1.70\" width=\"18.80\" height=\"3.39\" fill=\"white\"/>\n",
       "        <g fill=\"black\">\n",
       "          <circle cx=\"11.76\" cy=\"-0.36\" r=\"0.20\"/>\n",
       "          <circle cx=\"13.41\" cy=\"-0.36\" r=\"0.20\"/>\n",
       "          <circle cx=\"13.41\" cy=\"1.07\" r=\"0.20\"/>\n",
       "          <circle cx=\"11.76\" cy=\"1.07\" r=\"0.20\"/>\n",
       "        </g>\n",
       "        <g font-family=\"monospace\" stroke=\"black\">\n",
       "          <g font-family=\"sans-serif\" font-size=\"0.50\" stroke-width=\"0.05\">\n",
       "            <text x=\"11.76\" y=\"-0.36\" dx=\"-0.20\" dy=\"0.20\">O</text>\n",
       "            <text x=\"13.41\" y=\"-0.36\" dx=\"-0.20\" dy=\"0.20\">O</text>\n",
       "            <text x=\"13.41\" y=\"1.07\" dx=\"-0.20\" dy=\"0.20\">O</text>\n",
       "            <text x=\"11.76\" y=\"1.07\" dx=\"-0.20\" dy=\"0.20\">O</text>\n",
       "          </g>\n",
       "          <g font-size=\"0.25\" stroke-width=\"0.03\">\n",
       "            <text x=\"11.76\" y=\"-0.36\" dx=\"-0.15\" dy=\"0.35\" text-anchor=\"end\">1</text>\n",
       "            <text x=\"13.41\" y=\"-0.36\" dx=\"-0.15\" dy=\"0.35\" text-anchor=\"end\">2</text>\n",
       "            <text x=\"10.53\" y=\"-1.07\" dx=\"-0.05\" dy=\"0.20\" text-anchor=\"end\">3</text>\n",
       "            <text x=\"10.94\" y=\"-0.36\" dx=\"-0.05\" dy=\"0.20\" text-anchor=\"end\">4</text>\n",
       "            <text x=\"13.00\" y=\"0.36\" dx=\"-0.05\" dy=\"0.20\" text-anchor=\"end\">5</text>\n",
       "            <text x=\"12.18\" y=\"0.36\" dx=\"-0.05\" dy=\"0.20\" text-anchor=\"end\">6</text>\n",
       "            <text x=\"13.41\" y=\"1.07\" dx=\"-0.15\" dy=\"0.35\" text-anchor=\"end\">7</text>\n",
       "            <text x=\"11.76\" y=\"1.07\" dx=\"-0.15\" dy=\"0.35\" text-anchor=\"end\">9</text>\n",
       "            <text x=\"14.24\" y=\"-0.36\" dx=\"-0.05\" dy=\"0.20\" text-anchor=\"end\">11</text>\n",
       "            <text x=\"14.65\" y=\"-1.07\" dx=\"-0.05\" dy=\"0.20\" text-anchor=\"end\">12</text>\n",
       "          </g>\n",
       "        </g>\n",
       "      </mask>\n",
       "    </defs>\n",
       "    <g fill=\"none\" stroke=\"black\" stroke-width=\"0.04\"  mask=\"url(#mask-01162359-92f2-40fb-8cae-7974bf7a9749)\">\n",
       "      <line x1=\"11.76\" y1=\"-0.36\" x2=\"10.94\" y2=\"-0.36\"/>\n",
       "      <line x1=\"11.76\" y1=\"-0.36\" x2=\"12.18\" y2=\"0.36\"/>\n",
       "      <line x1=\"13.41\" y1=\"-0.36\" x2=\"14.24\" y2=\"-0.36\"/>\n",
       "      <line x1=\"13.41\" y1=\"-0.36\" x2=\"13.00\" y2=\"0.36\"/>\n",
       "      <line x1=\"10.53\" y1=\"-1.07\" x2=\"10.94\" y2=\"-0.36\"/>\n",
       "      <line x1=\"13.00\" y1=\"0.36\" x2=\"12.18\" y2=\"0.36\"/>\n",
       "      <line x1=\"13.05\" y1=\"0.33\" x2=\"13.46\" y2=\"1.04\"/>\n",
       "      <line x1=\"12.95\" y1=\"0.39\" x2=\"13.36\" y2=\"1.10\"/>\n",
       "      <line x1=\"12.23\" y1=\"0.39\" x2=\"11.81\" y2=\"1.10\"/>\n",
       "      <line x1=\"12.12\" y1=\"0.33\" x2=\"11.71\" y2=\"1.04\"/>\n",
       "      <line x1=\"14.24\" y1=\"-0.36\" x2=\"14.65\" y2=\"-1.07\"/>\n",
       "    </g>\n",
       "    <g font-family=\"monospace\">\n",
       "      <g fill=\"#FF0D0D\" font-family=\"sans-serif\">\n",
       "        <text x=\"11.76\" y=\"-0.36\" dx=\"-0.20\" dy=\"0.20\" font-size=\"0.50\">O</text>\n",
       "      </g>\n",
       "      <g fill=\"#FF0D0D\" font-family=\"sans-serif\">\n",
       "        <text x=\"13.41\" y=\"-0.36\" dx=\"-0.20\" dy=\"0.20\" font-size=\"0.50\">O</text>\n",
       "      </g>\n",
       "      <g fill=\"#FF0D0D\" font-family=\"sans-serif\">\n",
       "        <text x=\"13.41\" y=\"1.07\" dx=\"-0.20\" dy=\"0.20\" font-size=\"0.50\">O</text>\n",
       "      </g>\n",
       "      <g fill=\"#FF0D0D\" font-family=\"sans-serif\">\n",
       "        <text x=\"11.76\" y=\"1.07\" dx=\"-0.20\" dy=\"0.20\" font-size=\"0.50\">O</text>\n",
       "      </g>\n",
       "      <g fill=\"#0305A7\" font-size=\"0.25\">\n",
       "        <text x=\"11.76\" y=\"-0.36\" dx=\"-0.15\" dy=\"0.35\" text-anchor=\"end\">1</text>\n",
       "        <text x=\"13.41\" y=\"-0.36\" dx=\"-0.15\" dy=\"0.35\" text-anchor=\"end\">2</text>\n",
       "        <text x=\"10.53\" y=\"-1.07\" dx=\"-0.05\" dy=\"0.20\" text-anchor=\"end\">3</text>\n",
       "        <text x=\"10.94\" y=\"-0.36\" dx=\"-0.05\" dy=\"0.20\" text-anchor=\"end\">4</text>\n",
       "        <text x=\"13.00\" y=\"0.36\" dx=\"-0.05\" dy=\"0.20\" text-anchor=\"end\">5</text>\n",
       "        <text x=\"12.18\" y=\"0.36\" dx=\"-0.05\" dy=\"0.20\" text-anchor=\"end\">6</text>\n",
       "        <text x=\"13.41\" y=\"1.07\" dx=\"-0.15\" dy=\"0.35\" text-anchor=\"end\">7</text>\n",
       "        <text x=\"11.76\" y=\"1.07\" dx=\"-0.15\" dy=\"0.35\" text-anchor=\"end\">9</text>\n",
       "        <text x=\"14.24\" y=\"-0.36\" dx=\"-0.05\" dy=\"0.20\" text-anchor=\"end\">11</text>\n",
       "        <text x=\"14.65\" y=\"-1.07\" dx=\"-0.05\" dy=\"0.20\" text-anchor=\"end\">12</text>\n",
       "      </g>\n",
       "    </g>\n",
       "  </g>\n",
       "  <g>\n",
       "    <g font-family=\"monospace\">\n",
       "      <g fill=\"#FF0D0D\" font-family=\"sans-serif\">\n",
       "        <text x=\"15.85\" y=\"-0.00\" dx=\"-0.20\" dy=\"0.20\" font-size=\"0.50\">OH<tspan  dy=\"0.15\" font-size=\"0.35\">2</tspan></text>\n",
       "      </g>\n",
       "      <g fill=\"#0305A7\" font-size=\"0.25\">\n",
       "        <text x=\"15.85\" y=\"-0.00\" dx=\"-0.15\" dy=\"0.35\" text-anchor=\"end\">8</text>\n",
       "      </g>\n",
       "    </g>\n",
       "  </g>\n",
       "  <g>\n",
       "    <g font-family=\"monospace\">\n",
       "      <g fill=\"#FF0D0D\" font-family=\"sans-serif\">\n",
       "        <text x=\"17.30\" y=\"-0.00\" dx=\"-0.20\" dy=\"0.20\" font-size=\"0.50\">OH<tspan  dy=\"0.15\" font-size=\"0.35\">2</tspan></text>\n",
       "      </g>\n",
       "      <g fill=\"#0305A7\" font-size=\"0.25\">\n",
       "        <text x=\"17.30\" y=\"-0.00\" dx=\"-0.15\" dy=\"0.35\" text-anchor=\"end\">10</text>\n",
       "      </g>\n",
       "    </g>\n",
       "  </g>\n",
       "</svg>"
      ],
      "text/plain": [
       "<CGRtools.containers.reaction.ReactionContainer at 0x7fb0b90401c0>"
      ]
     },
     "execution_count": 78,
     "metadata": {},
     "output_type": "execute_result"
    }
   ],
   "source": [
    "decomposed = ReactionContainer.from_cgr(cgr2)\n",
    "decomposed.clean2d()\n",
    "decomposed"
   ]
  },
  {
   "cell_type": "markdown",
   "metadata": {},
   "source": [
    "You can see that water absent in products initially was restored. \n",
    "This is a side-effect of CGR decomposing that could help with reaction balancing. \n",
    "But balancing using CGR decomposition works correctly only if minor part atoms are lost \n",
    "but multiplicity and formal charge are saved. In next release electronic state balansing will be added."
   ]
  },
  {
   "cell_type": "code",
   "execution_count": 79,
   "metadata": {},
   "outputs": [
    {
     "data": {
      "image/svg+xml": [
       "<svg width=\"17.82cm\" height=\"3.39cm\" viewBox=\"-0.62 -1.70 17.82 3.39\" xmlns=\"http://www.w3.org/2000/svg\" version=\"1.1\">\n",
       "  <defs>\n",
       "    <marker id=\"arrow\" markerWidth=\"10\" markerHeight=\"10\" refX=\"0\" refY=\"3\" orient=\"auto\">\n",
       "      <path d=\"M0,0 L0,6 L9,3\"/>\n",
       "    </marker>\n",
       "  </defs>\n",
       "  <line x1=\"8.32\" y1=\"0\" x2=\"10.32\" y2=\"0\" fill=\"none\" stroke=\"black\" stroke-width=\".04\" marker-end=\"url(#arrow)\"/>\n",
       "  <g fill=\"none\" stroke=\"black\" stroke-width=\".04\">\n",
       "    <line x1=\"1.98\" y1=\"0\" x2=\"2.28\" y2=\"0\"/>\n",
       "    <line x1=\"2.13\" y1=\"0.15\" x2=\"2.13\" y2=\"-0.15\"/>\n",
       "    <line x1=\"5.24\" y1=\"0\" x2=\"5.54\" y2=\"0\"/>\n",
       "    <line x1=\"5.39\" y1=\"0.15\" x2=\"5.39\" y2=\"-0.15\"/>\n",
       "  </g>\n",
       "  <g>\n",
       "    <defs>\n",
       "      <mask id=\"mask-47269e24-6df2-4d78-b364-db51e3175a72\">\n",
       "        <rect x=\"-0.62\" y=\"-1.70\" width=\"17.82\" height=\"3.39\" fill=\"white\"/>\n",
       "        <g fill=\"black\">\n",
       "          <circle cx=\"1.43\" cy=\"-0.21\" r=\"0.20\"/>\n",
       "        </g>\n",
       "        <g font-family=\"monospace\" stroke=\"black\">\n",
       "          <g font-family=\"sans-serif\" font-size=\"0.50\" stroke-width=\"0.05\">\n",
       "            <text x=\"1.43\" y=\"-0.21\" dx=\"-0.20\" dy=\"0.20\">OH</text>\n",
       "          </g>\n",
       "          <g font-size=\"0.25\" stroke-width=\"0.03\">\n",
       "            <text x=\"0.00\" y=\"-0.21\" dx=\"-0.05\" dy=\"0.20\" text-anchor=\"end\">3</text>\n",
       "            <text x=\"0.71\" y=\"0.21\" dx=\"-0.05\" dy=\"0.20\" text-anchor=\"end\">4</text>\n",
       "            <text x=\"1.43\" y=\"-0.21\" dx=\"-0.15\" dy=\"0.35\" text-anchor=\"end\">1</text>\n",
       "          </g>\n",
       "        </g>\n",
       "      </mask>\n",
       "    </defs>\n",
       "    <g fill=\"none\" stroke=\"black\" stroke-width=\"0.04\"  mask=\"url(#mask-47269e24-6df2-4d78-b364-db51e3175a72)\">\n",
       "      <line x1=\"0.00\" y1=\"-0.21\" x2=\"0.71\" y2=\"0.21\"/>\n",
       "      <line x1=\"0.71\" y1=\"0.21\" x2=\"1.43\" y2=\"-0.21\"/>\n",
       "    </g>\n",
       "    <g font-family=\"monospace\">\n",
       "      <g fill=\"#FF0D0D\" font-family=\"sans-serif\">\n",
       "        <text x=\"1.43\" y=\"-0.21\" dx=\"-0.20\" dy=\"0.20\" font-size=\"0.50\">OH</text>\n",
       "      </g>\n",
       "      <g fill=\"#0305A7\" font-size=\"0.25\">\n",
       "        <text x=\"0.00\" y=\"-0.21\" dx=\"-0.05\" dy=\"0.20\" text-anchor=\"end\">3</text>\n",
       "        <text x=\"0.71\" y=\"0.21\" dx=\"-0.05\" dy=\"0.20\" text-anchor=\"end\">4</text>\n",
       "        <text x=\"1.43\" y=\"-0.21\" dx=\"-0.15\" dy=\"0.35\" text-anchor=\"end\">1</text>\n",
       "      </g>\n",
       "    </g>\n",
       "  </g>\n",
       "  <g>\n",
       "    <defs>\n",
       "      <mask id=\"mask-dda32e81-5f6f-45d1-890e-3b920f4c9be5\">\n",
       "        <rect x=\"-0.62\" y=\"-1.70\" width=\"17.82\" height=\"3.39\" fill=\"white\"/>\n",
       "        <g fill=\"black\">\n",
       "          <circle cx=\"3.45\" cy=\"-1.07\" r=\"0.20\"/>\n",
       "          <circle cx=\"4.69\" cy=\"-0.36\" r=\"0.20\"/>\n",
       "          <circle cx=\"3.87\" cy=\"1.07\" r=\"0.20\"/>\n",
       "          <circle cx=\"2.63\" cy=\"0.36\" r=\"0.20\"/>\n",
       "        </g>\n",
       "        <g font-family=\"monospace\" stroke=\"black\">\n",
       "          <g font-family=\"sans-serif\" font-size=\"0.50\" stroke-width=\"0.05\">\n",
       "            <text x=\"3.45\" y=\"-1.07\" dx=\"-0.20\" dy=\"0.20\">O</text>\n",
       "            <text x=\"4.69\" y=\"-0.36\" dx=\"-0.20\" dy=\"0.20\">OH</text>\n",
       "            <text x=\"3.87\" y=\"1.07\" dx=\"-0.20\" dy=\"0.20\">O</text>\n",
       "            <text x=\"2.63\" y=\"0.36\" dx=\"-0.20\" dy=\"0.20\">OH</text>\n",
       "          </g>\n",
       "          <g font-size=\"0.25\" stroke-width=\"0.03\">\n",
       "            <text x=\"3.87\" y=\"-0.36\" dx=\"-0.05\" dy=\"0.20\" text-anchor=\"end\">5</text>\n",
       "            <text x=\"3.45\" y=\"0.36\" dx=\"-0.05\" dy=\"0.20\" text-anchor=\"end\">6</text>\n",
       "            <text x=\"3.45\" y=\"-1.07\" dx=\"-0.15\" dy=\"0.35\" text-anchor=\"end\">7</text>\n",
       "            <text x=\"4.69\" y=\"-0.36\" dx=\"-0.15\" dy=\"0.35\" text-anchor=\"end\">8</text>\n",
       "            <text x=\"3.87\" y=\"1.07\" dx=\"-0.15\" dy=\"0.35\" text-anchor=\"end\">9</text>\n",
       "            <text x=\"2.63\" y=\"0.36\" dx=\"-0.15\" dy=\"0.35\" text-anchor=\"end\">10</text>\n",
       "          </g>\n",
       "        </g>\n",
       "      </mask>\n",
       "    </defs>\n",
       "    <g fill=\"none\" stroke=\"black\" stroke-width=\"0.04\"  mask=\"url(#mask-dda32e81-5f6f-45d1-890e-3b920f4c9be5)\">\n",
       "      <line x1=\"3.87\" y1=\"-0.36\" x2=\"3.45\" y2=\"0.36\"/>\n",
       "      <line x1=\"3.81\" y1=\"-0.33\" x2=\"3.40\" y2=\"-1.04\"/>\n",
       "      <line x1=\"3.92\" y1=\"-0.39\" x2=\"3.51\" y2=\"-1.10\"/>\n",
       "      <line x1=\"3.87\" y1=\"-0.36\" x2=\"4.69\" y2=\"-0.36\"/>\n",
       "      <line x1=\"3.51\" y1=\"0.33\" x2=\"3.92\" y2=\"1.04\"/>\n",
       "      <line x1=\"3.40\" y1=\"0.39\" x2=\"3.81\" y2=\"1.10\"/>\n",
       "      <line x1=\"3.45\" y1=\"0.36\" x2=\"2.63\" y2=\"0.36\"/>\n",
       "    </g>\n",
       "    <g font-family=\"monospace\">\n",
       "      <g fill=\"#FF0D0D\" font-family=\"sans-serif\">\n",
       "        <text x=\"3.45\" y=\"-1.07\" dx=\"-0.20\" dy=\"0.20\" font-size=\"0.50\">O</text>\n",
       "      </g>\n",
       "      <g fill=\"#FF0D0D\" font-family=\"sans-serif\">\n",
       "        <text x=\"4.69\" y=\"-0.36\" dx=\"-0.20\" dy=\"0.20\" font-size=\"0.50\">OH</text>\n",
       "      </g>\n",
       "      <g fill=\"#FF0D0D\" font-family=\"sans-serif\">\n",
       "        <text x=\"3.87\" y=\"1.07\" dx=\"-0.20\" dy=\"0.20\" font-size=\"0.50\">O</text>\n",
       "      </g>\n",
       "      <g fill=\"#FF0D0D\" font-family=\"sans-serif\">\n",
       "        <text x=\"2.63\" y=\"0.36\" dx=\"-0.20\" dy=\"0.20\" font-size=\"0.50\">OH</text>\n",
       "      </g>\n",
       "      <g fill=\"#0305A7\" font-size=\"0.25\">\n",
       "        <text x=\"3.87\" y=\"-0.36\" dx=\"-0.05\" dy=\"0.20\" text-anchor=\"end\">5</text>\n",
       "        <text x=\"3.45\" y=\"0.36\" dx=\"-0.05\" dy=\"0.20\" text-anchor=\"end\">6</text>\n",
       "        <text x=\"3.45\" y=\"-1.07\" dx=\"-0.15\" dy=\"0.35\" text-anchor=\"end\">7</text>\n",
       "        <text x=\"4.69\" y=\"-0.36\" dx=\"-0.15\" dy=\"0.35\" text-anchor=\"end\">8</text>\n",
       "        <text x=\"3.87\" y=\"1.07\" dx=\"-0.15\" dy=\"0.35\" text-anchor=\"end\">9</text>\n",
       "        <text x=\"2.63\" y=\"0.36\" dx=\"-0.15\" dy=\"0.35\" text-anchor=\"end\">10</text>\n",
       "      </g>\n",
       "    </g>\n",
       "  </g>\n",
       "  <g>\n",
       "    <defs>\n",
       "      <mask id=\"mask-944ce468-dc09-48e3-b981-8456ab309a61\">\n",
       "        <rect x=\"-0.62\" y=\"-1.70\" width=\"17.82\" height=\"3.39\" fill=\"white\"/>\n",
       "        <g fill=\"black\">\n",
       "          <circle cx=\"7.32\" cy=\"-0.21\" r=\"0.20\"/>\n",
       "        </g>\n",
       "        <g font-family=\"monospace\" stroke=\"black\">\n",
       "          <g font-family=\"sans-serif\" font-size=\"0.50\" stroke-width=\"0.05\">\n",
       "            <text x=\"7.32\" y=\"-0.21\" dx=\"-0.20\" dy=\"0.20\">O</text>\n",
       "          </g>\n",
       "          <g font-size=\"0.25\" stroke-width=\"0.03\">\n",
       "            <text x=\"6.61\" y=\"0.21\" dx=\"-0.05\" dy=\"0.20\" text-anchor=\"end\">11</text>\n",
       "            <text x=\"5.89\" y=\"-0.21\" dx=\"-0.05\" dy=\"0.20\" text-anchor=\"end\">12</text>\n",
       "            <text x=\"7.32\" y=\"-0.21\" dx=\"-0.15\" dy=\"0.35\" text-anchor=\"end\">2</text>\n",
       "          </g>\n",
       "          <g font-family=\"monospace\" font-size=\"0.3\" stroke-width=\"0.03\">\n",
       "           <text x=\"7.32\" y=\"-0.21\" dx=\"0.05\" dy=\"-0.20\">-</text>\n",
       "          </g>\n",
       "        </g>\n",
       "      </mask>\n",
       "    </defs>\n",
       "    <g fill=\"none\" stroke=\"black\" stroke-width=\"0.04\"  mask=\"url(#mask-944ce468-dc09-48e3-b981-8456ab309a61)\">\n",
       "      <line x1=\"6.61\" y1=\"0.21\" x2=\"5.89\" y2=\"-0.21\"/>\n",
       "      <line x1=\"6.61\" y1=\"0.21\" x2=\"7.32\" y2=\"-0.21\"/>\n",
       "    </g>\n",
       "    <g font-family=\"monospace\">\n",
       "      <g fill=\"#FF0D0D\" font-family=\"sans-serif\">\n",
       "        <text x=\"7.32\" y=\"-0.21\" dx=\"-0.20\" dy=\"0.20\" font-size=\"0.50\">O</text>\n",
       "      </g>\n",
       "      <g font-family=\"monospace\" fill=\"black\" font-size=\"0.30\">\n",
       "        <text x=\"7.32\" y=\"-0.21\" dx=\"0.05\" dy=\"-0.20\">-</text>\n",
       "      </g>\n",
       "      <g fill=\"#0305A7\" font-size=\"0.25\">\n",
       "        <text x=\"6.61\" y=\"0.21\" dx=\"-0.05\" dy=\"0.20\" text-anchor=\"end\">11</text>\n",
       "        <text x=\"5.89\" y=\"-0.21\" dx=\"-0.05\" dy=\"0.20\" text-anchor=\"end\">12</text>\n",
       "        <text x=\"7.32\" y=\"-0.21\" dx=\"-0.15\" dy=\"0.35\" text-anchor=\"end\">2</text>\n",
       "      </g>\n",
       "    </g>\n",
       "  </g>\n",
       "  <g>\n",
       "    <defs>\n",
       "      <mask id=\"mask-242d4cf3-85b1-4d6e-bf7b-a5bfee055f20\">\n",
       "        <rect x=\"-0.62\" y=\"-1.70\" width=\"17.82\" height=\"3.39\" fill=\"white\"/>\n",
       "        <g fill=\"black\">\n",
       "          <circle cx=\"14.89\" cy=\"-0.21\" r=\"0.20\"/>\n",
       "          <circle cx=\"12.75\" cy=\"0.21\" r=\"0.20\"/>\n",
       "          <circle cx=\"13.46\" cy=\"-1.03\" r=\"0.20\"/>\n",
       "          <circle cx=\"14.18\" cy=\"1.03\" r=\"0.20\"/>\n",
       "        </g>\n",
       "        <g font-family=\"monospace\" stroke=\"black\">\n",
       "          <g font-family=\"sans-serif\" font-size=\"0.50\" stroke-width=\"0.05\">\n",
       "            <text x=\"14.89\" y=\"-0.21\" dx=\"-0.20\" dy=\"0.20\">O</text>\n",
       "            <text x=\"12.75\" y=\"0.21\" dx=\"-0.20\" dy=\"0.20\">O</text>\n",
       "            <text x=\"13.46\" y=\"-1.03\" dx=\"-0.20\" dy=\"0.20\">O</text>\n",
       "            <text x=\"14.18\" y=\"1.03\" dx=\"-0.20\" dy=\"0.20\">O</text>\n",
       "          </g>\n",
       "          <g font-size=\"0.25\" stroke-width=\"0.03\">\n",
       "            <text x=\"14.18\" y=\"0.21\" dx=\"-0.05\" dy=\"0.20\" text-anchor=\"end\">5</text>\n",
       "            <text x=\"13.46\" y=\"-0.21\" dx=\"-0.05\" dy=\"0.20\" text-anchor=\"end\">6</text>\n",
       "            <text x=\"14.89\" y=\"-0.21\" dx=\"-0.15\" dy=\"0.35\" text-anchor=\"end\">2</text>\n",
       "            <text x=\"12.75\" y=\"0.21\" dx=\"-0.15\" dy=\"0.35\" text-anchor=\"end\">1</text>\n",
       "            <text x=\"13.46\" y=\"-1.03\" dx=\"-0.15\" dy=\"0.35\" text-anchor=\"end\">9</text>\n",
       "            <text x=\"14.18\" y=\"1.03\" dx=\"-0.15\" dy=\"0.35\" text-anchor=\"end\">7</text>\n",
       "            <text x=\"15.61\" y=\"0.21\" dx=\"-0.05\" dy=\"0.20\" text-anchor=\"end\">11</text>\n",
       "            <text x=\"16.32\" y=\"-0.21\" dx=\"-0.05\" dy=\"0.20\" text-anchor=\"end\">12</text>\n",
       "            <text x=\"12.03\" y=\"-0.21\" dx=\"-0.05\" dy=\"0.20\" text-anchor=\"end\">4</text>\n",
       "            <text x=\"11.32\" y=\"0.21\" dx=\"-0.05\" dy=\"0.20\" text-anchor=\"end\">3</text>\n",
       "          </g>\n",
       "        </g>\n",
       "      </mask>\n",
       "    </defs>\n",
       "    <g fill=\"none\" stroke=\"black\" stroke-width=\"0.04\"  mask=\"url(#mask-242d4cf3-85b1-4d6e-bf7b-a5bfee055f20)\">\n",
       "      <line x1=\"14.18\" y1=\"0.21\" x2=\"13.46\" y2=\"-0.21\"/>\n",
       "      <line x1=\"14.18\" y1=\"0.21\" x2=\"14.89\" y2=\"-0.21\"/>\n",
       "      <line x1=\"14.24\" y1=\"0.21\" x2=\"14.24\" y2=\"1.03\"/>\n",
       "      <line x1=\"14.12\" y1=\"0.21\" x2=\"14.12\" y2=\"1.03\"/>\n",
       "      <line x1=\"13.46\" y1=\"-0.21\" x2=\"12.75\" y2=\"0.21\"/>\n",
       "      <line x1=\"13.40\" y1=\"-0.21\" x2=\"13.40\" y2=\"-1.03\"/>\n",
       "      <line x1=\"13.52\" y1=\"-0.21\" x2=\"13.52\" y2=\"-1.03\"/>\n",
       "      <line x1=\"14.89\" y1=\"-0.21\" x2=\"15.61\" y2=\"0.21\"/>\n",
       "      <line x1=\"12.75\" y1=\"0.21\" x2=\"12.03\" y2=\"-0.21\"/>\n",
       "      <line x1=\"15.61\" y1=\"0.21\" x2=\"16.32\" y2=\"-0.21\"/>\n",
       "      <line x1=\"12.03\" y1=\"-0.21\" x2=\"11.32\" y2=\"0.21\"/>\n",
       "    </g>\n",
       "    <g font-family=\"monospace\">\n",
       "      <g fill=\"#FF0D0D\" font-family=\"sans-serif\">\n",
       "        <text x=\"14.89\" y=\"-0.21\" dx=\"-0.20\" dy=\"0.20\" font-size=\"0.50\">O</text>\n",
       "      </g>\n",
       "      <g fill=\"#FF0D0D\" font-family=\"sans-serif\">\n",
       "        <text x=\"12.75\" y=\"0.21\" dx=\"-0.20\" dy=\"0.20\" font-size=\"0.50\">O</text>\n",
       "      </g>\n",
       "      <g fill=\"#FF0D0D\" font-family=\"sans-serif\">\n",
       "        <text x=\"13.46\" y=\"-1.03\" dx=\"-0.20\" dy=\"0.20\" font-size=\"0.50\">O</text>\n",
       "      </g>\n",
       "      <g fill=\"#FF0D0D\" font-family=\"sans-serif\">\n",
       "        <text x=\"14.18\" y=\"1.03\" dx=\"-0.20\" dy=\"0.20\" font-size=\"0.50\">O</text>\n",
       "      </g>\n",
       "      <g fill=\"#0305A7\" font-size=\"0.25\">\n",
       "        <text x=\"14.18\" y=\"0.21\" dx=\"-0.05\" dy=\"0.20\" text-anchor=\"end\">5</text>\n",
       "        <text x=\"13.46\" y=\"-0.21\" dx=\"-0.05\" dy=\"0.20\" text-anchor=\"end\">6</text>\n",
       "        <text x=\"14.89\" y=\"-0.21\" dx=\"-0.15\" dy=\"0.35\" text-anchor=\"end\">2</text>\n",
       "        <text x=\"12.75\" y=\"0.21\" dx=\"-0.15\" dy=\"0.35\" text-anchor=\"end\">1</text>\n",
       "        <text x=\"13.46\" y=\"-1.03\" dx=\"-0.15\" dy=\"0.35\" text-anchor=\"end\">9</text>\n",
       "        <text x=\"14.18\" y=\"1.03\" dx=\"-0.15\" dy=\"0.35\" text-anchor=\"end\">7</text>\n",
       "        <text x=\"15.61\" y=\"0.21\" dx=\"-0.05\" dy=\"0.20\" text-anchor=\"end\">11</text>\n",
       "        <text x=\"16.32\" y=\"-0.21\" dx=\"-0.05\" dy=\"0.20\" text-anchor=\"end\">12</text>\n",
       "        <text x=\"12.03\" y=\"-0.21\" dx=\"-0.05\" dy=\"0.20\" text-anchor=\"end\">4</text>\n",
       "        <text x=\"11.32\" y=\"0.21\" dx=\"-0.05\" dy=\"0.20\" text-anchor=\"end\">3</text>\n",
       "      </g>\n",
       "    </g>\n",
       "  </g>\n",
       "</svg>"
      ],
      "text/plain": [
       "<CGRtools.containers.reaction.ReactionContainer at 0x7fb14fe46140>"
      ]
     },
     "execution_count": 79,
     "metadata": {},
     "output_type": "execute_result"
    }
   ],
   "source": [
    "r1 # compare with initial reaction"
   ]
  },
  {
   "cell_type": "markdown",
   "metadata": {},
   "source": [
    "## 1.4 Queries\n",
    "\n",
    "CGRtools supports special objects for Queries. Queries are designed for substructure isomorphism. User can set number of neighbors and hybridization by himself (in molecules they could be calculated but could not be changed).\n",
    "\n",
    "Queries don't have `reset_query_marks` method"
   ]
  },
  {
   "cell_type": "code",
   "execution_count": 80,
   "metadata": {},
   "outputs": [],
   "source": [
    "from CGRtools.containers import*"
   ]
  },
  {
   "cell_type": "code",
   "execution_count": 81,
   "metadata": {},
   "outputs": [
    {
     "data": {
      "image/svg+xml": [
       "<svg width=\"6.50cm\" height=\"3.31cm\" viewBox=\"10.30 -2.69 6.50 3.31\" xmlns=\"http://www.w3.org/2000/svg\" version=\"1.1\">\n",
       "  <g>\n",
       "    <defs>\n",
       "      <mask id=\"mask-b9b3d6b1-befa-4fc0-b3ff-f20a8f21a233\">\n",
       "        <rect x=\"10.30\" y=\"-2.69\" width=\"6.50\" height=\"3.31\" fill=\"white\"/>\n",
       "        <g fill=\"black\">\n",
       "          <circle cx=\"14.49\" cy=\"-1.24\" r=\"0.20\"/>\n",
       "          <circle cx=\"12.35\" cy=\"-0.83\" r=\"0.20\"/>\n",
       "          <circle cx=\"13.06\" cy=\"-2.06\" r=\"0.20\"/>\n",
       "          <circle cx=\"13.78\" cy=\"-0.00\" r=\"0.20\"/>\n",
       "        </g>\n",
       "        <g font-family=\"monospace\" stroke=\"black\">\n",
       "          <g font-family=\"sans-serif\" font-size=\"0.50\" stroke-width=\"0.05\">\n",
       "            <text x=\"14.49\" y=\"-1.24\" dx=\"-0.20\" dy=\"0.20\">O</text>\n",
       "            <text x=\"12.35\" y=\"-0.83\" dx=\"-0.20\" dy=\"0.20\">O</text>\n",
       "            <text x=\"13.06\" y=\"-2.06\" dx=\"-0.20\" dy=\"0.20\">O</text>\n",
       "            <text x=\"13.78\" y=\"-0.00\" dx=\"-0.20\" dy=\"0.20\">O</text>\n",
       "          </g>\n",
       "          <g font-size=\"0.25\" stroke-width=\"0.03\">\n",
       "            <text x=\"13.78\" y=\"-0.83\" dx=\"-0.05\" dy=\"0.20\" text-anchor=\"end\">5</text>\n",
       "            <text x=\"13.06\" y=\"-1.24\" dx=\"-0.05\" dy=\"0.20\" text-anchor=\"end\">6</text>\n",
       "            <text x=\"14.49\" y=\"-1.24\" dx=\"-0.15\" dy=\"0.35\" text-anchor=\"end\">2</text>\n",
       "            <text x=\"12.35\" y=\"-0.83\" dx=\"-0.15\" dy=\"0.35\" text-anchor=\"end\">1</text>\n",
       "            <text x=\"13.06\" y=\"-2.06\" dx=\"-0.15\" dy=\"0.35\" text-anchor=\"end\">9</text>\n",
       "            <text x=\"13.78\" y=\"-0.00\" dx=\"-0.15\" dy=\"0.35\" text-anchor=\"end\">7</text>\n",
       "            <text x=\"15.21\" y=\"-0.83\" dx=\"-0.05\" dy=\"0.20\" text-anchor=\"end\">11</text>\n",
       "            <text x=\"15.92\" y=\"-1.24\" dx=\"-0.05\" dy=\"0.20\" text-anchor=\"end\">12</text>\n",
       "            <text x=\"11.63\" y=\"-1.24\" dx=\"-0.05\" dy=\"0.20\" text-anchor=\"end\">4</text>\n",
       "            <text x=\"10.92\" y=\"-0.83\" dx=\"-0.05\" dy=\"0.20\" text-anchor=\"end\">3</text>\n",
       "          </g>\n",
       "        </g>\n",
       "      </mask>\n",
       "    </defs>\n",
       "    <g fill=\"none\" stroke=\"black\" stroke-width=\"0.04\"  mask=\"url(#mask-b9b3d6b1-befa-4fc0-b3ff-f20a8f21a233)\">\n",
       "      <line x1=\"13.78\" y1=\"-0.83\" x2=\"13.06\" y2=\"-1.24\"/>\n",
       "      <line x1=\"13.78\" y1=\"-0.83\" x2=\"14.49\" y2=\"-1.24\"/>\n",
       "      <line x1=\"13.84\" y1=\"-0.83\" x2=\"13.84\" y2=\"-0.00\"/>\n",
       "      <line x1=\"13.72\" y1=\"-0.83\" x2=\"13.72\" y2=\"0.00\"/>\n",
       "      <line x1=\"13.06\" y1=\"-1.24\" x2=\"12.35\" y2=\"-0.83\"/>\n",
       "      <line x1=\"13.00\" y1=\"-1.24\" x2=\"13.00\" y2=\"-2.06\"/>\n",
       "      <line x1=\"13.12\" y1=\"-1.24\" x2=\"13.12\" y2=\"-2.06\"/>\n",
       "      <line x1=\"14.49\" y1=\"-1.24\" x2=\"15.21\" y2=\"-0.83\"/>\n",
       "      <line x1=\"12.35\" y1=\"-0.83\" x2=\"11.63\" y2=\"-1.24\"/>\n",
       "      <line x1=\"15.21\" y1=\"-0.83\" x2=\"15.92\" y2=\"-1.24\"/>\n",
       "      <line x1=\"11.63\" y1=\"-1.24\" x2=\"10.92\" y2=\"-0.83\"/>\n",
       "    </g>\n",
       "    <g font-family=\"monospace\">\n",
       "      <g fill=\"#FF0D0D\" font-family=\"sans-serif\">\n",
       "        <text x=\"14.49\" y=\"-1.24\" dx=\"-0.20\" dy=\"0.20\" font-size=\"0.50\">O</text>\n",
       "      </g>\n",
       "      <g fill=\"#FF0D0D\" font-family=\"sans-serif\">\n",
       "        <text x=\"12.35\" y=\"-0.83\" dx=\"-0.20\" dy=\"0.20\" font-size=\"0.50\">O</text>\n",
       "      </g>\n",
       "      <g fill=\"#FF0D0D\" font-family=\"sans-serif\">\n",
       "        <text x=\"13.06\" y=\"-2.06\" dx=\"-0.20\" dy=\"0.20\" font-size=\"0.50\">O</text>\n",
       "      </g>\n",
       "      <g fill=\"#FF0D0D\" font-family=\"sans-serif\">\n",
       "        <text x=\"13.78\" y=\"-0.00\" dx=\"-0.20\" dy=\"0.20\" font-size=\"0.50\">O</text>\n",
       "      </g>\n",
       "      <g fill=\"#0305A7\" font-size=\"0.25\">\n",
       "        <text x=\"13.78\" y=\"-0.83\" dx=\"-0.05\" dy=\"0.20\" text-anchor=\"end\">5</text>\n",
       "        <text x=\"13.06\" y=\"-1.24\" dx=\"-0.05\" dy=\"0.20\" text-anchor=\"end\">6</text>\n",
       "        <text x=\"14.49\" y=\"-1.24\" dx=\"-0.15\" dy=\"0.35\" text-anchor=\"end\">2</text>\n",
       "        <text x=\"12.35\" y=\"-0.83\" dx=\"-0.15\" dy=\"0.35\" text-anchor=\"end\">1</text>\n",
       "        <text x=\"13.06\" y=\"-2.06\" dx=\"-0.15\" dy=\"0.35\" text-anchor=\"end\">9</text>\n",
       "        <text x=\"13.78\" y=\"-0.00\" dx=\"-0.15\" dy=\"0.35\" text-anchor=\"end\">7</text>\n",
       "        <text x=\"15.21\" y=\"-0.83\" dx=\"-0.05\" dy=\"0.20\" text-anchor=\"end\">11</text>\n",
       "        <text x=\"15.92\" y=\"-1.24\" dx=\"-0.05\" dy=\"0.20\" text-anchor=\"end\">12</text>\n",
       "        <text x=\"11.63\" y=\"-1.24\" dx=\"-0.05\" dy=\"0.20\" text-anchor=\"end\">4</text>\n",
       "        <text x=\"10.92\" y=\"-0.83\" dx=\"-0.05\" dy=\"0.20\" text-anchor=\"end\">3</text>\n",
       "      </g>\n",
       "    </g>\n",
       "  </g>\n",
       "</svg>"
      ],
      "text/plain": [
       "<CGRtools.containers.molecule.MoleculeContainer at 0x7fb0b93fade0>"
      ]
     },
     "execution_count": 81,
     "metadata": {},
     "output_type": "execute_result"
    }
   ],
   "source": [
    "m10 # ether"
   ]
  },
  {
   "cell_type": "code",
   "execution_count": 82,
   "metadata": {
    "scrolled": true
   },
   "outputs": [
    {
     "name": "stdout",
     "output_type": "stream",
     "text": [
      "[O;D1;H0;Zd]=[C;D3;H0;Zd]-[O;D2;H0;Zs]\n"
     ]
    },
    {
     "data": {
      "image/svg+xml": [
       "<svg width=\"2.21cm\" height=\"2.49cm\" viewBox=\"13.15 -1.86 2.21 2.49\" xmlns=\"http://www.w3.org/2000/svg\" version=\"1.1\">\n",
       "  <g>\n",
       "    <defs>\n",
       "      <mask id=\"mask-7ee94f66-5a48-4e07-b86b-f7a5cb26ac3e\">\n",
       "        <rect x=\"13.15\" y=\"-1.86\" width=\"2.21\" height=\"2.49\" fill=\"white\"/>\n",
       "        <g fill=\"black\">\n",
       "          <circle cx=\"14.49\" cy=\"-1.24\" r=\"0.20\"/>\n",
       "          <circle cx=\"13.78\" cy=\"-0.00\" r=\"0.20\"/>\n",
       "        </g>\n",
       "        <g font-family=\"monospace\" stroke=\"black\">\n",
       "          <g font-family=\"sans-serif\" font-size=\"0.50\" stroke-width=\"0.05\">\n",
       "           <text x=\"14.49\" y=\"-1.24\" dx=\"-0.20\" dy=\"0.20\">O</text>\n",
       "           <text x=\"13.78\" y=\"-0.00\" dx=\"-0.20\" dy=\"0.20\">O</text>\n",
       "          </g>\n",
       "          <g font-size=\"0.25\" stroke-width=\"0.03\">\n",
       "           <text x=\"13.78\" y=\"-0.83\" dx=\"-0.05\" dy=\"0.20\" text-anchor=\"end\">5</text>\n",
       "           <text x=\"14.49\" y=\"-1.24\" dx=\"-0.15\" dy=\"0.35\" text-anchor=\"end\">2</text>\n",
       "           <text x=\"13.78\" y=\"-0.00\" dx=\"-0.15\" dy=\"0.35\" text-anchor=\"end\">7</text>\n",
       "          </g>\n",
       "          <g font-family=\"monospace\" font-size=\"0.3\" stroke-width=\"0.03\">\n",
       "           <text x=\"13.78\" y=\"-0.83\" dx=\"0.07\" dy=\"0.15\">3</text>\n",
       "           <text x=\"13.78\" y=\"-0.83\" dx=\"0.07\" dy=\"0.33\">d</text>\n",
       "           <text x=\"14.49\" y=\"-1.24\" dx=\"0.17\" dy=\"0.15\">2</text>\n",
       "           <text x=\"14.49\" y=\"-1.24\" dx=\"0.17\" dy=\"0.33\">s</text>\n",
       "           <text x=\"13.78\" y=\"-0.00\" dx=\"0.17\" dy=\"0.15\">1</text>\n",
       "           <text x=\"13.78\" y=\"-0.00\" dx=\"0.17\" dy=\"0.33\">d</text>\n",
       "          </g>\n",
       "        </g>\n",
       "      </mask>\n",
       "    </defs>\n",
       "    <g fill=\"none\" stroke=\"black\" stroke-width=\"0.04\"  mask=\"url(#mask-7ee94f66-5a48-4e07-b86b-f7a5cb26ac3e)\">\n",
       "      <line x1=\"13.78\" y1=\"-0.83\" x2=\"14.49\" y2=\"-1.24\"/>\n",
       "      <line x1=\"13.84\" y1=\"-0.83\" x2=\"13.84\" y2=\"-0.00\"/>\n",
       "      <line x1=\"13.72\" y1=\"-0.83\" x2=\"13.72\" y2=\"0.00\"/>\n",
       "    </g>\n",
       "    <g font-family=\"monospace\">\n",
       "      <g fill=\"#FF0D0D\" font-family=\"sans-serif\">\n",
       "        <text x=\"14.49\" y=\"-1.24\" dx=\"-0.20\" dy=\"0.20\" font-size=\"0.50\">O</text>\n",
       "      </g>\n",
       "      <g fill=\"#FF0D0D\" font-family=\"sans-serif\">\n",
       "        <text x=\"13.78\" y=\"-0.00\" dx=\"-0.20\" dy=\"0.20\" font-size=\"0.50\">O</text>\n",
       "      </g>\n",
       "      <g fill=\"#5D8AA8\" font-family=\"monospace\" font-size=\"0.30\">\n",
       "        <text x=\"13.78\" y=\"-0.83\" dx=\"0.075\" dy=\"0.15\" text-anchor=\"start\">3</text>\n",
       "        <text x=\"14.49\" y=\"-1.24\" dx=\"0.175\" dy=\"0.15\" text-anchor=\"start\">2</text>\n",
       "        <text x=\"13.78\" y=\"-0.00\" dx=\"0.175\" dy=\"0.15\" text-anchor=\"start\">1</text>\n",
       "        <text x=\"13.78\" y=\"-0.83\" dx=\"0.075\" dy=\"0.33\" text-anchor=\"start\">d</text>\n",
       "        <text x=\"14.49\" y=\"-1.24\" dx=\"0.175\" dy=\"0.33\" text-anchor=\"start\">s</text>\n",
       "        <text x=\"13.78\" y=\"-0.00\" dx=\"0.175\" dy=\"0.33\" text-anchor=\"start\">d</text>\n",
       "      </g>\n",
       "      <g fill=\"#0305A7\" font-size=\"0.25\">\n",
       "        <text x=\"13.78\" y=\"-0.83\" dx=\"-0.05\" dy=\"0.20\" text-anchor=\"end\">5</text>\n",
       "        <text x=\"14.49\" y=\"-1.24\" dx=\"-0.15\" dy=\"0.35\" text-anchor=\"end\">2</text>\n",
       "        <text x=\"13.78\" y=\"-0.00\" dx=\"-0.15\" dy=\"0.35\" text-anchor=\"end\">7</text>\n",
       "      </g>\n",
       "    </g>\n",
       "  </g>\n",
       "</svg>"
      ],
      "text/plain": [
       "<CGRtools.containers.query.QueryContainer at 0x7fb0b8fb8460>"
      ]
     },
     "execution_count": 82,
     "metadata": {},
     "output_type": "execute_result"
    }
   ],
   "source": [
    "carb = m10.substructure([5,7,2], as_query=True) # extract of carboxyl fragment\n",
    "print(carb)\n",
    "carb"
   ]
  },
  {
   "cell_type": "markdown",
   "metadata": {},
   "source": [
    "CGRs also can be transformed into Query.\n",
    "\n",
    "`QueryCGRContainer` is similar to QueryContainer class for CGRs and has the same API.\n",
    "\n",
    "`QueryCGRContainer` take into account state of atoms and bonds in reactant and product, including neighbors and hybridization"
   ]
  },
  {
   "cell_type": "code",
   "execution_count": 83,
   "metadata": {},
   "outputs": [
    {
     "data": {
      "image/svg+xml": [
       "<svg width=\"2.93cm\" height=\"4.96cm\" viewBox=\"1.80 -4.34 2.93 4.96\" xmlns=\"http://www.w3.org/2000/svg\" version=\"1.1\">\n",
       "  <g>\n",
       "    <defs>\n",
       "      <mask id=\"mask-736b5b89-f77c-4e14-b807-df863a748167\">\n",
       "        <rect x=\"1.80\" y=\"-4.34\" width=\"2.93\" height=\"4.96\" fill=\"white\"/>\n",
       "        <g fill=\"black\">\n",
       "          <circle cx=\"3.14\" cy=\"-3.30\" r=\"0.20\"/>\n",
       "          <circle cx=\"2.43\" cy=\"-3.71\" r=\"0.20\"/>\n",
       "          <circle cx=\"3.86\" cy=\"-3.71\" r=\"0.20\"/>\n",
       "          <circle cx=\"3.14\" cy=\"-0.00\" r=\"0.20\"/>\n",
       "        </g>\n",
       "        <g font-family=\"monospace\" stroke=\"black\">\n",
       "          <g font-family=\"sans-serif\" font-size=\"0.50\" stroke-width=\"0.05\">\n",
       "           <text x=\"3.14\" y=\"-3.30\" dx=\"-0.20\" dy=\"0.20\">N</text>\n",
       "           <text x=\"2.43\" y=\"-3.71\" dx=\"-0.20\" dy=\"0.20\">O</text>\n",
       "           <text x=\"3.86\" y=\"-3.71\" dx=\"-0.20\" dy=\"0.20\">O</text>\n",
       "           <text x=\"3.14\" y=\"-0.00\" dx=\"-0.20\" dy=\"0.20\">O</text>\n",
       "          </g>\n",
       "          <g font-family=\"monospace\" font-size=\"0.3\" stroke-width=\"0.03\">\n",
       "           <text x=\"3.14\" y=\"-3.30\" dx=\"0.05\" dy=\"-0.20\">+</text>\n",
       "           <text x=\"3.14\" y=\"-3.30\" dx=\"0.17\" dy=\"0.15\">3»2</text>\n",
       "           <text x=\"3.14\" y=\"-3.30\" dx=\"0.17\" dy=\"0.33\">d»d</text>\n",
       "           <text x=\"2.43\" y=\"-3.71\" dx=\"0.17\" dy=\"0.15\">1»1</text>\n",
       "           <text x=\"2.43\" y=\"-3.71\" dx=\"0.17\" dy=\"0.33\">d»d</text>\n",
       "           <text x=\"3.86\" y=\"-3.71\" dx=\"0.05\" dy=\"-0.20\">-</text>\n",
       "           <text x=\"3.86\" y=\"-3.71\" dx=\"0.17\" dy=\"0.15\">1»1</text>\n",
       "           <text x=\"3.86\" y=\"-3.71\" dx=\"0.17\" dy=\"0.33\">s»s</text>\n",
       "           <text x=\"3.14\" y=\"-0.00\" dx=\"0.17\" dy=\"0.15\">1»0</text>\n",
       "           <text x=\"3.14\" y=\"-0.00\" dx=\"0.17\" dy=\"0.33\">s»s</text>\n",
       "           <text x=\"3.14\" y=\"-2.48\" dx=\"0.07\" dy=\"0.15\">3»2</text>\n",
       "           <text x=\"3.14\" y=\"-2.48\" dx=\"0.07\" dy=\"0.33\">d»d</text>\n",
       "           <text x=\"3.86\" y=\"-2.06\" dx=\"0.07\" dy=\"0.15\">2»2</text>\n",
       "           <text x=\"3.86\" y=\"-2.06\" dx=\"0.07\" dy=\"0.33\">d»d</text>\n",
       "           <text x=\"3.86\" y=\"-1.24\" dx=\"0.07\" dy=\"0.15\">2»2</text>\n",
       "           <text x=\"3.86\" y=\"-1.24\" dx=\"0.07\" dy=\"0.33\">d»d</text>\n",
       "           <text x=\"3.14\" y=\"-0.82\" dx=\"0.07\" dy=\"0.15\">3»2</text>\n",
       "           <text x=\"3.14\" y=\"-0.82\" dx=\"0.07\" dy=\"0.33\">d»d</text>\n",
       "           <text x=\"2.43\" y=\"-1.24\" dx=\"0.07\" dy=\"0.15\">2»2</text>\n",
       "           <text x=\"2.43\" y=\"-1.24\" dx=\"0.07\" dy=\"0.33\">d»d</text>\n",
       "           <text x=\"2.43\" y=\"-2.06\" dx=\"0.07\" dy=\"0.15\">2»2</text>\n",
       "           <text x=\"2.43\" y=\"-2.06\" dx=\"0.07\" dy=\"0.33\">d»d</text>\n",
       "          </g>\n",
       "        </g>\n",
       "      </mask>\n",
       "    </defs>\n",
       "    <g fill=\"none\" stroke=\"black\" stroke-width=\"0.04\"  mask=\"url(#mask-736b5b89-f77c-4e14-b807-df863a748167)\">\n",
       "      <line x1=\"3.14\" y1=\"-3.30\" x2=\"3.14\" y2=\"-2.48\" stroke=\"red\"/>\n",
       "      <line x1=\"3.11\" y1=\"-3.25\" x2=\"2.40\" y2=\"-3.66\"/>\n",
       "      <line x1=\"3.17\" y1=\"-3.35\" x2=\"2.46\" y2=\"-3.76\"/>\n",
       "      <line x1=\"3.14\" y1=\"-3.30\" x2=\"3.86\" y2=\"-3.71\"/>\n",
       "      <line x1=\"3.14\" y1=\"-0.00\" x2=\"3.14\" y2=\"-0.82\" stroke=\"red\"/>\n",
       "      <line x1=\"3.14\" y1=\"-2.48\" x2=\"3.86\" y2=\"-2.06\"/>\n",
       "      <line x1=\"3.17\" y1=\"-2.42\" x2=\"2.46\" y2=\"-2.01\"/>\n",
       "      <line x1=\"3.11\" y1=\"-2.53\" x2=\"2.40\" y2=\"-2.11\"/>\n",
       "      <line x1=\"3.92\" y1=\"-2.06\" x2=\"3.92\" y2=\"-1.24\"/>\n",
       "      <line x1=\"3.80\" y1=\"-2.06\" x2=\"3.80\" y2=\"-1.24\"/>\n",
       "      <line x1=\"3.86\" y1=\"-1.24\" x2=\"3.14\" y2=\"-0.82\"/>\n",
       "      <line x1=\"3.11\" y1=\"-0.77\" x2=\"2.40\" y2=\"-1.19\"/>\n",
       "      <line x1=\"3.17\" y1=\"-0.88\" x2=\"2.46\" y2=\"-1.29\"/>\n",
       "      <line x1=\"2.43\" y1=\"-1.24\" x2=\"2.43\" y2=\"-2.06\"/>\n",
       "    </g>\n",
       "    <g font-family=\"monospace\">\n",
       "      <g fill=\"#3050F8\" font-family=\"sans-serif\">\n",
       "        <text x=\"3.14\" y=\"-3.30\" dx=\"-0.20\" dy=\"0.20\" font-size=\"0.50\">N</text>\n",
       "      </g>\n",
       "      <g fill=\"#FF0D0D\" font-family=\"sans-serif\">\n",
       "        <text x=\"2.43\" y=\"-3.71\" dx=\"-0.20\" dy=\"0.20\" font-size=\"0.50\">O</text>\n",
       "      </g>\n",
       "      <g fill=\"#FF0D0D\" font-family=\"sans-serif\">\n",
       "        <text x=\"3.86\" y=\"-3.71\" dx=\"-0.20\" dy=\"0.20\" font-size=\"0.50\">O</text>\n",
       "      </g>\n",
       "      <g fill=\"#FF0D0D\" font-family=\"sans-serif\">\n",
       "        <text x=\"3.14\" y=\"-0.00\" dx=\"-0.20\" dy=\"0.20\" font-size=\"0.50\">O</text>\n",
       "      </g>\n",
       "      <g fill=\"#5D8AA8\" font-family=\"monospace\" font-size=\"0.30\">\n",
       "        <text x=\"3.14\" y=\"-3.30\" dx=\"0.17\" dy=\"0.15\" text-anchor=\"start\">3»2</text>\n",
       "        <text x=\"2.43\" y=\"-3.71\" dx=\"0.17\" dy=\"0.15\" text-anchor=\"start\">1»1</text>\n",
       "        <text x=\"3.86\" y=\"-3.71\" dx=\"0.17\" dy=\"0.15\" text-anchor=\"start\">1»1</text>\n",
       "        <text x=\"3.14\" y=\"-0.00\" dx=\"0.17\" dy=\"0.15\" text-anchor=\"start\">1»0</text>\n",
       "        <text x=\"3.14\" y=\"-2.48\" dx=\"0.07\" dy=\"0.15\" text-anchor=\"start\">3»2</text>\n",
       "        <text x=\"3.86\" y=\"-2.06\" dx=\"0.07\" dy=\"0.15\" text-anchor=\"start\">2»2</text>\n",
       "        <text x=\"3.86\" y=\"-1.24\" dx=\"0.07\" dy=\"0.15\" text-anchor=\"start\">2»2</text>\n",
       "        <text x=\"3.14\" y=\"-0.82\" dx=\"0.07\" dy=\"0.15\" text-anchor=\"start\">3»2</text>\n",
       "        <text x=\"2.43\" y=\"-1.24\" dx=\"0.07\" dy=\"0.15\" text-anchor=\"start\">2»2</text>\n",
       "        <text x=\"2.43\" y=\"-2.06\" dx=\"0.07\" dy=\"0.15\" text-anchor=\"start\">2»2</text>\n",
       "        <text x=\"3.14\" y=\"-3.30\" dx=\"0.17\" dy=\"0.33\" text-anchor=\"start\">d»d</text>\n",
       "        <text x=\"2.43\" y=\"-3.71\" dx=\"0.17\" dy=\"0.33\" text-anchor=\"start\">d»d</text>\n",
       "        <text x=\"3.86\" y=\"-3.71\" dx=\"0.17\" dy=\"0.33\" text-anchor=\"start\">s»s</text>\n",
       "        <text x=\"3.14\" y=\"-0.00\" dx=\"0.17\" dy=\"0.33\" text-anchor=\"start\">s»s</text>\n",
       "        <text x=\"3.14\" y=\"-2.48\" dx=\"0.07\" dy=\"0.33\" text-anchor=\"start\">d»d</text>\n",
       "        <text x=\"3.86\" y=\"-2.06\" dx=\"0.07\" dy=\"0.33\" text-anchor=\"start\">d»d</text>\n",
       "        <text x=\"3.86\" y=\"-1.24\" dx=\"0.07\" dy=\"0.33\" text-anchor=\"start\">d»d</text>\n",
       "        <text x=\"3.14\" y=\"-0.82\" dx=\"0.07\" dy=\"0.33\" text-anchor=\"start\">d»d</text>\n",
       "        <text x=\"2.43\" y=\"-1.24\" dx=\"0.07\" dy=\"0.33\" text-anchor=\"start\">d»d</text>\n",
       "        <text x=\"2.43\" y=\"-2.06\" dx=\"0.07\" dy=\"0.33\" text-anchor=\"start\">d»d</text>\n",
       "      </g>\n",
       "      <g fill=\"black\" font-family=\"monospace\" font-size=\"0.30\">\n",
       "        <text x=\"3.14\" y=\"-3.30\" dx=\"0.05\" dy=\"-0.20\" font-size=\"0.30\">+</text>\n",
       "        <text x=\"3.86\" y=\"-3.71\" dx=\"0.05\" dy=\"-0.20\" font-size=\"0.30\">-</text>\n",
       "      </g>\n",
       "    </g>\n",
       "  </g>\n",
       "</svg>"
      ],
      "text/plain": [
       "<CGRtools.containers.cgr_query.QueryCGRContainer at 0x7fb0b9084f40>"
      ]
     },
     "execution_count": 83,
     "metadata": {},
     "output_type": "execute_result"
    }
   ],
   "source": [
    "cgr_q = cgr1.substructure(cgr1, as_query=True) # transfrom CGRContainer into QueryCGRContainer\n",
    "cgr_q"
   ]
  },
  {
   "cell_type": "markdown",
   "metadata": {},
   "source": [
    "## 1.5. Molecules, CGRs, Reactions construction\n",
    "\n",
    "CGRtools has API for objects construction from scratch.\n",
    "\n",
    "CGR and Molecule has methods `add_atom` and `add_bond` for adding atoms and bonds."
   ]
  },
  {
   "cell_type": "code",
   "execution_count": 84,
   "metadata": {},
   "outputs": [],
   "source": [
    "from CGRtools.containers import MoleculeContainer\n",
    "from CGRtools.containers.bonds import Bond\n",
    "from CGRtools.periodictable import Na"
   ]
  },
  {
   "cell_type": "code",
   "execution_count": 85,
   "metadata": {},
   "outputs": [
    {
     "data": {
      "text/plain": [
       "4"
      ]
     },
     "execution_count": 85,
     "metadata": {},
     "output_type": "execute_result"
    }
   ],
   "source": [
    "m = MoleculeContainer() # new empty molecule\n",
    "\n",
    "m.add_atom('C')  # add Carbon atom using element symbol\n",
    "m.add_atom(6)    # add Carbon atom using element number. {'element': 6} is not valid, but {'element': 'O'} is also acceptable\n",
    "m.add_atom('O', charge=-1) # add negatively charged Oxygen atom. Similarly other atomic properties can be set\n",
    "\n",
    "# add_atom has second argument for setting atom number. \n",
    "# If not set, the next integer after the biggest among already created will be used.\n",
    "m.add_atom(Na(23), 4, charge=1) # For isotopes required element object construction."
   ]
  },
  {
   "cell_type": "code",
   "execution_count": 86,
   "metadata": {},
   "outputs": [],
   "source": [
    "m.add_bond(1, 2, 1) # add bond with order = 1 between atoms 1 and 2\n",
    "m.add_bond(3, 2, Bond(1)) # the other possibility to set bond order"
   ]
  },
  {
   "cell_type": "code",
   "execution_count": 87,
   "metadata": {},
   "outputs": [
    {
     "data": {
      "image/svg+xml": [
       "<svg width=\"3.64cm\" height=\"1.66cm\" viewBox=\"-2.77 -1.04 3.64 1.66\" xmlns=\"http://www.w3.org/2000/svg\" version=\"1.1\">\n",
       "  <g>\n",
       "    <defs>\n",
       "      <mask id=\"mask-a12c7e8d-edfe-4173-b88c-242b9cb6de35\">\n",
       "        <rect x=\"-2.77\" y=\"-1.04\" width=\"3.64\" height=\"1.66\" fill=\"white\"/>\n",
       "        <g fill=\"black\">\n",
       "          <circle cx=\"0.00\" cy=\"-0.00\" r=\"0.20\"/>\n",
       "          <ellipse cx=\"-2.22\" cy=\"-0.41\" rx=\"0.35\" ry=\"0.2\"/>\n",
       "        </g>\n",
       "        <g font-family=\"monospace\" stroke=\"black\">\n",
       "          <g font-family=\"sans-serif\" font-size=\"0.50\" stroke-width=\"0.05\">\n",
       "            <text x=\"0.00\" y=\"-0.00\" dx=\"-0.20\" dy=\"0.20\">O</text>\n",
       "            <text x=\"-2.14\" y=\"-0.41\" dx=\"-0.35\" dy=\"0.20\">Na</text>\n",
       "          </g>\n",
       "          <g font-size=\"0.25\" stroke-width=\"0.03\">\n",
       "            <text x=\"-1.43\" y=\"-0.00\" dx=\"-0.05\" dy=\"0.20\" text-anchor=\"end\">1</text>\n",
       "            <text x=\"-0.71\" y=\"-0.41\" dx=\"-0.05\" dy=\"0.20\" text-anchor=\"end\">2</text>\n",
       "            <text x=\"0.00\" y=\"-0.00\" dx=\"-0.15\" dy=\"0.35\" text-anchor=\"end\">3</text>\n",
       "            <text x=\"-2.14\" y=\"-0.41\" dx=\"-0.30\" dy=\"0.35\" text-anchor=\"end\">4</text>\n",
       "          </g>\n",
       "          <g font-family=\"monospace\" font-size=\"0.3\" stroke-width=\"0.03\">\n",
       "           <text x=\"0.00\" y=\"-0.00\" dx=\"0.05\" dy=\"-0.20\">-</text>\n",
       "           <text x=\"-2.14\" y=\"-0.41\" dx=\"0.05\" dy=\"-0.20\">+</text>\n",
       "            <text x=\"-2.14\" y=\"-0.41\" dx=\"-0.05\" dy=\"-0.20\" text-anchor=\"end\">23</text>\n",
       "          </g>\n",
       "        </g>\n",
       "      </mask>\n",
       "    </defs>\n",
       "    <g fill=\"none\" stroke=\"black\" stroke-width=\"0.04\"  mask=\"url(#mask-a12c7e8d-edfe-4173-b88c-242b9cb6de35)\">\n",
       "      <line x1=\"-1.43\" y1=\"-0.00\" x2=\"-0.71\" y2=\"-0.41\"/>\n",
       "      <line x1=\"-0.71\" y1=\"-0.41\" x2=\"0.00\" y2=\"-0.00\"/>\n",
       "    </g>\n",
       "    <g font-family=\"monospace\">\n",
       "      <g fill=\"#FF0D0D\" font-family=\"sans-serif\">\n",
       "        <text x=\"0.00\" y=\"-0.00\" dx=\"-0.20\" dy=\"0.20\" font-size=\"0.50\">O</text>\n",
       "      </g>\n",
       "      <g fill=\"#AB5CF2\" font-family=\"sans-serif\">\n",
       "        <text x=\"-2.14\" y=\"-0.41\" dx=\"-0.35\" dy=\"0.20\" font-size=\"0.50\">Na</text>\n",
       "      </g>\n",
       "      <g font-family=\"monospace\" fill=\"black\" font-size=\"0.30\">\n",
       "        <text x=\"0.00\" y=\"-0.00\" dx=\"0.05\" dy=\"-0.20\">-</text>\n",
       "        <text x=\"-2.14\" y=\"-0.41\" dx=\"0.05\" dy=\"-0.20\">+</text>\n",
       "        <text x=\"-2.14\" y=\"-0.41\" dx=\"-0.05\" dy=\"-0.20\" text-anchor=\"end\">23</text>\n",
       "      </g>\n",
       "      <g fill=\"#0305A7\" font-size=\"0.25\">\n",
       "        <text x=\"-1.43\" y=\"-0.00\" dx=\"-0.05\" dy=\"0.20\" text-anchor=\"end\">1</text>\n",
       "        <text x=\"-0.71\" y=\"-0.41\" dx=\"-0.05\" dy=\"0.20\" text-anchor=\"end\">2</text>\n",
       "        <text x=\"0.00\" y=\"-0.00\" dx=\"-0.15\" dy=\"0.35\" text-anchor=\"end\">3</text>\n",
       "        <text x=\"-2.14\" y=\"-0.41\" dx=\"-0.30\" dy=\"0.35\" text-anchor=\"end\">4</text>\n",
       "      </g>\n",
       "    </g>\n",
       "  </g>\n",
       "</svg>"
      ],
      "text/plain": [
       "<CGRtools.containers.molecule.MoleculeContainer at 0x7fb0b9084680>"
      ]
     },
     "execution_count": 87,
     "metadata": {},
     "output_type": "execute_result"
    }
   ],
   "source": [
    "m.clean2d() # experimental function to calculate atom coordinates. Has number of flaws yet\n",
    "m"
   ]
  },
  {
   "cell_type": "markdown",
   "metadata": {},
   "source": [
    "Reactions can be constructed from molecules.\n",
    "Reactions are tuple-like objects. Modification impossible."
   ]
  },
  {
   "cell_type": "code",
   "execution_count": 88,
   "metadata": {},
   "outputs": [],
   "source": [
    "r = ReactionContainer(reactants=[m1], products=[m11]) # one-step way to construct reaction\n",
    "# or\n",
    "r = ReactionContainer([m1], [m11]) # first list of MoleculeContainers is interpreted as reactants, \n",
    "                                   # second one - as products"
   ]
  },
  {
   "cell_type": "code",
   "execution_count": 89,
   "metadata": {},
   "outputs": [
    {
     "data": {
      "image/svg+xml": [
       "<svg width=\"7.64cm\" height=\"4.96cm\" viewBox=\"-0.62 -2.48 7.64 4.96\" xmlns=\"http://www.w3.org/2000/svg\" version=\"1.1\">\n",
       "  <defs>\n",
       "    <marker id=\"arrow\" markerWidth=\"10\" markerHeight=\"10\" refX=\"0\" refY=\"3\" orient=\"auto\">\n",
       "      <path d=\"M0,0 L0,6 L9,3\"/>\n",
       "    </marker>\n",
       "  </defs>\n",
       "  <line x1=\"1.71\" y1=\"0\" x2=\"3.71\" y2=\"0\" fill=\"none\" stroke=\"black\" stroke-width=\".04\" marker-end=\"url(#arrow)\"/>\n",
       "  <g>\n",
       "    <defs>\n",
       "      <mask id=\"mask-be0526bd-e03a-46a6-9829-c743c7155fc4\">\n",
       "        <rect x=\"-0.62\" y=\"-2.48\" width=\"7.64\" height=\"4.96\" fill=\"white\"/>\n",
       "        <g fill=\"black\">\n",
       "          <circle cx=\"0.71\" cy=\"-0.21\" r=\"0.20\"/>\n",
       "        </g>\n",
       "        <g font-family=\"monospace\" stroke=\"black\">\n",
       "          <g font-family=\"sans-serif\" font-size=\"0.50\" stroke-width=\"0.05\">\n",
       "            <text x=\"0.71\" y=\"-0.21\" dx=\"-0.20\" dy=\"0.20\">O</text>\n",
       "          </g>\n",
       "          <g font-size=\"0.25\" stroke-width=\"0.03\">\n",
       "            <text x=\"0.00\" y=\"0.21\" dx=\"-0.05\" dy=\"0.20\" text-anchor=\"end\">4</text>\n",
       "            <text x=\"0.71\" y=\"-0.21\" dx=\"-0.15\" dy=\"0.35\" text-anchor=\"end\">1</text>\n",
       "          </g>\n",
       "          <g font-family=\"monospace\" font-size=\"0.3\" stroke-width=\"0.03\">\n",
       "            <text x=\"0.71\" y=\"-0.21\" dx=\"0.05\" dy=\"-0.20\">↑</text>\n",
       "            <text x=\"0.71\" y=\"-0.21\" dx=\"-0.05\" dy=\"-0.20\" text-anchor=\"end\">15</text>\n",
       "          </g>\n",
       "        </g>\n",
       "      </mask>\n",
       "    </defs>\n",
       "    <g fill=\"none\" stroke=\"black\" stroke-width=\"0.04\"  mask=\"url(#mask-be0526bd-e03a-46a6-9829-c743c7155fc4)\">\n",
       "      <line x1=\"-0.62\" y1=\"-2.48\" x2=\"7.02\" y2=\"-2.48\" stroke=\"none\"/>\n",
       "      <line x1=\"0.00\" y1=\"0.21\" x2=\"0.71\" y2=\"-0.21\"/>\n",
       "    </g>\n",
       "    <g font-family=\"monospace\">\n",
       "      <g fill=\"#FF0D0D\" font-family=\"sans-serif\">\n",
       "        <text x=\"0.71\" y=\"-0.21\" dx=\"-0.20\" dy=\"0.20\" font-size=\"0.50\">O</text>\n",
       "      </g>\n",
       "      <g font-family=\"monospace\" fill=\"black\" font-size=\"0.30\">\n",
       "        <text x=\"0.71\" y=\"-0.21\" dx=\"0.05\" dy=\"-0.20\">↑</text>\n",
       "        <text x=\"0.71\" y=\"-0.21\" dx=\"-0.05\" dy=\"-0.20\" text-anchor=\"end\">15</text>\n",
       "      </g>\n",
       "      <g fill=\"#0305A7\" font-size=\"0.25\">\n",
       "        <text x=\"0.00\" y=\"0.21\" dx=\"-0.05\" dy=\"0.20\" text-anchor=\"end\">4</text>\n",
       "        <text x=\"0.71\" y=\"-0.21\" dx=\"-0.15\" dy=\"0.35\" text-anchor=\"end\">1</text>\n",
       "      </g>\n",
       "    </g>\n",
       "  </g>\n",
       "  <g>\n",
       "    <defs>\n",
       "      <mask id=\"mask-ce40f01e-0a61-436f-8fa5-733eae41c342\">\n",
       "        <rect x=\"-0.62\" y=\"-2.48\" width=\"7.64\" height=\"4.96\" fill=\"white\"/>\n",
       "        <g fill=\"black\">\n",
       "          <circle cx=\"5.43\" cy=\"-1.44\" r=\"0.20\"/>\n",
       "          <circle cx=\"4.71\" cy=\"-1.86\" r=\"0.20\"/>\n",
       "          <circle cx=\"6.14\" cy=\"-1.86\" r=\"0.20\"/>\n",
       "          <circle cx=\"5.43\" cy=\"1.86\" r=\"0.20\"/>\n",
       "        </g>\n",
       "        <g font-family=\"monospace\" stroke=\"black\">\n",
       "          <g font-family=\"sans-serif\" font-size=\"0.50\" stroke-width=\"0.05\">\n",
       "            <text x=\"5.43\" y=\"-1.44\" dx=\"-0.20\" dy=\"0.20\">N</text>\n",
       "            <text x=\"4.71\" y=\"-1.86\" dx=\"-0.20\" dy=\"0.20\">O</text>\n",
       "            <text x=\"6.14\" y=\"-1.86\" dx=\"-0.20\" dy=\"0.20\">O</text>\n",
       "            <text x=\"5.43\" y=\"1.86\" dx=\"-0.20\" dy=\"0.20\">OH</text>\n",
       "          </g>\n",
       "          <g font-size=\"0.25\" stroke-width=\"0.03\">\n",
       "            <text x=\"5.43\" y=\"-0.62\" dx=\"-0.05\" dy=\"0.20\" text-anchor=\"end\">4</text>\n",
       "            <text x=\"6.14\" y=\"-0.21\" dx=\"-0.05\" dy=\"0.20\" text-anchor=\"end\">5</text>\n",
       "            <text x=\"6.14\" y=\"0.62\" dx=\"-0.05\" dy=\"0.20\" text-anchor=\"end\">6</text>\n",
       "            <text x=\"5.43\" y=\"1.03\" dx=\"-0.05\" dy=\"0.20\" text-anchor=\"end\">7</text>\n",
       "            <text x=\"4.71\" y=\"0.62\" dx=\"-0.05\" dy=\"0.20\" text-anchor=\"end\">8</text>\n",
       "            <text x=\"4.71\" y=\"-0.21\" dx=\"-0.05\" dy=\"0.20\" text-anchor=\"end\">9</text>\n",
       "            <text x=\"5.43\" y=\"-1.44\" dx=\"-0.15\" dy=\"0.35\" text-anchor=\"end\">10</text>\n",
       "            <text x=\"4.71\" y=\"-1.86\" dx=\"-0.15\" dy=\"0.35\" text-anchor=\"end\">11</text>\n",
       "            <text x=\"6.14\" y=\"-1.86\" dx=\"-0.15\" dy=\"0.35\" text-anchor=\"end\">12</text>\n",
       "            <text x=\"5.43\" y=\"1.86\" dx=\"-0.15\" dy=\"0.35\" text-anchor=\"end\">13</text>\n",
       "          </g>\n",
       "          <g font-family=\"monospace\" font-size=\"0.3\" stroke-width=\"0.03\">\n",
       "           <text x=\"5.43\" y=\"-1.44\" dx=\"0.05\" dy=\"-0.20\">+</text>\n",
       "           <text x=\"6.14\" y=\"-1.86\" dx=\"0.05\" dy=\"-0.20\">-</text>\n",
       "          </g>\n",
       "        </g>\n",
       "      </mask>\n",
       "    </defs>\n",
       "    <g fill=\"none\" stroke=\"black\" stroke-width=\"0.04\"  mask=\"url(#mask-ce40f01e-0a61-436f-8fa5-733eae41c342)\">\n",
       "      <line x1=\"5.43\" y1=\"-0.62\" x2=\"6.14\" y2=\"-0.21\"/>\n",
       "      <line x1=\"5.46\" y1=\"-0.57\" x2=\"4.74\" y2=\"-0.15\"/>\n",
       "      <line x1=\"5.40\" y1=\"-0.67\" x2=\"4.68\" y2=\"-0.26\"/>\n",
       "      <line x1=\"5.43\" y1=\"-0.62\" x2=\"5.43\" y2=\"-1.44\"/>\n",
       "      <line x1=\"6.20\" y1=\"-0.21\" x2=\"6.20\" y2=\"0.62\"/>\n",
       "      <line x1=\"6.08\" y1=\"-0.21\" x2=\"6.08\" y2=\"0.62\"/>\n",
       "      <line x1=\"6.14\" y1=\"0.62\" x2=\"5.43\" y2=\"1.03\"/>\n",
       "      <line x1=\"5.40\" y1=\"1.08\" x2=\"4.68\" y2=\"0.67\"/>\n",
       "      <line x1=\"5.46\" y1=\"0.98\" x2=\"4.74\" y2=\"0.57\"/>\n",
       "      <line x1=\"5.43\" y1=\"1.03\" x2=\"5.43\" y2=\"1.86\"/>\n",
       "      <line x1=\"4.71\" y1=\"0.62\" x2=\"4.71\" y2=\"-0.21\"/>\n",
       "      <line x1=\"5.40\" y1=\"-1.39\" x2=\"4.68\" y2=\"-1.80\"/>\n",
       "      <line x1=\"5.46\" y1=\"-1.50\" x2=\"4.74\" y2=\"-1.91\"/>\n",
       "      <line x1=\"5.43\" y1=\"-1.44\" x2=\"6.14\" y2=\"-1.86\"/>\n",
       "    </g>\n",
       "    <g font-family=\"monospace\">\n",
       "      <g fill=\"#3050F8\" font-family=\"sans-serif\">\n",
       "        <text x=\"5.43\" y=\"-1.44\" dx=\"-0.20\" dy=\"0.20\" font-size=\"0.50\">N</text>\n",
       "      </g>\n",
       "      <g fill=\"#FF0D0D\" font-family=\"sans-serif\">\n",
       "        <text x=\"4.71\" y=\"-1.86\" dx=\"-0.20\" dy=\"0.20\" font-size=\"0.50\">O</text>\n",
       "      </g>\n",
       "      <g fill=\"#FF0D0D\" font-family=\"sans-serif\">\n",
       "        <text x=\"6.14\" y=\"-1.86\" dx=\"-0.20\" dy=\"0.20\" font-size=\"0.50\">O</text>\n",
       "      </g>\n",
       "      <g fill=\"#FF0D0D\" font-family=\"sans-serif\">\n",
       "        <text x=\"5.43\" y=\"1.86\" dx=\"-0.20\" dy=\"0.20\" font-size=\"0.50\">OH</text>\n",
       "      </g>\n",
       "      <g font-family=\"monospace\" fill=\"black\" font-size=\"0.30\">\n",
       "        <text x=\"5.43\" y=\"-1.44\" dx=\"0.05\" dy=\"-0.20\">+</text>\n",
       "        <text x=\"6.14\" y=\"-1.86\" dx=\"0.05\" dy=\"-0.20\">-</text>\n",
       "      </g>\n",
       "      <g fill=\"#0305A7\" font-size=\"0.25\">\n",
       "        <text x=\"5.43\" y=\"-0.62\" dx=\"-0.05\" dy=\"0.20\" text-anchor=\"end\">4</text>\n",
       "        <text x=\"6.14\" y=\"-0.21\" dx=\"-0.05\" dy=\"0.20\" text-anchor=\"end\">5</text>\n",
       "        <text x=\"6.14\" y=\"0.62\" dx=\"-0.05\" dy=\"0.20\" text-anchor=\"end\">6</text>\n",
       "        <text x=\"5.43\" y=\"1.03\" dx=\"-0.05\" dy=\"0.20\" text-anchor=\"end\">7</text>\n",
       "        <text x=\"4.71\" y=\"0.62\" dx=\"-0.05\" dy=\"0.20\" text-anchor=\"end\">8</text>\n",
       "        <text x=\"4.71\" y=\"-0.21\" dx=\"-0.05\" dy=\"0.20\" text-anchor=\"end\">9</text>\n",
       "        <text x=\"5.43\" y=\"-1.44\" dx=\"-0.15\" dy=\"0.35\" text-anchor=\"end\">10</text>\n",
       "        <text x=\"4.71\" y=\"-1.86\" dx=\"-0.15\" dy=\"0.35\" text-anchor=\"end\">11</text>\n",
       "        <text x=\"6.14\" y=\"-1.86\" dx=\"-0.15\" dy=\"0.35\" text-anchor=\"end\">12</text>\n",
       "        <text x=\"5.43\" y=\"1.86\" dx=\"-0.15\" dy=\"0.35\" text-anchor=\"end\">13</text>\n",
       "      </g>\n",
       "    </g>\n",
       "  </g>\n",
       "</svg>"
      ],
      "text/plain": [
       "<CGRtools.containers.reaction.ReactionContainer at 0x7fb0b9070520>"
      ]
     },
     "execution_count": 89,
     "metadata": {},
     "output_type": "execute_result"
    }
   ],
   "source": [
    "r"
   ]
  },
  {
   "cell_type": "code",
   "execution_count": 90,
   "metadata": {},
   "outputs": [
    {
     "data": {
      "image/svg+xml": [
       "<svg width=\"7.64cm\" height=\"4.96cm\" viewBox=\"-0.62 -2.48 7.64 4.96\" xmlns=\"http://www.w3.org/2000/svg\" version=\"1.1\">\n",
       "  <defs>\n",
       "    <marker id=\"arrow\" markerWidth=\"10\" markerHeight=\"10\" refX=\"0\" refY=\"3\" orient=\"auto\">\n",
       "      <path d=\"M0,0 L0,6 L9,3\"/>\n",
       "    </marker>\n",
       "  </defs>\n",
       "  <line x1=\"1.71\" y1=\"0\" x2=\"3.71\" y2=\"0\" fill=\"none\" stroke=\"black\" stroke-width=\".04\" marker-end=\"url(#arrow)\"/>\n",
       "  <g>\n",
       "    <defs>\n",
       "      <mask id=\"mask-f9e28332-25d9-4e40-8fc5-121829383fa8\">\n",
       "        <rect x=\"-0.62\" y=\"-2.48\" width=\"7.64\" height=\"4.96\" fill=\"white\"/>\n",
       "        <g fill=\"black\">\n",
       "          <circle cx=\"0.71\" cy=\"-0.21\" r=\"0.20\"/>\n",
       "        </g>\n",
       "        <g font-family=\"monospace\" stroke=\"black\">\n",
       "          <g font-family=\"sans-serif\" font-size=\"0.50\" stroke-width=\"0.05\">\n",
       "            <text x=\"0.71\" y=\"-0.21\" dx=\"-0.20\" dy=\"0.20\">O</text>\n",
       "          </g>\n",
       "          <g font-size=\"0.25\" stroke-width=\"0.03\">\n",
       "            <text x=\"0.00\" y=\"0.21\" dx=\"-0.05\" dy=\"0.20\" text-anchor=\"end\">4</text>\n",
       "            <text x=\"0.71\" y=\"-0.21\" dx=\"-0.15\" dy=\"0.35\" text-anchor=\"end\">1</text>\n",
       "          </g>\n",
       "          <g font-family=\"monospace\" font-size=\"0.3\" stroke-width=\"0.03\">\n",
       "            <text x=\"0.71\" y=\"-0.21\" dx=\"0.05\" dy=\"-0.20\">↑</text>\n",
       "            <text x=\"0.71\" y=\"-0.21\" dx=\"-0.05\" dy=\"-0.20\" text-anchor=\"end\">15</text>\n",
       "          </g>\n",
       "        </g>\n",
       "      </mask>\n",
       "    </defs>\n",
       "    <g fill=\"none\" stroke=\"black\" stroke-width=\"0.04\"  mask=\"url(#mask-f9e28332-25d9-4e40-8fc5-121829383fa8)\">\n",
       "      <line x1=\"-0.62\" y1=\"-2.48\" x2=\"7.02\" y2=\"-2.48\" stroke=\"none\"/>\n",
       "      <line x1=\"0.00\" y1=\"0.21\" x2=\"0.71\" y2=\"-0.21\"/>\n",
       "    </g>\n",
       "    <g font-family=\"monospace\">\n",
       "      <g fill=\"#FF0D0D\" font-family=\"sans-serif\">\n",
       "        <text x=\"0.71\" y=\"-0.21\" dx=\"-0.20\" dy=\"0.20\" font-size=\"0.50\">O</text>\n",
       "      </g>\n",
       "      <g font-family=\"monospace\" fill=\"black\" font-size=\"0.30\">\n",
       "        <text x=\"0.71\" y=\"-0.21\" dx=\"0.05\" dy=\"-0.20\">↑</text>\n",
       "        <text x=\"0.71\" y=\"-0.21\" dx=\"-0.05\" dy=\"-0.20\" text-anchor=\"end\">15</text>\n",
       "      </g>\n",
       "      <g fill=\"#0305A7\" font-size=\"0.25\">\n",
       "        <text x=\"0.00\" y=\"0.21\" dx=\"-0.05\" dy=\"0.20\" text-anchor=\"end\">4</text>\n",
       "        <text x=\"0.71\" y=\"-0.21\" dx=\"-0.15\" dy=\"0.35\" text-anchor=\"end\">1</text>\n",
       "      </g>\n",
       "    </g>\n",
       "  </g>\n",
       "  <g>\n",
       "    <defs>\n",
       "      <mask id=\"mask-48ce7c4b-9323-4f8e-b63e-db31e3da29d0\">\n",
       "        <rect x=\"-0.62\" y=\"-2.48\" width=\"7.64\" height=\"4.96\" fill=\"white\"/>\n",
       "        <g fill=\"black\">\n",
       "          <circle cx=\"5.43\" cy=\"-1.44\" r=\"0.20\"/>\n",
       "          <circle cx=\"4.71\" cy=\"-1.86\" r=\"0.20\"/>\n",
       "          <circle cx=\"6.14\" cy=\"-1.86\" r=\"0.20\"/>\n",
       "          <circle cx=\"5.43\" cy=\"1.86\" r=\"0.20\"/>\n",
       "        </g>\n",
       "        <g font-family=\"monospace\" stroke=\"black\">\n",
       "          <g font-family=\"sans-serif\" font-size=\"0.50\" stroke-width=\"0.05\">\n",
       "            <text x=\"5.43\" y=\"-1.44\" dx=\"-0.20\" dy=\"0.20\">N</text>\n",
       "            <text x=\"4.71\" y=\"-1.86\" dx=\"-0.20\" dy=\"0.20\">O</text>\n",
       "            <text x=\"6.14\" y=\"-1.86\" dx=\"-0.20\" dy=\"0.20\">O</text>\n",
       "            <text x=\"5.43\" y=\"1.86\" dx=\"-0.20\" dy=\"0.20\">OH</text>\n",
       "          </g>\n",
       "          <g font-size=\"0.25\" stroke-width=\"0.03\">\n",
       "            <text x=\"5.43\" y=\"-0.62\" dx=\"-0.05\" dy=\"0.20\" text-anchor=\"end\">4</text>\n",
       "            <text x=\"6.14\" y=\"-0.21\" dx=\"-0.05\" dy=\"0.20\" text-anchor=\"end\">5</text>\n",
       "            <text x=\"6.14\" y=\"0.62\" dx=\"-0.05\" dy=\"0.20\" text-anchor=\"end\">6</text>\n",
       "            <text x=\"5.43\" y=\"1.03\" dx=\"-0.05\" dy=\"0.20\" text-anchor=\"end\">7</text>\n",
       "            <text x=\"4.71\" y=\"0.62\" dx=\"-0.05\" dy=\"0.20\" text-anchor=\"end\">8</text>\n",
       "            <text x=\"4.71\" y=\"-0.21\" dx=\"-0.05\" dy=\"0.20\" text-anchor=\"end\">9</text>\n",
       "            <text x=\"5.43\" y=\"-1.44\" dx=\"-0.15\" dy=\"0.35\" text-anchor=\"end\">10</text>\n",
       "            <text x=\"4.71\" y=\"-1.86\" dx=\"-0.15\" dy=\"0.35\" text-anchor=\"end\">11</text>\n",
       "            <text x=\"6.14\" y=\"-1.86\" dx=\"-0.15\" dy=\"0.35\" text-anchor=\"end\">12</text>\n",
       "            <text x=\"5.43\" y=\"1.86\" dx=\"-0.15\" dy=\"0.35\" text-anchor=\"end\">13</text>\n",
       "          </g>\n",
       "          <g font-family=\"monospace\" font-size=\"0.3\" stroke-width=\"0.03\">\n",
       "           <text x=\"5.43\" y=\"-1.44\" dx=\"0.05\" dy=\"-0.20\">+</text>\n",
       "           <text x=\"6.14\" y=\"-1.86\" dx=\"0.05\" dy=\"-0.20\">-</text>\n",
       "          </g>\n",
       "        </g>\n",
       "      </mask>\n",
       "    </defs>\n",
       "    <g fill=\"none\" stroke=\"black\" stroke-width=\"0.04\"  mask=\"url(#mask-48ce7c4b-9323-4f8e-b63e-db31e3da29d0)\">\n",
       "      <line x1=\"5.43\" y1=\"-0.62\" x2=\"6.14\" y2=\"-0.21\"/>\n",
       "      <line x1=\"5.46\" y1=\"-0.57\" x2=\"4.74\" y2=\"-0.15\"/>\n",
       "      <line x1=\"5.40\" y1=\"-0.67\" x2=\"4.68\" y2=\"-0.26\"/>\n",
       "      <line x1=\"5.43\" y1=\"-0.62\" x2=\"5.43\" y2=\"-1.44\"/>\n",
       "      <line x1=\"6.20\" y1=\"-0.21\" x2=\"6.20\" y2=\"0.62\"/>\n",
       "      <line x1=\"6.08\" y1=\"-0.21\" x2=\"6.08\" y2=\"0.62\"/>\n",
       "      <line x1=\"6.14\" y1=\"0.62\" x2=\"5.43\" y2=\"1.03\"/>\n",
       "      <line x1=\"5.40\" y1=\"1.08\" x2=\"4.68\" y2=\"0.67\"/>\n",
       "      <line x1=\"5.46\" y1=\"0.98\" x2=\"4.74\" y2=\"0.57\"/>\n",
       "      <line x1=\"5.43\" y1=\"1.03\" x2=\"5.43\" y2=\"1.86\"/>\n",
       "      <line x1=\"4.71\" y1=\"0.62\" x2=\"4.71\" y2=\"-0.21\"/>\n",
       "      <line x1=\"5.40\" y1=\"-1.39\" x2=\"4.68\" y2=\"-1.80\"/>\n",
       "      <line x1=\"5.46\" y1=\"-1.50\" x2=\"4.74\" y2=\"-1.91\"/>\n",
       "      <line x1=\"5.43\" y1=\"-1.44\" x2=\"6.14\" y2=\"-1.86\"/>\n",
       "    </g>\n",
       "    <g font-family=\"monospace\">\n",
       "      <g fill=\"#3050F8\" font-family=\"sans-serif\">\n",
       "        <text x=\"5.43\" y=\"-1.44\" dx=\"-0.20\" dy=\"0.20\" font-size=\"0.50\">N</text>\n",
       "      </g>\n",
       "      <g fill=\"#FF0D0D\" font-family=\"sans-serif\">\n",
       "        <text x=\"4.71\" y=\"-1.86\" dx=\"-0.20\" dy=\"0.20\" font-size=\"0.50\">O</text>\n",
       "      </g>\n",
       "      <g fill=\"#FF0D0D\" font-family=\"sans-serif\">\n",
       "        <text x=\"6.14\" y=\"-1.86\" dx=\"-0.20\" dy=\"0.20\" font-size=\"0.50\">O</text>\n",
       "      </g>\n",
       "      <g fill=\"#FF0D0D\" font-family=\"sans-serif\">\n",
       "        <text x=\"5.43\" y=\"1.86\" dx=\"-0.20\" dy=\"0.20\" font-size=\"0.50\">OH</text>\n",
       "      </g>\n",
       "      <g font-family=\"monospace\" fill=\"black\" font-size=\"0.30\">\n",
       "        <text x=\"5.43\" y=\"-1.44\" dx=\"0.05\" dy=\"-0.20\">+</text>\n",
       "        <text x=\"6.14\" y=\"-1.86\" dx=\"0.05\" dy=\"-0.20\">-</text>\n",
       "      </g>\n",
       "      <g fill=\"#0305A7\" font-size=\"0.25\">\n",
       "        <text x=\"5.43\" y=\"-0.62\" dx=\"-0.05\" dy=\"0.20\" text-anchor=\"end\">4</text>\n",
       "        <text x=\"6.14\" y=\"-0.21\" dx=\"-0.05\" dy=\"0.20\" text-anchor=\"end\">5</text>\n",
       "        <text x=\"6.14\" y=\"0.62\" dx=\"-0.05\" dy=\"0.20\" text-anchor=\"end\">6</text>\n",
       "        <text x=\"5.43\" y=\"1.03\" dx=\"-0.05\" dy=\"0.20\" text-anchor=\"end\">7</text>\n",
       "        <text x=\"4.71\" y=\"0.62\" dx=\"-0.05\" dy=\"0.20\" text-anchor=\"end\">8</text>\n",
       "        <text x=\"4.71\" y=\"-0.21\" dx=\"-0.05\" dy=\"0.20\" text-anchor=\"end\">9</text>\n",
       "        <text x=\"5.43\" y=\"-1.44\" dx=\"-0.15\" dy=\"0.35\" text-anchor=\"end\">10</text>\n",
       "        <text x=\"4.71\" y=\"-1.86\" dx=\"-0.15\" dy=\"0.35\" text-anchor=\"end\">11</text>\n",
       "        <text x=\"6.14\" y=\"-1.86\" dx=\"-0.15\" dy=\"0.35\" text-anchor=\"end\">12</text>\n",
       "        <text x=\"5.43\" y=\"1.86\" dx=\"-0.15\" dy=\"0.35\" text-anchor=\"end\">13</text>\n",
       "      </g>\n",
       "    </g>\n",
       "  </g>\n",
       "</svg>"
      ],
      "text/plain": [
       "<CGRtools.containers.reaction.ReactionContainer at 0x7fb0b9070520>"
      ]
     },
     "execution_count": 90,
     "metadata": {},
     "output_type": "execute_result"
    }
   ],
   "source": [
    "r.fix_positions() # this method fixes coordinates of molecules in reaction without calculation of atoms coordinates.\n",
    "r"
   ]
  },
  {
   "cell_type": "markdown",
   "metadata": {},
   "source": [
    "*QueryContainers* can be constructed in the same way as *MoleculeContainers*.\n",
    "\n",
    "Unlike other containers *QueryContainers* additionally support atoms, neighbors and hybridization lists."
   ]
  },
  {
   "cell_type": "code",
   "execution_count": 91,
   "metadata": {},
   "outputs": [],
   "source": [
    "q = QueryContainer() # creation of empty container\n",
    "q.add_atom('N') # add N atom, any isotope, not radical, neutral charge, \n",
    "                # number of neighbors and hybridization are irrelevant\n",
    "q.add_atom('C', neighbors=[2, 3], hybridization=2) # add carbon atom, any isotope, not radical, neutral charge, \n",
    "                # has 2 or 3 explicit neighbors and sp2 hybridization\n",
    "q.add_atom('O', neighbors=1)\n",
    "q.add_bond(1, 2, 1) # add single bond between atom 1 and 2 \n",
    "q.add_bond(2, 3, 2) # add double bond between atom 1 and 2 \n",
    "# any amide group will fit this query"
   ]
  },
  {
   "cell_type": "code",
   "execution_count": 92,
   "metadata": {},
   "outputs": [
    {
     "name": "stdout",
     "output_type": "stream",
     "text": [
      "[N]-[C;D23;Zd]=[O;D1]\n"
     ]
    },
    {
     "data": {
      "image/svg+xml": [
       "<svg width=\"2.74cm\" height=\"1.96cm\" viewBox=\"-1.04 -1.34 2.74 1.96\" xmlns=\"http://www.w3.org/2000/svg\" version=\"1.1\">\n",
       "  <g>\n",
       "    <defs>\n",
       "      <mask id=\"mask-bf1bfbf0-a2ee-4e73-995c-80edb0620499\">\n",
       "        <rect x=\"-1.04\" y=\"-1.34\" width=\"2.74\" height=\"1.96\" fill=\"white\"/>\n",
       "        <g fill=\"black\">\n",
       "          <circle cx=\"-0.41\" cy=\"-0.71\" r=\"0.20\"/>\n",
       "          <circle cx=\"0.82\" cy=\"-0.00\" r=\"0.20\"/>\n",
       "        </g>\n",
       "        <g font-family=\"monospace\" stroke=\"black\">\n",
       "          <g font-family=\"sans-serif\" font-size=\"0.50\" stroke-width=\"0.05\">\n",
       "           <text x=\"-0.41\" y=\"-0.71\" dx=\"-0.20\" dy=\"0.20\">N</text>\n",
       "           <text x=\"0.82\" y=\"-0.00\" dx=\"-0.20\" dy=\"0.20\">O</text>\n",
       "          </g>\n",
       "          <g font-size=\"0.25\" stroke-width=\"0.03\">\n",
       "           <text x=\"-0.41\" y=\"-0.71\" dx=\"-0.15\" dy=\"0.35\" text-anchor=\"end\">1</text>\n",
       "           <text x=\"0.00\" y=\"-0.00\" dx=\"-0.05\" dy=\"0.20\" text-anchor=\"end\">2</text>\n",
       "           <text x=\"0.82\" y=\"-0.00\" dx=\"-0.15\" dy=\"0.35\" text-anchor=\"end\">3</text>\n",
       "          </g>\n",
       "          <g font-family=\"monospace\" font-size=\"0.3\" stroke-width=\"0.03\">\n",
       "           <text x=\"0.00\" y=\"-0.00\" dx=\"0.07\" dy=\"0.15\">23</text>\n",
       "           <text x=\"0.00\" y=\"-0.00\" dx=\"0.07\" dy=\"0.33\">d</text>\n",
       "           <text x=\"0.82\" y=\"-0.00\" dx=\"0.17\" dy=\"0.15\">1</text>\n",
       "          </g>\n",
       "        </g>\n",
       "      </mask>\n",
       "    </defs>\n",
       "    <g fill=\"none\" stroke=\"black\" stroke-width=\"0.04\"  mask=\"url(#mask-bf1bfbf0-a2ee-4e73-995c-80edb0620499)\">\n",
       "      <line x1=\"-0.41\" y1=\"-0.71\" x2=\"0.00\" y2=\"-0.00\"/>\n",
       "      <line x1=\"-0.00\" y1=\"-0.06\" x2=\"0.82\" y2=\"-0.06\"/>\n",
       "      <line x1=\"0.00\" y1=\"0.06\" x2=\"0.83\" y2=\"0.06\"/>\n",
       "    </g>\n",
       "    <g font-family=\"monospace\">\n",
       "      <g fill=\"#3050F8\" font-family=\"sans-serif\">\n",
       "        <text x=\"-0.41\" y=\"-0.71\" dx=\"-0.20\" dy=\"0.20\" font-size=\"0.50\">N</text>\n",
       "      </g>\n",
       "      <g fill=\"#FF0D0D\" font-family=\"sans-serif\">\n",
       "        <text x=\"0.82\" y=\"-0.00\" dx=\"-0.20\" dy=\"0.20\" font-size=\"0.50\">O</text>\n",
       "      </g>\n",
       "      <g fill=\"#5D8AA8\" font-family=\"monospace\" font-size=\"0.30\">\n",
       "        <text x=\"0.00\" y=\"-0.00\" dx=\"0.075\" dy=\"0.15\" text-anchor=\"start\">23</text>\n",
       "        <text x=\"0.82\" y=\"-0.00\" dx=\"0.175\" dy=\"0.15\" text-anchor=\"start\">1</text>\n",
       "        <text x=\"0.00\" y=\"-0.00\" dx=\"0.075\" dy=\"0.33\" text-anchor=\"start\">d</text>\n",
       "      </g>\n",
       "      <g fill=\"#0305A7\" font-size=\"0.25\">\n",
       "        <text x=\"-0.41\" y=\"-0.71\" dx=\"-0.15\" dy=\"0.35\" text-anchor=\"end\">1</text>\n",
       "        <text x=\"0.00\" y=\"-0.00\" dx=\"-0.05\" dy=\"0.20\" text-anchor=\"end\">2</text>\n",
       "        <text x=\"0.82\" y=\"-0.00\" dx=\"-0.15\" dy=\"0.35\" text-anchor=\"end\">3</text>\n",
       "      </g>\n",
       "    </g>\n",
       "  </g>\n",
       "</svg>"
      ],
      "text/plain": [
       "<CGRtools.containers.query.QueryContainer at 0x7fb0b8fffa00>"
      ]
     },
     "execution_count": 92,
     "metadata": {},
     "output_type": "execute_result"
    }
   ],
   "source": [
    "print(q) # print out signature (SMILES-like)\n",
    "q.clean2d()\n",
    "q"
   ]
  },
  {
   "cell_type": "markdown",
   "metadata": {},
   "source": [
    "## 1.6. Extending CGRtools\n",
    "\n",
    "You can easily customize CGRtools for your tasks.  \n",
    "CGRtools is OOP-oriented library with subclassing and inheritance support.\n",
    "\n",
    "As an example, we show how special marks on atoms for ligand donor centers can be added."
   ]
  },
  {
   "cell_type": "code",
   "execution_count": 93,
   "metadata": {},
   "outputs": [],
   "source": [
    "from CGRtools.periodictable import Core, C, O"
   ]
  },
  {
   "cell_type": "code",
   "execution_count": 94,
   "metadata": {},
   "outputs": [],
   "source": [
    "class Marked(Core):\n",
    "    __slots__ = '__mark' # all new attributes should be slotted!\n",
    "\n",
    "    def __init__(self, *args, **kwargs):\n",
    "        super().__init__(*args, **kwargs)\n",
    "        self.__mark = None # set default value for added attribute\n",
    "\n",
    "    @property\n",
    "    def mark(self):        # created new property \n",
    "        return self.__mark\n",
    "\n",
    "    @mark.setter\n",
    "    def mark(self, mark):\n",
    "        # do some checks and calculations\n",
    "        self.__mark = mark\n",
    "    \n",
    "    def __repr__(self):\n",
    "        if self.__isotope:\n",
    "            return f'{self.__class__.__name__[6:]}({self.__isotope})'\n",
    "        return f'{self.__class__.__name__[6:]}()'\n",
    "    \n",
    "    @property\n",
    "    def atomic_symbol(self) -> str:\n",
    "        return self.__class__.__name__[6:]\n",
    "\n",
    "\n",
    "class MarkedC(Marked, C):\n",
    "    pass\n",
    "\n",
    "\n",
    "class MarkedO(Marked, O):\n",
    "    pass"
   ]
  },
  {
   "cell_type": "code",
   "execution_count": 95,
   "metadata": {},
   "outputs": [
    {
     "name": "stdout",
     "output_type": "stream",
     "text": [
      "OC\n"
     ]
    },
    {
     "data": {
      "image/svg+xml": [
       "<svg width=\"2.32cm\" height=\"1.25cm\" viewBox=\"-1.45 -0.63 2.32 1.25\" xmlns=\"http://www.w3.org/2000/svg\" version=\"1.1\">\n",
       "  <g>\n",
       "    <defs>\n",
       "      <mask id=\"mask-88f36dd7-8588-4803-856d-384acf87592b\">\n",
       "        <rect x=\"-1.45\" y=\"-0.63\" width=\"2.32\" height=\"1.25\" fill=\"white\"/>\n",
       "        <g fill=\"black\">\n",
       "          <circle cx=\"0.00\" cy=\"-0.00\" r=\"0.20\"/>\n",
       "        </g>\n",
       "        <g font-family=\"monospace\" stroke=\"black\">\n",
       "          <g font-family=\"sans-serif\" font-size=\"0.50\" stroke-width=\"0.05\">\n",
       "            <text x=\"0.00\" y=\"-0.00\" dx=\"-0.20\" dy=\"0.20\">OH</text>\n",
       "          </g>\n",
       "          <g font-size=\"0.25\" stroke-width=\"0.03\">\n",
       "            <text x=\"-0.82\" y=\"-0.00\" dx=\"-0.05\" dy=\"0.20\" text-anchor=\"end\">1</text>\n",
       "            <text x=\"0.00\" y=\"-0.00\" dx=\"-0.15\" dy=\"0.35\" text-anchor=\"end\">2</text>\n",
       "          </g>\n",
       "        </g>\n",
       "      </mask>\n",
       "    </defs>\n",
       "    <g fill=\"none\" stroke=\"black\" stroke-width=\"0.04\"  mask=\"url(#mask-88f36dd7-8588-4803-856d-384acf87592b)\">\n",
       "      <line x1=\"-1.45\" y1=\"-0.63\" x2=\"0.87\" y2=\"-0.63\" stroke=\"none\"/>\n",
       "      <line x1=\"-0.82\" y1=\"-0.00\" x2=\"0.00\" y2=\"-0.00\"/>\n",
       "    </g>\n",
       "    <g font-family=\"monospace\">\n",
       "      <g fill=\"#FF0D0D\" font-family=\"sans-serif\">\n",
       "        <text x=\"0.00\" y=\"-0.00\" dx=\"-0.20\" dy=\"0.20\" font-size=\"0.50\">OH</text>\n",
       "      </g>\n",
       "      <g fill=\"#0305A7\" font-size=\"0.25\">\n",
       "        <text x=\"-0.82\" y=\"-0.00\" dx=\"-0.05\" dy=\"0.20\" text-anchor=\"end\">1</text>\n",
       "        <text x=\"0.00\" y=\"-0.00\" dx=\"-0.15\" dy=\"0.35\" text-anchor=\"end\">2</text>\n",
       "      </g>\n",
       "    </g>\n",
       "  </g>\n",
       "</svg>"
      ],
      "text/plain": [
       "<CGRtools.containers.molecule.MoleculeContainer at 0x7fb0b9084fe0>"
      ]
     },
     "execution_count": 95,
     "metadata": {},
     "output_type": "execute_result"
    }
   ],
   "source": [
    "m = MoleculeContainer() # create newly developed container MarkedMoleculeContainer\n",
    "m.add_atom(MarkedC())   # add custom atom C\n",
    "m.add_atom(MarkedO())   # add custom atom O\n",
    "m.add_bond(1, 2, 1)\n",
    "\n",
    "m.atom(2).mark = 1  # set mark on atom.\n",
    "\n",
    "print(m)\n",
    "m.clean2d()\n",
    "m"
   ]
  },
  {
   "cell_type": "code",
   "execution_count": 96,
   "metadata": {},
   "outputs": [
    {
     "data": {
      "text/plain": [
       "1"
      ]
     },
     "execution_count": 96,
     "metadata": {},
     "output_type": "execute_result"
    }
   ],
   "source": [
    "m.atom(2).mark # one can return mark"
   ]
  }
 ],
 "metadata": {
  "kernelspec": {
   "display_name": "cgrtools_master_p310",
   "language": "python",
   "name": "cgrtools-master"
  },
  "language_info": {
   "codemirror_mode": {
    "name": "ipython",
    "version": 3
   },
   "file_extension": ".py",
   "mimetype": "text/x-python",
   "name": "python",
   "nbconvert_exporter": "python",
   "pygments_lexer": "ipython3",
   "version": "3.10.6"
  }
 },
 "nbformat": 4,
 "nbformat_minor": 1
}
