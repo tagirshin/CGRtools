{
 "cells": [
  {
   "cell_type": "markdown",
   "metadata": {},
   "source": [
    "# 2. Signatures and duplicates selection\n",
    "\n",
    "- (c) 2019, 2020 Dr. Ramil Nugmanov;\n",
    "- (c) 2019 Dr. Timur Madzhidov; Ravil Mukhametgaleev\n",
    "- (c) 2022 Valentina Afonina\n",
    "\n",
    "Installation instructions of CGRtools package information and tutorial's files see on `https://github.com/cimm-kzn/CGRtools`\n",
    "\n",
    "NOTE: Tutorial should be performed sequentially from the start. Random cell running will lead to unexpected results. "
   ]
  },
  {
   "cell_type": "code",
   "execution_count": 1,
   "metadata": {},
   "outputs": [
    {
     "name": "stdout",
     "output_type": "stream",
     "text": [
      "Welcome!\n"
     ]
    }
   ],
   "source": [
    "import pkg_resources\n",
    "if pkg_resources.get_distribution('CGRtools').version.split('.')[:2] != ['4', '1']:\n",
    "    print('WARNING. Tutorial was tested on 4.1 version of CGRtools')\n",
    "else:\n",
    "    print('Welcome!')"
   ]
  },
  {
   "cell_type": "code",
   "execution_count": 2,
   "metadata": {
    "scrolled": true
   },
   "outputs": [],
   "source": [
    "# load data for tutorial\n",
    "from pickle import load\n",
    "from traceback import format_exc\n",
    "\n",
    "with open('molecules.dat', 'rb') as f:\n",
    "    molecules = load(f) # list of MoleculeContainer objects\n",
    "with open('reactions.dat', 'rb') as f:\n",
    "    reactions = load(f) # list of ReactionContainer objects\n",
    "\n",
    "m1, m2, m3 = molecules[:3] # molecule\n",
    "m7 = m3.copy()\n",
    "m11 = m3.copy()\n",
    "m11.standardize()\n",
    "m7.standardize()\n",
    "r1 = reactions[0] # reaction\n",
    "m1.delete_atom(3) \n",
    "cgr2 = ~r1\n",
    "benzene = m3.substructure([4,5,6,7,8,9]) \n",
    "m3.delete_bond(4, 5)"
   ]
  },
  {
   "cell_type": "markdown",
   "metadata": {},
   "source": [
    "## 2.1. Molecule Signatures\n",
    "*MoleculeContainer* has methods for unique molecule signature generation.\n",
    "Signature is SMILES string with canonical atoms ordering.\n",
    "\n",
    "For signature generation one need to call `str` function on MoleculeContainer object.  \n",
    "Fixed length hash of signature could be retrieved by calling `bytes` function on molecule (correspond to SHA 512 bitstring).\n",
    "\n",
    "Order of atoms calculated by Morgan-like algorithm. On initial state for each atoms it's integer code calculated based on its type. All bonds incident to atoms also coded as integers and stored in sorted tuple. Atom code and tuple of it's bonds used for ordering and similar atoms detecting. Ordered atoms rank is replaced with new integer code. Atoms of the same type with the same bonds types incident to it have equal numbers.\n",
    "\n",
    "Numbers codes found are used in Morgan algorithm cycle.\n",
    "Loop is repeated until all atoms will be unique or number of unique atoms will not change in 3 subsequent loops."
   ]
  },
  {
   "cell_type": "code",
   "execution_count": 3,
   "metadata": {},
   "outputs": [
    {
     "name": "stdout",
     "output_type": "stream",
     "text": [
      "OC(=O)C([O-])=O.[Na+]\n",
      "OC(=O)C([O-])=O.[Na+]\n"
     ]
    },
    {
     "data": {
      "image/svg+xml": [
       "<svg width=\"9.00cm\" height=\"3.39cm\" viewBox=\"-8.12 -1.70 9.00 3.39\" xmlns=\"http://www.w3.org/2000/svg\" version=\"1.1\">\n",
       "  <g>\n",
       "    <defs>\n",
       "      <mask id=\"mask-4ce6313d-e3e3-4466-9ba1-6a24fc57ad3c\">\n",
       "        <rect x=\"-8.12\" y=\"-1.70\" width=\"9.00\" height=\"3.39\" fill=\"white\"/>\n",
       "        <g fill=\"black\">\n",
       "          <circle cx=\"-6.67\" cy=\"-1.07\" r=\"0.20\"/>\n",
       "          <circle cx=\"-5.44\" cy=\"-0.36\" r=\"0.20\"/>\n",
       "          <circle cx=\"-6.26\" cy=\"1.07\" r=\"0.20\"/>\n",
       "          <circle cx=\"-7.50\" cy=\"0.36\" r=\"0.20\"/>\n",
       "          <ellipse cx=\"-0.07\" cy=\"-0.00\" rx=\"0.35\" ry=\"0.2\"/>\n",
       "        </g>\n",
       "        <g font-family=\"monospace\" stroke=\"black\">\n",
       "          <g font-family=\"sans-serif\" font-size=\"0.50\" stroke-width=\"0.05\">\n",
       "            <text x=\"-6.67\" y=\"-1.07\" dx=\"-0.20\" dy=\"0.20\">O</text>\n",
       "            <text x=\"-5.44\" y=\"-0.36\" dx=\"-0.20\" dy=\"0.20\">O</text>\n",
       "            <text x=\"-6.26\" y=\"1.07\" dx=\"-0.20\" dy=\"0.20\">O</text>\n",
       "            <text x=\"-7.50\" y=\"0.36\" dx=\"-0.20\" dy=\"0.20\">OH</text>\n",
       "            <text x=\"0.00\" y=\"-0.00\" dx=\"-0.35\" dy=\"0.20\">Na</text>\n",
       "          </g>\n",
       "          <g font-size=\"0.25\" stroke-width=\"0.03\">\n",
       "            <text x=\"-6.26\" y=\"-0.36\" dx=\"-0.05\" dy=\"0.20\" text-anchor=\"end\">5</text>\n",
       "            <text x=\"-6.67\" y=\"0.36\" dx=\"-0.05\" dy=\"0.20\" text-anchor=\"end\">6</text>\n",
       "            <text x=\"-6.67\" y=\"-1.07\" dx=\"-0.15\" dy=\"0.35\" text-anchor=\"end\">7</text>\n",
       "            <text x=\"-5.44\" y=\"-0.36\" dx=\"-0.15\" dy=\"0.35\" text-anchor=\"end\">8</text>\n",
       "            <text x=\"-6.26\" y=\"1.07\" dx=\"-0.15\" dy=\"0.35\" text-anchor=\"end\">9</text>\n",
       "            <text x=\"-7.50\" y=\"0.36\" dx=\"-0.15\" dy=\"0.35\" text-anchor=\"end\">10</text>\n",
       "            <text x=\"0.00\" y=\"-0.00\" dx=\"-0.30\" dy=\"0.35\" text-anchor=\"end\">11</text>\n",
       "          </g>\n",
       "          <g font-family=\"monospace\" font-size=\"0.3\" stroke-width=\"0.03\">\n",
       "           <text x=\"-5.44\" y=\"-0.36\" dx=\"0.05\" dy=\"-0.20\">-</text>\n",
       "           <text x=\"0.00\" y=\"-0.00\" dx=\"0.05\" dy=\"-0.20\">+</text>\n",
       "          </g>\n",
       "        </g>\n",
       "      </mask>\n",
       "    </defs>\n",
       "    <g fill=\"none\" stroke=\"black\" stroke-width=\"0.04\"  mask=\"url(#mask-4ce6313d-e3e3-4466-9ba1-6a24fc57ad3c)\">\n",
       "      <line x1=\"-6.26\" y1=\"-0.36\" x2=\"-6.67\" y2=\"0.36\"/>\n",
       "      <line x1=\"-6.31\" y1=\"-0.33\" x2=\"-6.73\" y2=\"-1.04\"/>\n",
       "      <line x1=\"-6.21\" y1=\"-0.39\" x2=\"-6.62\" y2=\"-1.10\"/>\n",
       "      <line x1=\"-6.26\" y1=\"-0.36\" x2=\"-5.44\" y2=\"-0.36\"/>\n",
       "      <line x1=\"-6.62\" y1=\"0.33\" x2=\"-6.21\" y2=\"1.04\"/>\n",
       "      <line x1=\"-6.73\" y1=\"0.39\" x2=\"-6.31\" y2=\"1.10\"/>\n",
       "      <line x1=\"-6.67\" y1=\"0.36\" x2=\"-7.50\" y2=\"0.36\"/>\n",
       "    </g>\n",
       "    <g font-family=\"monospace\">\n",
       "      <g fill=\"#FF0D0D\" font-family=\"sans-serif\">\n",
       "        <text x=\"-6.67\" y=\"-1.07\" dx=\"-0.20\" dy=\"0.20\" font-size=\"0.50\">O</text>\n",
       "      </g>\n",
       "      <g fill=\"#FF0D0D\" font-family=\"sans-serif\">\n",
       "        <text x=\"-5.44\" y=\"-0.36\" dx=\"-0.20\" dy=\"0.20\" font-size=\"0.50\">O</text>\n",
       "      </g>\n",
       "      <g fill=\"#FF0D0D\" font-family=\"sans-serif\">\n",
       "        <text x=\"-6.26\" y=\"1.07\" dx=\"-0.20\" dy=\"0.20\" font-size=\"0.50\">O</text>\n",
       "      </g>\n",
       "      <g fill=\"#FF0D0D\" font-family=\"sans-serif\">\n",
       "        <text x=\"-7.50\" y=\"0.36\" dx=\"-0.20\" dy=\"0.20\" font-size=\"0.50\">OH</text>\n",
       "      </g>\n",
       "      <g fill=\"#AB5CF2\" font-family=\"sans-serif\">\n",
       "        <text x=\"0.00\" y=\"-0.00\" dx=\"-0.35\" dy=\"0.20\" font-size=\"0.50\">Na</text>\n",
       "      </g>\n",
       "      <g font-family=\"monospace\" fill=\"black\" font-size=\"0.30\">\n",
       "        <text x=\"-5.44\" y=\"-0.36\" dx=\"0.05\" dy=\"-0.20\">-</text>\n",
       "        <text x=\"0.00\" y=\"-0.00\" dx=\"0.05\" dy=\"-0.20\">+</text>\n",
       "      </g>\n",
       "      <g fill=\"#0305A7\" font-size=\"0.25\">\n",
       "        <text x=\"-6.26\" y=\"-0.36\" dx=\"-0.05\" dy=\"0.20\" text-anchor=\"end\">5</text>\n",
       "        <text x=\"-6.67\" y=\"0.36\" dx=\"-0.05\" dy=\"0.20\" text-anchor=\"end\">6</text>\n",
       "        <text x=\"-6.67\" y=\"-1.07\" dx=\"-0.15\" dy=\"0.35\" text-anchor=\"end\">7</text>\n",
       "        <text x=\"-5.44\" y=\"-0.36\" dx=\"-0.15\" dy=\"0.35\" text-anchor=\"end\">8</text>\n",
       "        <text x=\"-6.26\" y=\"1.07\" dx=\"-0.15\" dy=\"0.35\" text-anchor=\"end\">9</text>\n",
       "        <text x=\"-7.50\" y=\"0.36\" dx=\"-0.15\" dy=\"0.35\" text-anchor=\"end\">10</text>\n",
       "        <text x=\"0.00\" y=\"-0.00\" dx=\"-0.30\" dy=\"0.35\" text-anchor=\"end\">11</text>\n",
       "      </g>\n",
       "    </g>\n",
       "  </g>\n",
       "</svg>"
      ],
      "text/plain": [
       "<CGRtools.containers.molecule.MoleculeContainer at 0x7fb390a627a0>"
      ]
     },
     "execution_count": 3,
     "metadata": {},
     "output_type": "execute_result"
    }
   ],
   "source": [
    "ms2 = str(m2)  # get and print signature\n",
    "print(ms2)  \n",
    "# or \n",
    "print(m2)\n",
    "\n",
    "hms2 = bytes(m2)  # get sha512 hash of signature as bytes-string\n",
    "m2"
   ]
  },
  {
   "cell_type": "markdown",
   "metadata": {},
   "source": [
    "String formatting is supported that is useful for reporting"
   ]
  },
  {
   "cell_type": "code",
   "execution_count": 4,
   "metadata": {},
   "outputs": [
    {
     "name": "stdout",
     "output_type": "stream",
     "text": [
      "f string OC(=O)C([O-])=O.[Na+]\n",
      "C-style string OC(=O)C([O-])=O.[Na+]\n",
      "format method OC(=O)C([O-])=O.[Na+]\n"
     ]
    }
   ],
   "source": [
    "print(f'f string {m2}')  # use signature in string formatting\n",
    "print('C-style string %s' % m2)\n",
    "print('format method {}'.format(m2))"
   ]
  },
  {
   "cell_type": "markdown",
   "metadata": {},
   "source": [
    "For Queries number of neighbors and hybridization will be added to signature. Note that in this case they are not readable as SMILES.\n",
    "But possible to hide this data."
   ]
  },
  {
   "cell_type": "code",
   "execution_count": 5,
   "metadata": {},
   "outputs": [
    {
     "name": "stdout",
     "output_type": "stream",
     "text": [
      "[Na;D0;H0;Zs+].[O;D1;H0;Zd]=[C;D3;H0;Zd](-[O;D1;H0;Zs-])-[C;D3;H0;Zd](=[O;D1;H0;Zd])-[O;D1;H1;Zs]\n",
      "[Na;H0;Zs+].[O;H0;Zd]=[C;H0;Zd](-[O;H0;Zs-])-[C;H0;Zd](=[O;H0;Zd])-[O;H1;Zs]\n",
      "[Na;D0;H0+].[O;D1;H0]=[C;D3;H0](-[O;D1;H0-])-[C;D3;H0](=[O;D1;H0])-[O;D1;H1]\n",
      "[Na;D0;Zs+].[O;D1;Zd]=[C;D3;Zd](-[O;D1;Zs-])-[C;D3;Zd](=[O;D1;Zd])-[O;D1;Zs]\n",
      "[Na;D0;H0;Zs+].[O;D1;H0;Zd]=[C;D3;H0;Zd](-[O;D1;H0;Zs-])-[C;D3;H0;Zd](=[O;D1;H0;Zd])-[O;D1;H1;Zs]\n",
      "[Na;D0+].[O;D1]=[C;D3](-[O;D1-])-[C;D3](=[O;D1])-[O;D1]\n",
      "[Na+].[O]=[C](-[O-])-[C](=[O])-[O]\n"
     ]
    },
    {
     "data": {
      "image/svg+xml": [
       "<svg width=\"9.00cm\" height=\"3.39cm\" viewBox=\"-8.12 -1.70 9.00 3.39\" xmlns=\"http://www.w3.org/2000/svg\" version=\"1.1\">\n",
       "  <g>\n",
       "    <defs>\n",
       "      <mask id=\"mask-98aa8e4c-6a89-43a8-8aa6-ea15671b6cb7\">\n",
       "        <rect x=\"-8.12\" y=\"-1.70\" width=\"9.00\" height=\"3.39\" fill=\"white\"/>\n",
       "        <g fill=\"black\">\n",
       "          <circle cx=\"-6.67\" cy=\"-1.07\" r=\"0.20\"/>\n",
       "          <circle cx=\"-5.44\" cy=\"-0.36\" r=\"0.20\"/>\n",
       "          <circle cx=\"-6.26\" cy=\"1.07\" r=\"0.20\"/>\n",
       "          <circle cx=\"-7.50\" cy=\"0.36\" r=\"0.20\"/>\n",
       "          <ellipse cx=\"-0.07\" cy=\"-0.00\" rx=\"0.35\" ry=\"0.2\"/>\n",
       "        </g>\n",
       "        <g font-family=\"monospace\" stroke=\"black\">\n",
       "          <g font-family=\"sans-serif\" font-size=\"0.50\" stroke-width=\"0.05\">\n",
       "           <text x=\"-6.67\" y=\"-1.07\" dx=\"-0.20\" dy=\"0.20\">O</text>\n",
       "           <text x=\"-5.44\" y=\"-0.36\" dx=\"-0.20\" dy=\"0.20\">O</text>\n",
       "           <text x=\"-6.26\" y=\"1.07\" dx=\"-0.20\" dy=\"0.20\">O</text>\n",
       "           <text x=\"-7.50\" y=\"0.36\" dx=\"-0.20\" dy=\"0.20\">O</text>\n",
       "           <text x=\"0.00\" y=\"-0.00\" dx=\"-0.35\" dy=\"0.20\">Na</text>\n",
       "          </g>\n",
       "          <g font-size=\"0.25\" stroke-width=\"0.03\">\n",
       "           <text x=\"-6.26\" y=\"-0.36\" dx=\"-0.05\" dy=\"0.20\" text-anchor=\"end\">5</text>\n",
       "           <text x=\"-6.67\" y=\"0.36\" dx=\"-0.05\" dy=\"0.20\" text-anchor=\"end\">6</text>\n",
       "           <text x=\"-6.67\" y=\"-1.07\" dx=\"-0.15\" dy=\"0.35\" text-anchor=\"end\">7</text>\n",
       "           <text x=\"-5.44\" y=\"-0.36\" dx=\"-0.15\" dy=\"0.35\" text-anchor=\"end\">8</text>\n",
       "           <text x=\"-6.26\" y=\"1.07\" dx=\"-0.15\" dy=\"0.35\" text-anchor=\"end\">9</text>\n",
       "           <text x=\"-7.50\" y=\"0.36\" dx=\"-0.15\" dy=\"0.35\" text-anchor=\"end\">10</text>\n",
       "           <text x=\"0.00\" y=\"-0.00\" dx=\"-0.30\" dy=\"0.35\" text-anchor=\"end\">11</text>\n",
       "          </g>\n",
       "          <g font-family=\"monospace\" font-size=\"0.3\" stroke-width=\"0.03\">\n",
       "           <text x=\"-6.26\" y=\"-0.36\" dx=\"0.07\" dy=\"0.15\">3</text>\n",
       "           <text x=\"-6.26\" y=\"-0.36\" dx=\"0.07\" dy=\"0.33\">d</text>\n",
       "           <text x=\"-6.67\" y=\"0.36\" dx=\"0.07\" dy=\"0.15\">3</text>\n",
       "           <text x=\"-6.67\" y=\"0.36\" dx=\"0.07\" dy=\"0.33\">d</text>\n",
       "           <text x=\"-6.67\" y=\"-1.07\" dx=\"0.17\" dy=\"0.15\">1</text>\n",
       "           <text x=\"-6.67\" y=\"-1.07\" dx=\"0.17\" dy=\"0.33\">d</text>\n",
       "           <text x=\"-5.44\" y=\"-0.36\" dx=\"0.05\" dy=\"-0.20\">-</text>\n",
       "           <text x=\"-5.44\" y=\"-0.36\" dx=\"0.17\" dy=\"0.15\">1</text>\n",
       "           <text x=\"-5.44\" y=\"-0.36\" dx=\"0.17\" dy=\"0.33\">s</text>\n",
       "           <text x=\"-6.26\" y=\"1.07\" dx=\"0.17\" dy=\"0.15\">1</text>\n",
       "           <text x=\"-6.26\" y=\"1.07\" dx=\"0.17\" dy=\"0.33\">d</text>\n",
       "           <text x=\"-7.50\" y=\"0.36\" dx=\"0.17\" dy=\"0.15\">1</text>\n",
       "           <text x=\"-7.50\" y=\"0.36\" dx=\"0.17\" dy=\"0.33\">s</text>\n",
       "           <text x=\"0.00\" y=\"-0.00\" dx=\"0.05\" dy=\"-0.20\">+</text>\n",
       "           <text x=\"0.00\" y=\"-0.00\" dx=\"0.33\" dy=\"0.15\">0</text>\n",
       "           <text x=\"0.00\" y=\"-0.00\" dx=\"0.33\" dy=\"0.33\">s</text>\n",
       "          </g>\n",
       "        </g>\n",
       "      </mask>\n",
       "    </defs>\n",
       "    <g fill=\"none\" stroke=\"black\" stroke-width=\"0.04\"  mask=\"url(#mask-98aa8e4c-6a89-43a8-8aa6-ea15671b6cb7)\">\n",
       "      <line x1=\"-6.26\" y1=\"-0.36\" x2=\"-6.67\" y2=\"0.36\"/>\n",
       "      <line x1=\"-6.31\" y1=\"-0.33\" x2=\"-6.73\" y2=\"-1.04\"/>\n",
       "      <line x1=\"-6.21\" y1=\"-0.39\" x2=\"-6.62\" y2=\"-1.10\"/>\n",
       "      <line x1=\"-6.26\" y1=\"-0.36\" x2=\"-5.44\" y2=\"-0.36\"/>\n",
       "      <line x1=\"-6.62\" y1=\"0.33\" x2=\"-6.21\" y2=\"1.04\"/>\n",
       "      <line x1=\"-6.73\" y1=\"0.39\" x2=\"-6.31\" y2=\"1.10\"/>\n",
       "      <line x1=\"-6.67\" y1=\"0.36\" x2=\"-7.50\" y2=\"0.36\"/>\n",
       "    </g>\n",
       "    <g font-family=\"monospace\">\n",
       "      <g fill=\"#FF0D0D\" font-family=\"sans-serif\">\n",
       "        <text x=\"-6.67\" y=\"-1.07\" dx=\"-0.20\" dy=\"0.20\" font-size=\"0.50\">O</text>\n",
       "      </g>\n",
       "      <g fill=\"#FF0D0D\" font-family=\"sans-serif\">\n",
       "        <text x=\"-5.44\" y=\"-0.36\" dx=\"-0.20\" dy=\"0.20\" font-size=\"0.50\">O</text>\n",
       "      </g>\n",
       "      <g fill=\"#FF0D0D\" font-family=\"sans-serif\">\n",
       "        <text x=\"-6.26\" y=\"1.07\" dx=\"-0.20\" dy=\"0.20\" font-size=\"0.50\">O</text>\n",
       "      </g>\n",
       "      <g fill=\"#FF0D0D\" font-family=\"sans-serif\">\n",
       "        <text x=\"-7.50\" y=\"0.36\" dx=\"-0.20\" dy=\"0.20\" font-size=\"0.50\">O</text>\n",
       "      </g>\n",
       "      <g fill=\"#AB5CF2\" font-family=\"sans-serif\">\n",
       "        <text x=\"0.00\" y=\"-0.00\" dx=\"-0.35\" dy=\"0.20\" font-size=\"0.50\">Na</text>\n",
       "      </g>\n",
       "      <g fill=\"#5D8AA8\" font-family=\"monospace\" font-size=\"0.30\">\n",
       "        <text x=\"-6.26\" y=\"-0.36\" dx=\"0.075\" dy=\"0.15\" text-anchor=\"start\">3</text>\n",
       "        <text x=\"-6.67\" y=\"0.36\" dx=\"0.075\" dy=\"0.15\" text-anchor=\"start\">3</text>\n",
       "        <text x=\"-6.67\" y=\"-1.07\" dx=\"0.175\" dy=\"0.15\" text-anchor=\"start\">1</text>\n",
       "        <text x=\"-5.44\" y=\"-0.36\" dx=\"0.175\" dy=\"0.15\" text-anchor=\"start\">1</text>\n",
       "        <text x=\"-6.26\" y=\"1.07\" dx=\"0.175\" dy=\"0.15\" text-anchor=\"start\">1</text>\n",
       "        <text x=\"-7.50\" y=\"0.36\" dx=\"0.175\" dy=\"0.15\" text-anchor=\"start\">1</text>\n",
       "        <text x=\"0.00\" y=\"-0.00\" dx=\"0.325\" dy=\"0.15\" text-anchor=\"start\">0</text>\n",
       "        <text x=\"-6.26\" y=\"-0.36\" dx=\"0.075\" dy=\"0.33\" text-anchor=\"start\">d</text>\n",
       "        <text x=\"-6.67\" y=\"0.36\" dx=\"0.075\" dy=\"0.33\" text-anchor=\"start\">d</text>\n",
       "        <text x=\"-6.67\" y=\"-1.07\" dx=\"0.175\" dy=\"0.33\" text-anchor=\"start\">d</text>\n",
       "        <text x=\"-5.44\" y=\"-0.36\" dx=\"0.175\" dy=\"0.33\" text-anchor=\"start\">s</text>\n",
       "        <text x=\"-6.26\" y=\"1.07\" dx=\"0.175\" dy=\"0.33\" text-anchor=\"start\">d</text>\n",
       "        <text x=\"-7.50\" y=\"0.36\" dx=\"0.175\" dy=\"0.33\" text-anchor=\"start\">s</text>\n",
       "        <text x=\"0.00\" y=\"-0.00\" dx=\"0.325\" dy=\"0.33\" text-anchor=\"start\">s</text>\n",
       "      </g>\n",
       "      <g fill=\"black\" font-family=\"monospace\" font-size=\"0.30\">\n",
       "        <text x=\"-5.44\" y=\"-0.36\" dx=\"0.05\" dy=\"-0.20\" font-size=\"0.30\">-</text>\n",
       "        <text x=\"0.00\" y=\"-0.00\" dx=\"0.05\" dy=\"-0.20\" font-size=\"0.30\">+</text>\n",
       "      </g>\n",
       "      <g fill=\"#0305A7\" font-size=\"0.25\">\n",
       "        <text x=\"-6.26\" y=\"-0.36\" dx=\"-0.05\" dy=\"0.20\" text-anchor=\"end\">5</text>\n",
       "        <text x=\"-6.67\" y=\"0.36\" dx=\"-0.05\" dy=\"0.20\" text-anchor=\"end\">6</text>\n",
       "        <text x=\"-6.67\" y=\"-1.07\" dx=\"-0.15\" dy=\"0.35\" text-anchor=\"end\">7</text>\n",
       "        <text x=\"-5.44\" y=\"-0.36\" dx=\"-0.15\" dy=\"0.35\" text-anchor=\"end\">8</text>\n",
       "        <text x=\"-6.26\" y=\"1.07\" dx=\"-0.15\" dy=\"0.35\" text-anchor=\"end\">9</text>\n",
       "        <text x=\"-7.50\" y=\"0.36\" dx=\"-0.15\" dy=\"0.35\" text-anchor=\"end\">10</text>\n",
       "        <text x=\"0.00\" y=\"-0.00\" dx=\"-0.30\" dy=\"0.35\" text-anchor=\"end\">11</text>\n",
       "      </g>\n",
       "    </g>\n",
       "  </g>\n",
       "</svg>"
      ],
      "text/plain": [
       "<CGRtools.containers.query.QueryContainer at 0x7fb38e6fe6c0>"
      ]
     },
     "execution_count": 5,
     "metadata": {},
     "output_type": "execute_result"
    }
   ],
   "source": [
    "mq = m2.substructure(m2, as_query=True)\n",
    "print(f'{mq}')  # get signatures with neighbors, hydrogens, rings, and hybridization data\n",
    "print('{:!n}'.format(mq))  # get signature without neighbors marks\n",
    "print('{:!h}'.format(mq))  # get signature without hybridization marks\n",
    "print('{:!H}'.format(mq))  # get signature without hydrogens marks\n",
    "print('{:!R}'.format(mq))  # get signature without rings marks\n",
    "print(format(mq, '!h!H')) # include only number of neighbors in signature\n",
    "print(f'{mq:!n!h!H!R}')  # hide all data\n",
    "mq"
   ]
  },
  {
   "cell_type": "markdown",
   "metadata": {},
   "source": [
    "Atoms in the QueryContainer are represented in the following way:  \n",
    "`[isotope;element_symbol;stereo state;D;H;r;Z;radical state;charge]`.   \n",
    "  \n",
    "`D` means number of neighbors,  \n",
    "`H` - number of hydrogens,  \n",
    "`r` - atom is part of ring includes number of atoms,  \n",
    "`Z` - hybridization.  \n",
    "Notation for hybridization is the following:\n",
    "\n",
    "    s - all bonds of atom are single\n",
    "    d - atom has one double bond and others are single\n",
    "    t - atom has one triple or two double bonds and other are single\n",
    "    a - atom is in aromatic ring\n",
    "\n",
    "Examples:  \n",
    "`[C;D2;r6;Za]` - carbon atom has 2 neighbors, it is the part of six-atoms ring, and it is in aromatic ring.  \n",
    "`[14N;D1;H0;Zs]` - nitrogen atom (isotope 14) has one neighbor, it isn't bonded with hydrogen atoms, and it has s hybridization\n",
    "\n",
    "\n",
    "Signatures for CGRContainer include only radical state marks (`*`) additionally to common SMILES notation."
   ]
  },
  {
   "cell_type": "markdown",
   "metadata": {},
   "source": [
    "Atoms in the QueryCGRContainer are represented in the following way:  \n",
    "`[isotope;element_symbol;stereo state;h1>h2n1>n2;radical state;charge]`.  \n",
    "  \n",
    "h1 means hybridization in reactant atom, h2 - hybridization in product atom, n1 means number of neighbors in  reactant atom, n2 - in product atom.  \n",
    "\n",
    "Example:  \n",
    "`[.>-][C;s>s0>1;*]` - single bond formation and carbon atom, for which s hybridization is kept in reaction, and number of neighbors changed from 0 to 1; it is radical\n"
   ]
  },
  {
   "cell_type": "markdown",
   "metadata": {},
   "source": [
    "Molecules comparable and hashable\n",
    "\n",
    "Comparison of MoleculeContainer is based on its signatures. Moreover, since strings in Python are hashable, MoleculeContaier also hashable.\n",
    "\n",
    "NOTE: MoleculeContainer can be changed. This can lead to unobvious behavior of the sets and dictionaries in which these molecules were placed before the change. Avoid changing molecules (standardize, aromatize, hydrogens and atoms/bonds changes) placed inside sets and dictionaries."
   ]
  },
  {
   "cell_type": "code",
   "execution_count": 6,
   "metadata": {},
   "outputs": [
    {
     "data": {
      "image/svg+xml": [
       "<svg width=\"2.21cm\" height=\"1.66cm\" viewBox=\"-10.72 -0.76 2.21 1.66\" xmlns=\"http://www.w3.org/2000/svg\" version=\"1.1\">\n",
       "  <g>\n",
       "    <defs>\n",
       "      <mask id=\"mask-2e686399-671a-4bb9-bb59-8573a04a4b31\">\n",
       "        <rect x=\"-10.72\" y=\"-0.76\" width=\"2.21\" height=\"1.66\" fill=\"white\"/>\n",
       "        <g fill=\"black\">\n",
       "          <circle cx=\"-9.38\" cy=\"-0.14\" r=\"0.20\"/>\n",
       "        </g>\n",
       "        <g font-family=\"monospace\" stroke=\"black\">\n",
       "          <g font-family=\"sans-serif\" font-size=\"0.50\" stroke-width=\"0.05\">\n",
       "            <text x=\"-9.38\" y=\"-0.14\" dx=\"-0.20\" dy=\"0.20\">OH</text>\n",
       "          </g>\n",
       "          <g font-size=\"0.25\" stroke-width=\"0.03\">\n",
       "            <text x=\"-10.10\" y=\"0.28\" dx=\"-0.05\" dy=\"0.20\" text-anchor=\"end\">4</text>\n",
       "            <text x=\"-9.38\" y=\"-0.14\" dx=\"-0.15\" dy=\"0.35\" text-anchor=\"end\">1</text>\n",
       "          </g>\n",
       "          <g font-family=\"monospace\" font-size=\"0.3\" stroke-width=\"0.03\">\n",
       "            <text x=\"-9.38\" y=\"-0.14\" dx=\"-0.05\" dy=\"-0.20\" text-anchor=\"end\">15</text>\n",
       "          </g>\n",
       "        </g>\n",
       "      </mask>\n",
       "    </defs>\n",
       "    <g fill=\"none\" stroke=\"black\" stroke-width=\"0.04\"  mask=\"url(#mask-2e686399-671a-4bb9-bb59-8573a04a4b31)\">\n",
       "      <line x1=\"-10.72\" y1=\"-0.76\" x2=\"-8.51\" y2=\"-0.76\" stroke=\"none\"/>\n",
       "      <line x1=\"-10.10\" y1=\"0.28\" x2=\"-9.38\" y2=\"-0.14\"/>\n",
       "    </g>\n",
       "    <g font-family=\"monospace\">\n",
       "      <g fill=\"#FF0D0D\" font-family=\"sans-serif\">\n",
       "        <text x=\"-9.38\" y=\"-0.14\" dx=\"-0.20\" dy=\"0.20\" font-size=\"0.50\">OH</text>\n",
       "      </g>\n",
       "      <g font-family=\"monospace\" fill=\"black\" font-size=\"0.30\">\n",
       "        <text x=\"-9.38\" y=\"-0.14\" dx=\"-0.05\" dy=\"-0.20\" text-anchor=\"end\">15</text>\n",
       "      </g>\n",
       "      <g fill=\"#0305A7\" font-size=\"0.25\">\n",
       "        <text x=\"-10.10\" y=\"0.28\" dx=\"-0.05\" dy=\"0.20\" text-anchor=\"end\">4</text>\n",
       "        <text x=\"-9.38\" y=\"-0.14\" dx=\"-0.15\" dy=\"0.35\" text-anchor=\"end\">1</text>\n",
       "      </g>\n",
       "    </g>\n",
       "  </g>\n",
       "</svg>"
      ],
      "text/plain": [
       "<CGRtools.containers.molecule.MoleculeContainer at 0x7fb390afed40>"
      ]
     },
     "execution_count": 6,
     "metadata": {},
     "output_type": "execute_result"
    }
   ],
   "source": [
    "m1"
   ]
  },
  {
   "cell_type": "code",
   "execution_count": 7,
   "metadata": {},
   "outputs": [
    {
     "data": {
      "image/svg+xml": [
       "<svg width=\"9.00cm\" height=\"3.39cm\" viewBox=\"-8.12 -1.70 9.00 3.39\" xmlns=\"http://www.w3.org/2000/svg\" version=\"1.1\">\n",
       "  <g>\n",
       "    <defs>\n",
       "      <mask id=\"mask-4ce6313d-e3e3-4466-9ba1-6a24fc57ad3c\">\n",
       "        <rect x=\"-8.12\" y=\"-1.70\" width=\"9.00\" height=\"3.39\" fill=\"white\"/>\n",
       "        <g fill=\"black\">\n",
       "          <circle cx=\"-6.67\" cy=\"-1.07\" r=\"0.20\"/>\n",
       "          <circle cx=\"-5.44\" cy=\"-0.36\" r=\"0.20\"/>\n",
       "          <circle cx=\"-6.26\" cy=\"1.07\" r=\"0.20\"/>\n",
       "          <circle cx=\"-7.50\" cy=\"0.36\" r=\"0.20\"/>\n",
       "          <ellipse cx=\"-0.07\" cy=\"-0.00\" rx=\"0.35\" ry=\"0.2\"/>\n",
       "        </g>\n",
       "        <g font-family=\"monospace\" stroke=\"black\">\n",
       "          <g font-family=\"sans-serif\" font-size=\"0.50\" stroke-width=\"0.05\">\n",
       "            <text x=\"-6.67\" y=\"-1.07\" dx=\"-0.20\" dy=\"0.20\">O</text>\n",
       "            <text x=\"-5.44\" y=\"-0.36\" dx=\"-0.20\" dy=\"0.20\">O</text>\n",
       "            <text x=\"-6.26\" y=\"1.07\" dx=\"-0.20\" dy=\"0.20\">O</text>\n",
       "            <text x=\"-7.50\" y=\"0.36\" dx=\"-0.20\" dy=\"0.20\">OH</text>\n",
       "            <text x=\"0.00\" y=\"-0.00\" dx=\"-0.35\" dy=\"0.20\">Na</text>\n",
       "          </g>\n",
       "          <g font-size=\"0.25\" stroke-width=\"0.03\">\n",
       "            <text x=\"-6.26\" y=\"-0.36\" dx=\"-0.05\" dy=\"0.20\" text-anchor=\"end\">5</text>\n",
       "            <text x=\"-6.67\" y=\"0.36\" dx=\"-0.05\" dy=\"0.20\" text-anchor=\"end\">6</text>\n",
       "            <text x=\"-6.67\" y=\"-1.07\" dx=\"-0.15\" dy=\"0.35\" text-anchor=\"end\">7</text>\n",
       "            <text x=\"-5.44\" y=\"-0.36\" dx=\"-0.15\" dy=\"0.35\" text-anchor=\"end\">8</text>\n",
       "            <text x=\"-6.26\" y=\"1.07\" dx=\"-0.15\" dy=\"0.35\" text-anchor=\"end\">9</text>\n",
       "            <text x=\"-7.50\" y=\"0.36\" dx=\"-0.15\" dy=\"0.35\" text-anchor=\"end\">10</text>\n",
       "            <text x=\"0.00\" y=\"-0.00\" dx=\"-0.30\" dy=\"0.35\" text-anchor=\"end\">11</text>\n",
       "          </g>\n",
       "          <g font-family=\"monospace\" font-size=\"0.3\" stroke-width=\"0.03\">\n",
       "           <text x=\"-5.44\" y=\"-0.36\" dx=\"0.05\" dy=\"-0.20\">-</text>\n",
       "           <text x=\"0.00\" y=\"-0.00\" dx=\"0.05\" dy=\"-0.20\">+</text>\n",
       "          </g>\n",
       "        </g>\n",
       "      </mask>\n",
       "    </defs>\n",
       "    <g fill=\"none\" stroke=\"black\" stroke-width=\"0.04\"  mask=\"url(#mask-4ce6313d-e3e3-4466-9ba1-6a24fc57ad3c)\">\n",
       "      <line x1=\"-6.26\" y1=\"-0.36\" x2=\"-6.67\" y2=\"0.36\"/>\n",
       "      <line x1=\"-6.31\" y1=\"-0.33\" x2=\"-6.73\" y2=\"-1.04\"/>\n",
       "      <line x1=\"-6.21\" y1=\"-0.39\" x2=\"-6.62\" y2=\"-1.10\"/>\n",
       "      <line x1=\"-6.26\" y1=\"-0.36\" x2=\"-5.44\" y2=\"-0.36\"/>\n",
       "      <line x1=\"-6.62\" y1=\"0.33\" x2=\"-6.21\" y2=\"1.04\"/>\n",
       "      <line x1=\"-6.73\" y1=\"0.39\" x2=\"-6.31\" y2=\"1.10\"/>\n",
       "      <line x1=\"-6.67\" y1=\"0.36\" x2=\"-7.50\" y2=\"0.36\"/>\n",
       "    </g>\n",
       "    <g font-family=\"monospace\">\n",
       "      <g fill=\"#FF0D0D\" font-family=\"sans-serif\">\n",
       "        <text x=\"-6.67\" y=\"-1.07\" dx=\"-0.20\" dy=\"0.20\" font-size=\"0.50\">O</text>\n",
       "      </g>\n",
       "      <g fill=\"#FF0D0D\" font-family=\"sans-serif\">\n",
       "        <text x=\"-5.44\" y=\"-0.36\" dx=\"-0.20\" dy=\"0.20\" font-size=\"0.50\">O</text>\n",
       "      </g>\n",
       "      <g fill=\"#FF0D0D\" font-family=\"sans-serif\">\n",
       "        <text x=\"-6.26\" y=\"1.07\" dx=\"-0.20\" dy=\"0.20\" font-size=\"0.50\">O</text>\n",
       "      </g>\n",
       "      <g fill=\"#FF0D0D\" font-family=\"sans-serif\">\n",
       "        <text x=\"-7.50\" y=\"0.36\" dx=\"-0.20\" dy=\"0.20\" font-size=\"0.50\">OH</text>\n",
       "      </g>\n",
       "      <g fill=\"#AB5CF2\" font-family=\"sans-serif\">\n",
       "        <text x=\"0.00\" y=\"-0.00\" dx=\"-0.35\" dy=\"0.20\" font-size=\"0.50\">Na</text>\n",
       "      </g>\n",
       "      <g font-family=\"monospace\" fill=\"black\" font-size=\"0.30\">\n",
       "        <text x=\"-5.44\" y=\"-0.36\" dx=\"0.05\" dy=\"-0.20\">-</text>\n",
       "        <text x=\"0.00\" y=\"-0.00\" dx=\"0.05\" dy=\"-0.20\">+</text>\n",
       "      </g>\n",
       "      <g fill=\"#0305A7\" font-size=\"0.25\">\n",
       "        <text x=\"-6.26\" y=\"-0.36\" dx=\"-0.05\" dy=\"0.20\" text-anchor=\"end\">5</text>\n",
       "        <text x=\"-6.67\" y=\"0.36\" dx=\"-0.05\" dy=\"0.20\" text-anchor=\"end\">6</text>\n",
       "        <text x=\"-6.67\" y=\"-1.07\" dx=\"-0.15\" dy=\"0.35\" text-anchor=\"end\">7</text>\n",
       "        <text x=\"-5.44\" y=\"-0.36\" dx=\"-0.15\" dy=\"0.35\" text-anchor=\"end\">8</text>\n",
       "        <text x=\"-6.26\" y=\"1.07\" dx=\"-0.15\" dy=\"0.35\" text-anchor=\"end\">9</text>\n",
       "        <text x=\"-7.50\" y=\"0.36\" dx=\"-0.15\" dy=\"0.35\" text-anchor=\"end\">10</text>\n",
       "        <text x=\"0.00\" y=\"-0.00\" dx=\"-0.30\" dy=\"0.35\" text-anchor=\"end\">11</text>\n",
       "      </g>\n",
       "    </g>\n",
       "  </g>\n",
       "</svg>"
      ],
      "text/plain": [
       "<CGRtools.containers.molecule.MoleculeContainer at 0x7fb390a627a0>"
      ]
     },
     "execution_count": 7,
     "metadata": {},
     "output_type": "execute_result"
    }
   ],
   "source": [
    "m2"
   ]
  },
  {
   "cell_type": "code",
   "execution_count": 8,
   "metadata": {},
   "outputs": [
    {
     "data": {
      "text/plain": [
       "True"
      ]
     },
     "execution_count": 8,
     "metadata": {},
     "output_type": "execute_result"
    }
   ],
   "source": [
    "m1 != m2 # different molecules"
   ]
  },
  {
   "cell_type": "code",
   "execution_count": 9,
   "metadata": {},
   "outputs": [
    {
     "data": {
      "image/svg+xml": [
       "<svg width=\"2.93cm\" height=\"4.96cm\" viewBox=\"1.80 -4.34 2.93 4.96\" xmlns=\"http://www.w3.org/2000/svg\" version=\"1.1\">\n",
       "  <g>\n",
       "    <defs>\n",
       "      <mask id=\"mask-b40cd0f4-e305-4c68-b21f-4d4849a982c2\">\n",
       "        <rect x=\"1.80\" y=\"-4.34\" width=\"2.93\" height=\"4.96\" fill=\"white\"/>\n",
       "        <g fill=\"black\">\n",
       "          <circle cx=\"3.14\" cy=\"-3.30\" r=\"0.20\"/>\n",
       "          <circle cx=\"2.43\" cy=\"-3.71\" r=\"0.20\"/>\n",
       "          <circle cx=\"3.86\" cy=\"-3.71\" r=\"0.20\"/>\n",
       "          <circle cx=\"3.14\" cy=\"-0.00\" r=\"0.20\"/>\n",
       "        </g>\n",
       "        <g font-family=\"monospace\" stroke=\"black\">\n",
       "          <g font-family=\"sans-serif\" font-size=\"0.50\" stroke-width=\"0.05\">\n",
       "            <text x=\"3.14\" y=\"-3.30\" dx=\"-0.20\" dy=\"0.20\">N</text>\n",
       "            <text x=\"2.43\" y=\"-3.71\" dx=\"-0.20\" dy=\"0.20\">O</text>\n",
       "            <text x=\"3.86\" y=\"-3.71\" dx=\"-0.20\" dy=\"0.20\">O</text>\n",
       "            <text x=\"3.14\" y=\"-0.00\" dx=\"-0.20\" dy=\"0.20\">OH</text>\n",
       "          </g>\n",
       "          <g font-size=\"0.25\" stroke-width=\"0.03\">\n",
       "            <text x=\"3.14\" y=\"-2.48\" dx=\"-0.05\" dy=\"0.20\" text-anchor=\"end\">4</text>\n",
       "            <text x=\"3.86\" y=\"-2.06\" dx=\"-0.05\" dy=\"0.20\" text-anchor=\"end\">5</text>\n",
       "            <text x=\"3.86\" y=\"-1.24\" dx=\"-0.05\" dy=\"0.20\" text-anchor=\"end\">6</text>\n",
       "            <text x=\"3.14\" y=\"-0.82\" dx=\"-0.05\" dy=\"0.20\" text-anchor=\"end\">7</text>\n",
       "            <text x=\"2.43\" y=\"-1.24\" dx=\"-0.05\" dy=\"0.20\" text-anchor=\"end\">8</text>\n",
       "            <text x=\"2.43\" y=\"-2.06\" dx=\"-0.05\" dy=\"0.20\" text-anchor=\"end\">9</text>\n",
       "            <text x=\"3.14\" y=\"-3.30\" dx=\"-0.15\" dy=\"0.35\" text-anchor=\"end\">10</text>\n",
       "            <text x=\"2.43\" y=\"-3.71\" dx=\"-0.15\" dy=\"0.35\" text-anchor=\"end\">11</text>\n",
       "            <text x=\"3.86\" y=\"-3.71\" dx=\"-0.15\" dy=\"0.35\" text-anchor=\"end\">12</text>\n",
       "            <text x=\"3.14\" y=\"-0.00\" dx=\"-0.15\" dy=\"0.35\" text-anchor=\"end\">13</text>\n",
       "          </g>\n",
       "          <g font-family=\"monospace\" font-size=\"0.3\" stroke-width=\"0.03\">\n",
       "           <text x=\"3.14\" y=\"-3.30\" dx=\"0.05\" dy=\"-0.20\">+</text>\n",
       "           <text x=\"3.86\" y=\"-3.71\" dx=\"0.05\" dy=\"-0.20\">-</text>\n",
       "          </g>\n",
       "        </g>\n",
       "      </mask>\n",
       "    </defs>\n",
       "    <g fill=\"none\" stroke=\"black\" stroke-width=\"0.04\"  mask=\"url(#mask-b40cd0f4-e305-4c68-b21f-4d4849a982c2)\">\n",
       "      <line x1=\"3.14\" y1=\"-2.48\" x2=\"3.86\" y2=\"-2.06\"/>\n",
       "      <line x1=\"3.17\" y1=\"-2.42\" x2=\"2.46\" y2=\"-2.01\"/>\n",
       "      <line x1=\"3.11\" y1=\"-2.53\" x2=\"2.40\" y2=\"-2.11\"/>\n",
       "      <line x1=\"3.14\" y1=\"-2.48\" x2=\"3.14\" y2=\"-3.30\"/>\n",
       "      <line x1=\"3.92\" y1=\"-2.06\" x2=\"3.92\" y2=\"-1.24\"/>\n",
       "      <line x1=\"3.80\" y1=\"-2.06\" x2=\"3.80\" y2=\"-1.24\"/>\n",
       "      <line x1=\"3.86\" y1=\"-1.24\" x2=\"3.14\" y2=\"-0.82\"/>\n",
       "      <line x1=\"3.11\" y1=\"-0.77\" x2=\"2.40\" y2=\"-1.19\"/>\n",
       "      <line x1=\"3.17\" y1=\"-0.88\" x2=\"2.46\" y2=\"-1.29\"/>\n",
       "      <line x1=\"3.14\" y1=\"-0.82\" x2=\"3.14\" y2=\"-0.00\"/>\n",
       "      <line x1=\"2.43\" y1=\"-1.24\" x2=\"2.43\" y2=\"-2.06\"/>\n",
       "      <line x1=\"3.11\" y1=\"-3.25\" x2=\"2.40\" y2=\"-3.66\"/>\n",
       "      <line x1=\"3.17\" y1=\"-3.35\" x2=\"2.46\" y2=\"-3.76\"/>\n",
       "      <line x1=\"3.14\" y1=\"-3.30\" x2=\"3.86\" y2=\"-3.71\"/>\n",
       "    </g>\n",
       "    <g font-family=\"monospace\">\n",
       "      <g fill=\"#3050F8\" font-family=\"sans-serif\">\n",
       "        <text x=\"3.14\" y=\"-3.30\" dx=\"-0.20\" dy=\"0.20\" font-size=\"0.50\">N</text>\n",
       "      </g>\n",
       "      <g fill=\"#FF0D0D\" font-family=\"sans-serif\">\n",
       "        <text x=\"2.43\" y=\"-3.71\" dx=\"-0.20\" dy=\"0.20\" font-size=\"0.50\">O</text>\n",
       "      </g>\n",
       "      <g fill=\"#FF0D0D\" font-family=\"sans-serif\">\n",
       "        <text x=\"3.86\" y=\"-3.71\" dx=\"-0.20\" dy=\"0.20\" font-size=\"0.50\">O</text>\n",
       "      </g>\n",
       "      <g fill=\"#FF0D0D\" font-family=\"sans-serif\">\n",
       "        <text x=\"3.14\" y=\"-0.00\" dx=\"-0.20\" dy=\"0.20\" font-size=\"0.50\">OH</text>\n",
       "      </g>\n",
       "      <g font-family=\"monospace\" fill=\"black\" font-size=\"0.30\">\n",
       "        <text x=\"3.14\" y=\"-3.30\" dx=\"0.05\" dy=\"-0.20\">+</text>\n",
       "        <text x=\"3.86\" y=\"-3.71\" dx=\"0.05\" dy=\"-0.20\">-</text>\n",
       "      </g>\n",
       "      <g fill=\"#0305A7\" font-size=\"0.25\">\n",
       "        <text x=\"3.14\" y=\"-2.48\" dx=\"-0.05\" dy=\"0.20\" text-anchor=\"end\">4</text>\n",
       "        <text x=\"3.86\" y=\"-2.06\" dx=\"-0.05\" dy=\"0.20\" text-anchor=\"end\">5</text>\n",
       "        <text x=\"3.86\" y=\"-1.24\" dx=\"-0.05\" dy=\"0.20\" text-anchor=\"end\">6</text>\n",
       "        <text x=\"3.14\" y=\"-0.82\" dx=\"-0.05\" dy=\"0.20\" text-anchor=\"end\">7</text>\n",
       "        <text x=\"2.43\" y=\"-1.24\" dx=\"-0.05\" dy=\"0.20\" text-anchor=\"end\">8</text>\n",
       "        <text x=\"2.43\" y=\"-2.06\" dx=\"-0.05\" dy=\"0.20\" text-anchor=\"end\">9</text>\n",
       "        <text x=\"3.14\" y=\"-3.30\" dx=\"-0.15\" dy=\"0.35\" text-anchor=\"end\">10</text>\n",
       "        <text x=\"2.43\" y=\"-3.71\" dx=\"-0.15\" dy=\"0.35\" text-anchor=\"end\">11</text>\n",
       "        <text x=\"3.86\" y=\"-3.71\" dx=\"-0.15\" dy=\"0.35\" text-anchor=\"end\">12</text>\n",
       "        <text x=\"3.14\" y=\"-0.00\" dx=\"-0.15\" dy=\"0.35\" text-anchor=\"end\">13</text>\n",
       "      </g>\n",
       "    </g>\n",
       "  </g>\n",
       "</svg>"
      ],
      "text/plain": [
       "<CGRtools.containers.molecule.MoleculeContainer at 0x7fb42561a3e0>"
      ]
     },
     "execution_count": 9,
     "metadata": {},
     "output_type": "execute_result"
    }
   ],
   "source": [
    "m7"
   ]
  },
  {
   "cell_type": "code",
   "execution_count": 10,
   "metadata": {},
   "outputs": [
    {
     "data": {
      "text/plain": [
       "True"
      ]
     },
     "execution_count": 10,
     "metadata": {},
     "output_type": "execute_result"
    }
   ],
   "source": [
    "m7 == m11 # copy of the same molecule"
   ]
  },
  {
   "cell_type": "code",
   "execution_count": 11,
   "metadata": {},
   "outputs": [
    {
     "data": {
      "text/plain": [
       "False"
      ]
     },
     "execution_count": 11,
     "metadata": {},
     "output_type": "execute_result"
    }
   ],
   "source": [
    "m7 is m11  # this is not same objects!"
   ]
  },
  {
   "cell_type": "code",
   "execution_count": 12,
   "metadata": {},
   "outputs": [
    {
     "data": {
      "text/plain": [
       "True"
      ]
     },
     "execution_count": 12,
     "metadata": {},
     "output_type": "execute_result"
    }
   ],
   "source": [
    "# Simplest way to exclude duplicated structures\n",
    "len({m1, m2, m7, m11}) == 3 # create set of unique molecules. Only 3 of them were different."
   ]
  },
  {
   "cell_type": "markdown",
   "metadata": {},
   "source": [
    "## 2.2. Reaction signatures\n",
    "ReactionContainer has its signature. Signature is SMIRKS string in which molecules of reactants, reagents, products presented in canonical order.\n",
    "\n",
    "API is the same as for molecules\n"
   ]
  },
  {
   "cell_type": "code",
   "execution_count": 13,
   "metadata": {},
   "outputs": [
    {
     "data": {
      "text/plain": [
       "'C(C(=O)O)(=O)O.C(C)[O-].C(O)C>>O(CC)C(C(OCC)=O)=O'"
      ]
     },
     "execution_count": 13,
     "metadata": {},
     "output_type": "execute_result"
    }
   ],
   "source": [
    "str(r1)"
   ]
  },
  {
   "cell_type": "markdown",
   "metadata": {},
   "source": [
    "Get reaction signature with mapping:"
   ]
  },
  {
   "cell_type": "code",
   "execution_count": 14,
   "metadata": {},
   "outputs": [
    {
     "name": "stdout",
     "output_type": "stream",
     "text": [
      "f-string: [C:5]([C:6](=[O:9])[OH:10])(=[O:7])[OH:8].[CH2:11]([CH3:12])[O-:2].[CH2:4]([OH:1])[CH3:3]>>[O:1]([CH2:4][CH3:3])[C:6]([C:5]([O:2][CH2:11][CH3:12])=[O:7])=[O:9]\n",
      "format method: [C:5]([C:6](=[O:9])[OH:10])(=[O:7])[OH:8].[CH2:11]([CH3:12])[O-:2].[CH2:4]([OH:1])[CH3:3]>>[O:1]([CH2:4][CH3:3])[C:6]([C:5]([O:2][CH2:11][CH3:12])=[O:7])=[O:9]\n",
      "format function:  [C:5]([C:6](=[O:9])[OH:10])(=[O:7])[OH:8].[CH2:11]([CH3:12])[O-:2].[CH2:4]([OH:1])[CH3:3]>>[O:1]([CH2:4][CH3:3])[C:6]([C:5]([O:2][CH2:11][CH3:12])=[O:7])=[O:9]\n"
     ]
    }
   ],
   "source": [
    "print(f'f-string: {r1:m}') \n",
    "print('format method: {:m}'.format(r1)) \n",
    "print('format function: ', format(r1, \"m\"))"
   ]
  },
  {
   "cell_type": "markdown",
   "metadata": {},
   "source": [
    "## 2.3. CGR signature\n",
    "CGRContainer have its signature. Signatures is SMIRKS-like strings where dynamic bond labels and dynamic atoms are also specified within squared brackets, so not only atoms but bonds could be written in brackets if a bond has complex parameters. Dynamic bonds in CGR have special label representing changes in bond orders. Dynamic atom corresponds to a change of formal charge or radical state of atom in reaction. Their labels are also given in brackets, including the atom symbol and text keys for atomic property in reactant and product, separated by symbol >. For a neutral atom A gaining a positive charge +n in reaction dynamic atom will be encoded as [A0>+n]. In case of charges +1 and -1, the number 1 is omitted. Properties for charges and radicals may be combined consecutively within one pair of brackets, e.g. [A0>-^>*] stands for an atom which becomes an anion-radical."
   ]
  },
  {
   "cell_type": "code",
   "execution_count": 15,
   "metadata": {},
   "outputs": [
    {
     "data": {
      "text/plain": [
       "'C(O[.>-]C(C([.>-][O->0]CC)([->.]O)=O)(=O)[->.]O)C'"
      ]
     },
     "execution_count": 15,
     "metadata": {},
     "output_type": "execute_result"
    }
   ],
   "source": [
    "str(cgr2)"
   ]
  },
  {
   "cell_type": "code",
   "execution_count": 16,
   "metadata": {},
   "outputs": [
    {
     "data": {
      "image/svg+xml": [
       "<svg width=\"5.79cm\" height=\"3.61cm\" viewBox=\"-1.34 -1.86 5.79 3.61\" xmlns=\"http://www.w3.org/2000/svg\" version=\"1.1\">\n",
       "  <g>\n",
       "    <defs>\n",
       "      <mask id=\"mask-54b0f998-9eab-48a7-bf2a-10649f8f1a65\">\n",
       "        <rect x=\"-1.34\" y=\"-1.86\" width=\"5.79\" height=\"3.61\" fill=\"white\"/>\n",
       "        <g fill=\"black\">\n",
       "          <circle cx=\"1.84\" cy=\"-0.71\" r=\"0.20\"/>\n",
       "          <circle cx=\"0.30\" cy=\"1.13\" r=\"0.20\"/>\n",
       "          <circle cx=\"0.00\" cy=\"-0.00\" r=\"0.20\"/>\n",
       "          <circle cx=\"2.14\" cy=\"0.41\" r=\"0.20\"/>\n",
       "          <circle cx=\"1.02\" cy=\"-0.71\" r=\"0.20\"/>\n",
       "          <circle cx=\"1.13\" cy=\"1.13\" r=\"0.20\"/>\n",
       "        </g>\n",
       "        <g font-family=\"monospace\" stroke=\"black\">\n",
       "          <g font-family=\"sans-serif\" font-size=\"0.50\" stroke-width=\"0.05\">\n",
       "           <text x=\"1.84\" y=\"-0.71\" dx=\"-0.20\" dy=\"0.20\">O</text>\n",
       "           <text x=\"0.30\" y=\"1.13\" dx=\"-0.20\" dy=\"0.20\">O</text>\n",
       "           <text x=\"0.00\" y=\"-0.00\" dx=\"-0.20\" dy=\"0.20\">O</text>\n",
       "           <text x=\"2.14\" y=\"0.41\" dx=\"-0.20\" dy=\"0.20\">O</text>\n",
       "           <text x=\"1.02\" y=\"-0.71\" dx=\"-0.20\" dy=\"0.20\">O</text>\n",
       "           <text x=\"1.13\" y=\"1.13\" dx=\"-0.20\" dy=\"0.20\">O</text>\n",
       "          </g>\n",
       "          <g font-family=\"monospace\" font-size=\"0.3\" stroke-width=\"0.03\">\n",
       "           <text x=\"2.14\" y=\"0.41\" dx=\"0.05\" dy=\"-0.20\">-»0</text>\n",
       "           <text x=\"2.14\" y=\"0.41\" dx=\"0.05\" dy=\"-0.20\">-</text>\n",
       "          </g>\n",
       "        </g>\n",
       "      </mask>\n",
       "    </defs>\n",
       "    <g fill=\"none\" stroke=\"black\" stroke-width=\"0.04\"  mask=\"url(#mask-54b0f998-9eab-48a7-bf2a-10649f8f1a65)\">\n",
       "      <line x1=\"1.84\" y1=\"-0.71\" x2=\"1.43\" y2=\"-0.00\" stroke=\"red\"/>\n",
       "      <line x1=\"0.30\" y1=\"1.13\" x2=\"0.71\" y2=\"0.41\" stroke=\"red\"/>\n",
       "      <line x1=\"0.00\" y1=\"-0.00\" x2=\"-0.00\" y2=\"-0.82\"/>\n",
       "      <line x1=\"0.00\" y1=\"-0.00\" x2=\"0.71\" y2=\"0.41\" stroke=\"green\"/>\n",
       "      <line x1=\"2.14\" y1=\"0.41\" x2=\"2.86\" y2=\"-0.00\"/>\n",
       "      <line x1=\"2.14\" y1=\"0.41\" x2=\"1.43\" y2=\"-0.00\" stroke=\"green\"/>\n",
       "      <line x1=\"-0.71\" y1=\"-1.24\" x2=\"-0.00\" y2=\"-0.82\"/>\n",
       "      <line x1=\"1.43\" y1=\"-0.00\" x2=\"0.71\" y2=\"0.41\"/>\n",
       "      <line x1=\"1.38\" y1=\"0.03\" x2=\"0.96\" y2=\"-0.68\"/>\n",
       "      <line x1=\"1.48\" y1=\"-0.03\" x2=\"1.07\" y2=\"-0.74\"/>\n",
       "      <line x1=\"0.77\" y1=\"0.38\" x2=\"1.18\" y2=\"1.10\"/>\n",
       "      <line x1=\"0.66\" y1=\"0.44\" x2=\"1.08\" y2=\"1.16\"/>\n",
       "      <line x1=\"2.86\" y1=\"-0.00\" x2=\"3.57\" y2=\"0.41\"/>\n",
       "    </g>\n",
       "    <g font-family=\"monospace\">\n",
       "      <g fill=\"#FF0D0D\" font-family=\"sans-serif\">\n",
       "        <text x=\"1.84\" y=\"-0.71\" dx=\"-0.20\" dy=\"0.20\" font-size=\"0.50\">O</text>\n",
       "      </g>\n",
       "      <g fill=\"#FF0D0D\" font-family=\"sans-serif\">\n",
       "        <text x=\"0.30\" y=\"1.13\" dx=\"-0.20\" dy=\"0.20\" font-size=\"0.50\">O</text>\n",
       "      </g>\n",
       "      <g fill=\"#FF0D0D\" font-family=\"sans-serif\">\n",
       "        <text x=\"0.00\" y=\"-0.00\" dx=\"-0.20\" dy=\"0.20\" font-size=\"0.50\">O</text>\n",
       "      </g>\n",
       "      <g fill=\"#FF0D0D\" font-family=\"sans-serif\">\n",
       "        <text x=\"2.14\" y=\"0.41\" dx=\"-0.20\" dy=\"0.20\" font-size=\"0.50\">O</text>\n",
       "      </g>\n",
       "      <g fill=\"#FF0D0D\" font-family=\"sans-serif\">\n",
       "        <text x=\"1.02\" y=\"-0.71\" dx=\"-0.20\" dy=\"0.20\" font-size=\"0.50\">O</text>\n",
       "      </g>\n",
       "      <g fill=\"#FF0D0D\" font-family=\"sans-serif\">\n",
       "        <text x=\"1.13\" y=\"1.13\" dx=\"-0.20\" dy=\"0.20\" font-size=\"0.50\">O</text>\n",
       "      </g>\n",
       "      <g font-family=\"monospace\" fill=\"black\" font-size=\"0.30\">\n",
       "        <text x=\"2.14\" y=\"0.41\" dx=\"0.05\" dy=\"-0.20\" font-size=\"0.30\">-»0</text>\n",
       "        <text x=\"2.14\" y=\"0.41\" dx=\"0.05\" dy=\"-0.20\" font-size=\"0.30\">-</text>\n",
       "      </g>\n",
       "    </g>\n",
       "  </g>\n",
       "</svg>"
      ],
      "text/plain": [
       "<CGRtools.containers.cgr.CGRContainer at 0x7fb390a63380>"
      ]
     },
     "execution_count": 16,
     "metadata": {},
     "output_type": "execute_result"
    }
   ],
   "source": [
    "cgr2.clean2d()\n",
    "cgr2"
   ]
  }
 ],
 "metadata": {
  "kernelspec": {
   "display_name": "cgrtools_master_p310",
   "language": "python",
   "name": "cgrtools-master"
  },
  "language_info": {
   "codemirror_mode": {
    "name": "ipython",
    "version": 3
   },
   "file_extension": ".py",
   "mimetype": "text/x-python",
   "name": "python",
   "nbconvert_exporter": "python",
   "pygments_lexer": "ipython3",
   "version": "3.10.6"
  }
 },
 "nbformat": 4,
 "nbformat_minor": 2
}
